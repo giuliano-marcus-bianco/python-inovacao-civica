{
 "cells": [
  {
   "cell_type": "markdown",
   "id": "32600998",
   "metadata": {},
   "source": [
    "# Exercício\n",
    "\n",
    "Construa um programa que:\n",
    " - Pergunte a usuária 2 números inteiros;\n",
    " - Crie uma lista numérica do intervalo;\n",
    " - Se o número for divisível por 3, substitua-o por \"Tecnologia\";\n",
    " - Se o número for divisível por 5, substitua-o por \"Cívica\";\n",
    " - Se o número for divisível por 3 e 5, substitua-o por \"Tecnologia Cívica\"."
   ]
  },
  {
   "cell_type": "code",
   "execution_count": 9,
   "id": "538fb5de",
   "metadata": {},
   "outputs": [
    {
     "name": "stdout",
     "output_type": "stream",
     "text": [
      "[0, 1, 2, 'Tecnologia', 4, 'Cívica', 'Tecnologia', 7, 8, 'Tecnologia', 'Cívica', 11, 'Tecnologia', 13, 14, 'Tecnologia Cívica', 16, 17, 'Tecnologia', 19, 'Cívica', 'Tecnologia', 22, 23, 'Tecnologia', 'Cívica', 26, 'Tecnologia', 28, 29, 'Tecnologia Cívica']\n"
     ]
    }
   ],
   "source": [
    "numero1 = int(input('Escreva um número inteiro: '))\n",
    "numero2 = int(input('Escreva número inteiro maior do que o interior: '))\n",
    "\n",
    "lista = list(range(numero1, numero2 + 1))\n",
    "\n",
    "i = 0\n",
    "\n",
    "while i < len(lista):\n",
    "    if lista[i] != 0:\n",
    "        if lista[i] % 3 == 0 and lista[i] % 5 == 0:\n",
    "            lista[i] = 'Tecnologia Cívica'\n",
    "        elif lista[i] % 3 == 0:\n",
    "            lista[i] = 'Tecnologia'\n",
    "        elif lista[i] % 5 == 0:\n",
    "            lista[i] = 'Cívica'\n",
    "    i += 1\n",
    "\n",
    "print(lista)"
   ]
  }
 ],
 "metadata": {
  "kernelspec": {
   "display_name": "Python 3 (ipykernel)",
   "language": "python",
   "name": "python3"
  },
  "language_info": {
   "codemirror_mode": {
    "name": "ipython",
    "version": 3
   },
   "file_extension": ".py",
   "mimetype": "text/x-python",
   "name": "python",
   "nbconvert_exporter": "python",
   "pygments_lexer": "ipython3",
   "version": "3.11.3"
  }
 },
 "nbformat": 4,
 "nbformat_minor": 5
}
