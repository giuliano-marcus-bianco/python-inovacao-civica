{
 "cells": [
  {
   "cell_type": "markdown",
   "metadata": {
    "colab_type": "text",
    "id": "view-in-github"
   },
   "source": [
    "<a href=\"https://colab.research.google.com/github/anicelysantos/oficina-codabr21/blob/main/oficina_codabr21.ipynb\" target=\"_parent\"><img src=\"https://colab.research.google.com/assets/colab-badge.svg\" alt=\"Open In Colab\"/></a>"
   ]
  },
  {
   "cell_type": "markdown",
   "metadata": {
    "id": "o3aw455X5MXf"
   },
   "source": [
    "# **Programação do zero a prática: Primeiros passos com Python** 🐍🎲🐼"
   ]
  },
  {
   "cell_type": "markdown",
   "metadata": {
    "id": "LSC0aDZy52SM"
   },
   "source": [
    "## Notebooks 💻"
   ]
  },
  {
   "cell_type": "markdown",
   "metadata": {
    "id": "Pknz2Rup56p2"
   },
   "source": [
    "\n",
    "\n",
    "*   O que são\n",
    "*   Como funcionam\n",
    "*   Mini tour pelos principais lugares\n",
    "*   Erros comuns:\n",
    "  *  Congelar a célula\n",
    "  *  Erro na célula\n",
    "\n"
   ]
  },
  {
   "cell_type": "markdown",
   "metadata": {
    "id": "PeH8HQvT2SuR"
   },
   "source": [
    "## Python, bem basiquinho 🐍"
   ]
  },
  {
   "cell_type": "markdown",
   "metadata": {
    "id": "AKh7duJomW_D"
   },
   "source": [
    "### Agenda"
   ]
  },
  {
   "cell_type": "markdown",
   "metadata": {
    "id": "6_sfJ0dH6fOL"
   },
   "source": [
    "*    O que é o Python\n",
    "*    Comentários\n",
    "*    Import\n",
    "  *  Zen do Python\n",
    "*    Tipos de dados\n",
    "  *  Type\n",
    "  *  String\n",
    "      *  Funções\n",
    "  *  Números \n",
    "  *  Booleanos\n",
    "*    Variável\n",
    "*    Método\n",
    "*    Função Print\n",
    "* Coleção de dados\n",
    "  *  Listas\n",
    "  * Dicionários\n",
    "* For\n",
    "* If e Else\n",
    "\n",
    "\n",
    "\n"
   ]
  },
  {
   "cell_type": "markdown",
   "metadata": {
    "id": "HLeQ3P_2mfQ5"
   },
   "source": [
    "### Import"
   ]
  },
  {
   "cell_type": "code",
   "execution_count": 1,
   "metadata": {
    "id": "l7SKQx7Y2qj2"
   },
   "outputs": [
    {
     "name": "stdout",
     "output_type": "stream",
     "text": [
      "The Zen of Python, by Tim Peters\n",
      "\n",
      "Beautiful is better than ugly.\n",
      "Explicit is better than implicit.\n",
      "Simple is better than complex.\n",
      "Complex is better than complicated.\n",
      "Flat is better than nested.\n",
      "Sparse is better than dense.\n",
      "Readability counts.\n",
      "Special cases aren't special enough to break the rules.\n",
      "Although practicality beats purity.\n",
      "Errors should never pass silently.\n",
      "Unless explicitly silenced.\n",
      "In the face of ambiguity, refuse the temptation to guess.\n",
      "There should be one-- and preferably only one --obvious way to do it.\n",
      "Although that way may not be obvious at first unless you're Dutch.\n",
      "Now is better than never.\n",
      "Although never is often better than *right* now.\n",
      "If the implementation is hard to explain, it's a bad idea.\n",
      "If the implementation is easy to explain, it may be a good idea.\n",
      "Namespaces are one honking great idea -- let's do more of those!\n"
     ]
    }
   ],
   "source": [
    "#Zen do Python\n",
    "# import this"
   ]
  },
  {
   "cell_type": "markdown",
   "metadata": {
    "id": "q9HwlFviQFg3"
   },
   "source": [
    "### String"
   ]
  },
  {
   "cell_type": "code",
   "execution_count": null,
   "metadata": {
    "id": "qJhRi0tCQX_8"
   },
   "outputs": [],
   "source": [
    "#'Olá Mundo'"
   ]
  },
  {
   "cell_type": "code",
   "execution_count": null,
   "metadata": {
    "id": "rJVt-fYuQdpk"
   },
   "outputs": [],
   "source": [
    "#\"Olá, pessoal!\""
   ]
  },
  {
   "cell_type": "code",
   "execution_count": null,
   "metadata": {
    "id": "M3zmmQNVSMJF"
   },
   "outputs": [],
   "source": [
    "#'Quinta'+'-'+'Feira'"
   ]
  },
  {
   "cell_type": "code",
   "execution_count": null,
   "metadata": {
    "id": "NfJXHnGRQ4_W"
   },
   "outputs": [],
   "source": [
    "#type('Oie')"
   ]
  },
  {
   "cell_type": "code",
   "execution_count": null,
   "metadata": {
    "id": "dJSFtgMsSdgF"
   },
   "outputs": [],
   "source": [
    "#Qual a diferença?\n",
    "#2+3 / '2'+'3'"
   ]
  },
  {
   "cell_type": "markdown",
   "metadata": {
    "id": "SnVrJqd7QWuw"
   },
   "source": [
    "### Números"
   ]
  },
  {
   "cell_type": "code",
   "execution_count": null,
   "metadata": {
    "id": "nsEzGSFiR-LS"
   },
   "outputs": [],
   "source": [
    "#Inteiros\n",
    "#type(21)"
   ]
  },
  {
   "cell_type": "code",
   "execution_count": null,
   "metadata": {
    "id": "wHLUI1B9W-t6"
   },
   "outputs": [],
   "source": [
    "# type(21.2)"
   ]
  },
  {
   "cell_type": "markdown",
   "metadata": {
    "id": "jPJEVHVgXZOa"
   },
   "source": [
    "**Operações matemáticas**"
   ]
  },
  {
   "cell_type": "code",
   "execution_count": null,
   "metadata": {
    "id": "o6RSlfBtXFJl"
   },
   "outputs": [],
   "source": [
    "#Soma\n",
    "#2 + 2"
   ]
  },
  {
   "cell_type": "code",
   "execution_count": null,
   "metadata": {
    "id": "GNuSronLXidb"
   },
   "outputs": [],
   "source": [
    "#Subtração\n",
    "#2-2"
   ]
  },
  {
   "cell_type": "code",
   "execution_count": null,
   "metadata": {
    "id": "DjxtY33_XpsS"
   },
   "outputs": [],
   "source": [
    "#Divisão\n",
    "#2/2"
   ]
  },
  {
   "cell_type": "code",
   "execution_count": null,
   "metadata": {
    "id": "HjsSnH6HX2-N"
   },
   "outputs": [],
   "source": [
    "#Multiplicação\n",
    "#2*2"
   ]
  },
  {
   "cell_type": "code",
   "execution_count": null,
   "metadata": {
    "id": "TYQHlWb-X-k9"
   },
   "outputs": [],
   "source": [
    "#Potência\n",
    "#2**2"
   ]
  },
  {
   "cell_type": "code",
   "execution_count": null,
   "metadata": {
    "id": "I0Lysd_tYLyx"
   },
   "outputs": [],
   "source": [
    "#Qual o resultado?\n",
    "2+4/2"
   ]
  },
  {
   "cell_type": "markdown",
   "metadata": {
    "id": "lM6AMQZlY_Q9"
   },
   "source": [
    "### Booleano"
   ]
  },
  {
   "cell_type": "code",
   "execution_count": null,
   "metadata": {
    "id": "qPNS9hNXZERE"
   },
   "outputs": [],
   "source": [
    "type(False)"
   ]
  },
  {
   "cell_type": "code",
   "execution_count": null,
   "metadata": {
    "id": "G88_f0ICZUub"
   },
   "outputs": [],
   "source": [
    "type(True)"
   ]
  },
  {
   "cell_type": "markdown",
   "metadata": {
    "id": "gZR98mv7bn9z"
   },
   "source": [
    "### Variáveis"
   ]
  },
  {
   "cell_type": "code",
   "execution_count": null,
   "metadata": {
    "id": "DKJ6WTF-bvUQ"
   },
   "outputs": [],
   "source": [
    "#numero = 35"
   ]
  },
  {
   "cell_type": "markdown",
   "metadata": {
    "id": "7jfB1jfaZgVb"
   },
   "source": [
    "**Operadores lógicos**"
   ]
  },
  {
   "cell_type": "code",
   "execution_count": null,
   "metadata": {
    "id": "yWKjui3CcU7S"
   },
   "outputs": [],
   "source": [
    "#Comparação\n",
    "#numero == 34"
   ]
  },
  {
   "cell_type": "code",
   "execution_count": null,
   "metadata": {
    "id": "jXsexwB6dSNz"
   },
   "outputs": [],
   "source": [
    "#Diferente\n",
    "#numero != 15"
   ]
  },
  {
   "cell_type": "code",
   "execution_count": null,
   "metadata": {
    "id": "F2zOSRH3Zfrs"
   },
   "outputs": [],
   "source": [
    "#Maior que\n",
    "#2 > 4"
   ]
  },
  {
   "cell_type": "code",
   "execution_count": null,
   "metadata": {
    "id": "nURbtZWXZqlM"
   },
   "outputs": [],
   "source": [
    "#Menor que\n",
    "#2 < 4"
   ]
  },
  {
   "cell_type": "code",
   "execution_count": null,
   "metadata": {
    "id": "ym9Mp5ULbM6z"
   },
   "outputs": [],
   "source": [
    "#Maior igual\n",
    "#numero >= 8"
   ]
  },
  {
   "cell_type": "code",
   "execution_count": null,
   "metadata": {
    "id": "qOUidzyXbhyn"
   },
   "outputs": [],
   "source": [
    "#Menor igual\n",
    "#numero <= 100"
   ]
  },
  {
   "cell_type": "markdown",
   "metadata": {
    "id": "o2NEBmkGebuN"
   },
   "source": [
    "### Métodos"
   ]
  },
  {
   "cell_type": "code",
   "execution_count": null,
   "metadata": {
    "id": "d3_H30ykfVYT"
   },
   "outputs": [],
   "source": [
    "#minha_fruta =  'banana'"
   ]
  },
  {
   "cell_type": "code",
   "execution_count": null,
   "metadata": {
    "id": "p9S85QiNfvFU"
   },
   "outputs": [],
   "source": [
    "#minha_fruta.upper()"
   ]
  },
  {
   "cell_type": "code",
   "execution_count": null,
   "metadata": {
    "id": "XeRr27rKf21q"
   },
   "outputs": [],
   "source": [
    "#minha_fruta.lower()"
   ]
  },
  {
   "cell_type": "code",
   "execution_count": null,
   "metadata": {
    "id": "jRagsc0xgNal"
   },
   "outputs": [],
   "source": [
    "#minha_fruta.count('a')"
   ]
  },
  {
   "cell_type": "code",
   "execution_count": null,
   "metadata": {
    "colab": {
     "base_uri": "https://localhost:8080/",
     "height": 35
    },
    "id": "rDLhJB5YhQbM",
    "outputId": "537956d4-d1b6-4397-a6f9-375c8f75e56b"
   },
   "outputs": [],
   "source": [
    "#bebida = 'água de coco'\n",
    "#bebida"
   ]
  },
  {
   "cell_type": "code",
   "execution_count": null,
   "metadata": {
    "colab": {
     "base_uri": "https://localhost:8080/"
    },
    "id": "7_5n3qS9hiG0",
    "outputId": "33b5a9c7-8c79-441e-96c9-57edd96a95a8"
   },
   "outputs": [],
   "source": [
    "#Separar\n",
    "#bebida.split()"
   ]
  },
  {
   "cell_type": "code",
   "execution_count": null,
   "metadata": {
    "id": "BUooZvyyhrDl"
   },
   "outputs": [],
   "source": [
    "#Métodos encandeados\n",
    "#bebida.upper().split()"
   ]
  },
  {
   "cell_type": "code",
   "execution_count": null,
   "metadata": {
    "id": "YJxZUz_OikVk"
   },
   "outputs": [],
   "source": [
    "#Mudanças na String\n",
    "#bebida_grande = bebida.upper().split()\n",
    "#bebida_grande"
   ]
  },
  {
   "cell_type": "markdown",
   "metadata": {
    "id": "AlWV8GmCjCnf"
   },
   "source": [
    "### Print"
   ]
  },
  {
   "cell_type": "code",
   "execution_count": null,
   "metadata": {
    "id": "lcZ1NohJjFzE"
   },
   "outputs": [],
   "source": [
    "#print('bom dia') "
   ]
  },
  {
   "cell_type": "code",
   "execution_count": null,
   "metadata": {
    "id": "MVjRSuGljURo"
   },
   "outputs": [],
   "source": [
    "#evento = 'Coda'"
   ]
  },
  {
   "cell_type": "code",
   "execution_count": null,
   "metadata": {
    "id": "bwPdT2R8lkui"
   },
   "outputs": [],
   "source": [
    "#print(f'bom dia, {evento}')"
   ]
  },
  {
   "cell_type": "markdown",
   "metadata": {
    "id": "VO4-8HRAsJOB"
   },
   "source": [
    "###Listas"
   ]
  },
  {
   "cell_type": "code",
   "execution_count": null,
   "metadata": {
    "id": "jMoT_D-0sOIX"
   },
   "outputs": [],
   "source": [
    "#frutas = ['pera', 'uva', 'maçã','laranja']"
   ]
  },
  {
   "cell_type": "code",
   "execution_count": null,
   "metadata": {
    "id": "hEIy0voYskSz"
   },
   "outputs": [],
   "source": [
    "#Pegar o segundo elemento\n",
    "#frutas[2]"
   ]
  },
  {
   "cell_type": "code",
   "execution_count": null,
   "metadata": {
    "id": "liMHYxC0ss9Q"
   },
   "outputs": [],
   "source": [
    "#Pegar o último elemento\n",
    "#frutas[-1]"
   ]
  },
  {
   "cell_type": "markdown",
   "metadata": {
    "id": "raHCbb2vuzkC"
   },
   "source": [
    "**Fatiamento de listas**"
   ]
  },
  {
   "cell_type": "code",
   "execution_count": null,
   "metadata": {
    "id": "o9WJJ5kZs18X"
   },
   "outputs": [],
   "source": [
    "#frutas[0:2]"
   ]
  },
  {
   "cell_type": "code",
   "execution_count": null,
   "metadata": {
    "id": "M4ncQU9ftIkz"
   },
   "outputs": [],
   "source": [
    "#frutas[:1]"
   ]
  },
  {
   "cell_type": "code",
   "execution_count": null,
   "metadata": {
    "id": "pzXVu8actZ5G"
   },
   "outputs": [],
   "source": [
    "#frutas[3:]"
   ]
  },
  {
   "cell_type": "code",
   "execution_count": null,
   "metadata": {
    "id": "_wOCunk5tsSs"
   },
   "outputs": [],
   "source": [
    "#Tamanho de uma lista\n",
    "#len(frutas)"
   ]
  },
  {
   "cell_type": "code",
   "execution_count": null,
   "metadata": {
    "id": "0z1i5oLUtwhn"
   },
   "outputs": [],
   "source": [
    "#Incluir um item\n",
    "#frutas.append('melancia')"
   ]
  },
  {
   "cell_type": "code",
   "execution_count": null,
   "metadata": {
    "id": "JaarEYrkt08f"
   },
   "outputs": [],
   "source": [
    "#Excluir um item\n",
    "#frutas.pop()"
   ]
  },
  {
   "cell_type": "markdown",
   "metadata": {
    "id": "je3NQKdRxlWD"
   },
   "source": [
    "###Dicionário"
   ]
  },
  {
   "cell_type": "code",
   "execution_count": null,
   "metadata": {
    "id": "Z9DRA3uZt_33"
   },
   "outputs": [],
   "source": [
    "salada_de_frutas = {'ingredientes': frutas,\n",
    "                    'preparo':'corte tudo e misture',\n",
    "                    'tempo':60\n",
    "                    }\n"
   ]
  },
  {
   "cell_type": "code",
   "execution_count": null,
   "metadata": {
    "id": "czfbnt0nyZfz"
   },
   "outputs": [],
   "source": [
    "#pegar um item\n",
    "#salada_de_frutas['ingredientes']"
   ]
  },
  {
   "cell_type": "code",
   "execution_count": null,
   "metadata": {
    "id": "jJWLs4WnypPo"
   },
   "outputs": [],
   "source": [
    "#adicionar item \n",
    "#salada_de_frutas['porções'] = 7"
   ]
  },
  {
   "cell_type": "code",
   "execution_count": null,
   "metadata": {
    "id": "aw06ygBsyvqm"
   },
   "outputs": [],
   "source": [
    "#excluir item\n",
    "del salada_de_frutas['tempo']"
   ]
  },
  {
   "cell_type": "markdown",
   "metadata": {
    "id": "WCSgJGvdzbPY"
   },
   "source": [
    "### Estrutura de repetição `For`"
   ]
  },
  {
   "cell_type": "code",
   "execution_count": null,
   "metadata": {
    "id": "4FdRAfc51jLo"
   },
   "outputs": [],
   "source": [
    "#iterando em listas\n",
    "for fruta in frutas:\n",
    "  print(fruta)"
   ]
  },
  {
   "cell_type": "code",
   "execution_count": null,
   "metadata": {
    "id": "-A5IbDK_3BOp"
   },
   "outputs": [],
   "source": [
    "#Pegar as chaves do dicionário\n",
    "for chave in salada_de_frutas:\n",
    "  print(chave)"
   ]
  },
  {
   "cell_type": "code",
   "execution_count": null,
   "metadata": {
    "id": "bkyqGJu43fDP"
   },
   "outputs": [],
   "source": [
    "#Pegar valor das chaves no dicionário\n",
    "for chave in salada_de_frutas:\n",
    "  print(salada_de_frutas[chave])"
   ]
  },
  {
   "cell_type": "code",
   "execution_count": null,
   "metadata": {
    "id": "QH_itNsA2Kh6"
   },
   "outputs": [],
   "source": [
    "#Iterando em elementos de uma string\n",
    "for letra in evento:\n",
    "  print(letra)"
   ]
  },
  {
   "cell_type": "markdown",
   "metadata": {
    "id": "F1o4dtZR2F9I"
   },
   "source": [
    "### Estrutura condicional `if`"
   ]
  },
  {
   "cell_type": "code",
   "execution_count": null,
   "metadata": {
    "id": "1TOsBM274-7r"
   },
   "outputs": [],
   "source": [
    "if 4 > 3:\n",
    "  print('É maior sim!')"
   ]
  },
  {
   "cell_type": "code",
   "execution_count": null,
   "metadata": {
    "id": "qn0aSzyM5MpV"
   },
   "outputs": [],
   "source": [
    "if 4 >= 7:\n",
    "  print('É maior sim!')\n",
    "else:\n",
    "  print('Claro que não!')"
   ]
  },
  {
   "cell_type": "code",
   "execution_count": 4,
   "metadata": {
    "id": "rDKJHAMb5fXq"
   },
   "outputs": [
    {
     "name": "stdout",
     "output_type": "stream",
     "text": [
      "sou jovem\n"
     ]
    }
   ],
   "source": [
    "idade = 21\n",
    "\n",
    "if idade > 30:\n",
    "  print('Sou adulto')\n",
    "elif idade > 19 and idade <= 30:\n",
    "  print('sou jovem')\n",
    "else:\n",
    "  print('sou adolas')\n",
    "\n"
   ]
  },
  {
   "cell_type": "markdown",
   "metadata": {
    "id": "xo7NFdsf0Id5"
   },
   "source": [
    "## Pandas 🐼🎲"
   ]
  },
  {
   "cell_type": "markdown",
   "metadata": {
    "id": "uTpW1Kil0Vlf"
   },
   "source": [
    "*  Importar o pandas\n",
    "*  Carga de dados\n",
    "*  Detalhando os dados\n",
    "*  Organizando os dados\n",
    "*  Filtrando os dados\n",
    "*  Agrupando e agregando\n",
    "*  Exportando "
   ]
  },
  {
   "cell_type": "markdown",
   "metadata": {
    "id": "wR2nJ5Rj7PpM"
   },
   "source": [
    "### Importar a `Biblioteca`"
   ]
  },
  {
   "cell_type": "code",
   "execution_count": 5,
   "metadata": {
    "id": "rWDNuStL41Te"
   },
   "outputs": [],
   "source": [
    "import pandas as pd"
   ]
  },
  {
   "cell_type": "markdown",
   "metadata": {
    "id": "87TxFyGU7Zm1"
   },
   "source": [
    "### Carga de dados"
   ]
  },
  {
   "cell_type": "code",
   "execution_count": 6,
   "metadata": {
    "id": "n36diWCK43nk"
   },
   "outputs": [],
   "source": [
    "df_empresas = pd.read_csv('https://raw.githubusercontent.com/anicelysantos/oficina-codabr21/main/empresas_trabalho_escravo.csv')"
   ]
  },
  {
   "cell_type": "markdown",
   "metadata": {
    "id": "tkqPwgdO9mmX"
   },
   "source": [
    "### Detalhando os dados"
   ]
  },
  {
   "cell_type": "code",
   "execution_count": 7,
   "metadata": {
    "id": "2lFuqije9lGb"
   },
   "outputs": [
    {
     "data": {
      "text/html": [
       "<div>\n",
       "<style scoped>\n",
       "    .dataframe tbody tr th:only-of-type {\n",
       "        vertical-align: middle;\n",
       "    }\n",
       "\n",
       "    .dataframe tbody tr th {\n",
       "        vertical-align: top;\n",
       "    }\n",
       "\n",
       "    .dataframe thead th {\n",
       "        text-align: right;\n",
       "    }\n",
       "</style>\n",
       "<table border=\"1\" class=\"dataframe\">\n",
       "  <thead>\n",
       "    <tr style=\"text-align: right;\">\n",
       "      <th></th>\n",
       "      <th>Ano</th>\n",
       "      <th>Operação</th>\n",
       "      <th>Dia/Mês</th>\n",
       "      <th>UF</th>\n",
       "      <th>Município</th>\n",
       "      <th>CNAE</th>\n",
       "      <th>Descrição CNAE</th>\n",
       "      <th>Proprietário</th>\n",
       "      <th>CNPJ/CEI/CPF</th>\n",
       "      <th>Estabelecimento Inspecionado</th>\n",
       "      <th>Nº Trab. cond. analog escravo</th>\n",
       "    </tr>\n",
       "  </thead>\n",
       "  <tbody>\n",
       "    <tr>\n",
       "      <th>0</th>\n",
       "      <td>2010</td>\n",
       "      <td>1</td>\n",
       "      <td>19/01/2010 a 29/01/2010</td>\n",
       "      <td>GO</td>\n",
       "      <td>MONTE ALEGRE DE GOIÁS</td>\n",
       "      <td>0151201</td>\n",
       "      <td>CRIAÇÃO DE BOVINOS P</td>\n",
       "      <td>THIAGO NEIVA HONORATO\\n</td>\n",
       "      <td>330874152</td>\n",
       "      <td>FAZENDA JOÃO LUIZ</td>\n",
       "      <td>3</td>\n",
       "    </tr>\n",
       "    <tr>\n",
       "      <th>1</th>\n",
       "      <td>2010</td>\n",
       "      <td>1</td>\n",
       "      <td>19/01/2010 a 29/01/2010</td>\n",
       "      <td>GO</td>\n",
       "      <td>MONTE ALEGRE DE GOIÁS</td>\n",
       "      <td>0151201</td>\n",
       "      <td>CRIAÇÃO DE BOVINOS P</td>\n",
       "      <td>RENIUTON SOUZA DE MORAES\\n</td>\n",
       "      <td>24845256134</td>\n",
       "      <td>FAZENDA OLHO D'ÁGUA</td>\n",
       "      <td>5</td>\n",
       "    </tr>\n",
       "    <tr>\n",
       "      <th>2</th>\n",
       "      <td>2010</td>\n",
       "      <td>1</td>\n",
       "      <td>19/01/2010 a 29/01/2010</td>\n",
       "      <td>TO</td>\n",
       "      <td>NATIVIDADE</td>\n",
       "      <td>0151201</td>\n",
       "      <td>CRIAÇÃO DE BOVINOS P</td>\n",
       "      <td>EMIVAL RAMOS CAIADO FILHO\\n</td>\n",
       "      <td>9655298191</td>\n",
       "      <td>FAZENDA SANTA MÔNICA</td>\n",
       "      <td>26</td>\n",
       "    </tr>\n",
       "    <tr>\n",
       "      <th>3</th>\n",
       "      <td>2010</td>\n",
       "      <td>2</td>\n",
       "      <td>26/01/2010 a 05/02/2010</td>\n",
       "      <td>PA</td>\n",
       "      <td>MARABÁ</td>\n",
       "      <td>0151202</td>\n",
       "      <td>CRIAÇÃO DE BOVINOS P</td>\n",
       "      <td>HÉLIO DUARTE SOARES\\n</td>\n",
       "      <td>4454931860</td>\n",
       "      <td>FAZENDA BOA SORTE</td>\n",
       "      <td>2</td>\n",
       "    </tr>\n",
       "    <tr>\n",
       "      <th>4</th>\n",
       "      <td>2010</td>\n",
       "      <td>3</td>\n",
       "      <td>27/01/2010 a 05/02/2010</td>\n",
       "      <td>PA</td>\n",
       "      <td>SANTA MARIA DAS BARREIRAS</td>\n",
       "      <td>0151201</td>\n",
       "      <td>CRIAÇÃO DE BOVINOS P</td>\n",
       "      <td>CSM AGROPECUÁRIA S.A\\n(FAZENDA TARUMÃ)</td>\n",
       "      <td>5303431000221</td>\n",
       "      <td>CSM AGROPECUÁRIA S.A\\n(FAZENDA TARUMÃ)</td>\n",
       "      <td>28</td>\n",
       "    </tr>\n",
       "    <tr>\n",
       "      <th>5</th>\n",
       "      <td>2010</td>\n",
       "      <td>4</td>\n",
       "      <td>23/12/2010 a 29/01/2010</td>\n",
       "      <td>MG</td>\n",
       "      <td>ARAGUARI</td>\n",
       "      <td>0119999</td>\n",
       "      <td>CULTIVO DE OUTRAS PL</td>\n",
       "      <td>PEDRO EUSTÁQUIO PELLEGRINI\\n</td>\n",
       "      <td>35048328604</td>\n",
       "      <td>FAZENDA CUNHAS</td>\n",
       "      <td>14</td>\n",
       "    </tr>\n",
       "    <tr>\n",
       "      <th>6</th>\n",
       "      <td>2010</td>\n",
       "      <td>5</td>\n",
       "      <td>23/02/2010 a 05/03/2010</td>\n",
       "      <td>PA</td>\n",
       "      <td>CONCEIÇÃO DO ARAGUAIA</td>\n",
       "      <td>0151201</td>\n",
       "      <td>CRIAÇÃO DE BOVINOS P</td>\n",
       "      <td>ANTÔNIO MARTINS RIBEIRO\\n</td>\n",
       "      <td>13521519104</td>\n",
       "      <td>FAZENDA SÃO PEDRO</td>\n",
       "      <td>4</td>\n",
       "    </tr>\n",
       "    <tr>\n",
       "      <th>7</th>\n",
       "      <td>2010</td>\n",
       "      <td>7</td>\n",
       "      <td>22/01/2010 a 18/02/2010</td>\n",
       "      <td>AC</td>\n",
       "      <td>PORTO ACRE</td>\n",
       "      <td>0151202</td>\n",
       "      <td>CRIAÇÃO DE BOVINOS P</td>\n",
       "      <td>ROQUE REIS BARREIROS JÚNIOR\\n</td>\n",
       "      <td>33954305291</td>\n",
       "      <td>FAZENDA HARMONIA</td>\n",
       "      <td>8</td>\n",
       "    </tr>\n",
       "    <tr>\n",
       "      <th>8</th>\n",
       "      <td>2010</td>\n",
       "      <td>8</td>\n",
       "      <td>02/03/2010 a 08/03/2010</td>\n",
       "      <td>RO</td>\n",
       "      <td>PORTO VELHO</td>\n",
       "      <td>0151201</td>\n",
       "      <td>CRIAÇÃO DE BOVINOS P</td>\n",
       "      <td>JOÃO ALTAIR CAETANO DOS SANTOS\\n</td>\n",
       "      <td>36841323904</td>\n",
       "      <td>FAZENDA RANCHO COLORADO</td>\n",
       "      <td>8</td>\n",
       "    </tr>\n",
       "    <tr>\n",
       "      <th>9</th>\n",
       "      <td>2010</td>\n",
       "      <td>9</td>\n",
       "      <td>03/03/2010 a 09/03/2010</td>\n",
       "      <td>RS</td>\n",
       "      <td>BOM JESUS</td>\n",
       "      <td>0119903</td>\n",
       "      <td>CULTIVO DE BATATA-IN</td>\n",
       "      <td>PAULO CEZAR SEGALA\\n</td>\n",
       "      <td>73466778034</td>\n",
       "      <td>PAULO CEZAR SEGALA\\n</td>\n",
       "      <td>24</td>\n",
       "    </tr>\n",
       "  </tbody>\n",
       "</table>\n",
       "</div>"
      ],
      "text/plain": [
       "    Ano  Operação                  Dia/Mês  UF                  Município  \\\n",
       "0  2010         1  19/01/2010 a 29/01/2010  GO      MONTE ALEGRE DE GOIÁS   \n",
       "1  2010         1  19/01/2010 a 29/01/2010  GO      MONTE ALEGRE DE GOIÁS   \n",
       "2  2010         1  19/01/2010 a 29/01/2010  TO                 NATIVIDADE   \n",
       "3  2010         2  26/01/2010 a 05/02/2010  PA                     MARABÁ   \n",
       "4  2010         3  27/01/2010 a 05/02/2010  PA  SANTA MARIA DAS BARREIRAS   \n",
       "5  2010         4  23/12/2010 a 29/01/2010  MG                   ARAGUARI   \n",
       "6  2010         5  23/02/2010 a 05/03/2010  PA      CONCEIÇÃO DO ARAGUAIA   \n",
       "7  2010         7  22/01/2010 a 18/02/2010  AC                 PORTO ACRE   \n",
       "8  2010         8  02/03/2010 a 08/03/2010  RO                PORTO VELHO   \n",
       "9  2010         9  03/03/2010 a 09/03/2010  RS                  BOM JESUS   \n",
       "\n",
       "      CNAE        Descrição CNAE                            Proprietário  \\\n",
       "0  0151201  CRIAÇÃO DE BOVINOS P                 THIAGO NEIVA HONORATO\\n   \n",
       "1  0151201  CRIAÇÃO DE BOVINOS P              RENIUTON SOUZA DE MORAES\\n   \n",
       "2  0151201  CRIAÇÃO DE BOVINOS P             EMIVAL RAMOS CAIADO FILHO\\n   \n",
       "3  0151202  CRIAÇÃO DE BOVINOS P                   HÉLIO DUARTE SOARES\\n   \n",
       "4  0151201  CRIAÇÃO DE BOVINOS P  CSM AGROPECUÁRIA S.A\\n(FAZENDA TARUMÃ)   \n",
       "5  0119999  CULTIVO DE OUTRAS PL            PEDRO EUSTÁQUIO PELLEGRINI\\n   \n",
       "6  0151201  CRIAÇÃO DE BOVINOS P               ANTÔNIO MARTINS RIBEIRO\\n   \n",
       "7  0151202  CRIAÇÃO DE BOVINOS P           ROQUE REIS BARREIROS JÚNIOR\\n   \n",
       "8  0151201  CRIAÇÃO DE BOVINOS P        JOÃO ALTAIR CAETANO DOS SANTOS\\n   \n",
       "9  0119903  CULTIVO DE BATATA-IN                    PAULO CEZAR SEGALA\\n   \n",
       "\n",
       "    CNPJ/CEI/CPF            Estabelecimento Inspecionado  \\\n",
       "0      330874152                       FAZENDA JOÃO LUIZ   \n",
       "1    24845256134                     FAZENDA OLHO D'ÁGUA   \n",
       "2     9655298191                    FAZENDA SANTA MÔNICA   \n",
       "3     4454931860                       FAZENDA BOA SORTE   \n",
       "4  5303431000221  CSM AGROPECUÁRIA S.A\\n(FAZENDA TARUMÃ)   \n",
       "5    35048328604                          FAZENDA CUNHAS   \n",
       "6    13521519104                       FAZENDA SÃO PEDRO   \n",
       "7    33954305291                        FAZENDA HARMONIA   \n",
       "8    36841323904                 FAZENDA RANCHO COLORADO   \n",
       "9    73466778034                    PAULO CEZAR SEGALA\\n   \n",
       "\n",
       "   Nº Trab. cond. analog escravo  \n",
       "0                              3  \n",
       "1                              5  \n",
       "2                             26  \n",
       "3                              2  \n",
       "4                             28  \n",
       "5                             14  \n",
       "6                              4  \n",
       "7                              8  \n",
       "8                              8  \n",
       "9                             24  "
      ]
     },
     "execution_count": 7,
     "metadata": {},
     "output_type": "execute_result"
    }
   ],
   "source": [
    "df_empresas.head(10)"
   ]
  },
  {
   "cell_type": "code",
   "execution_count": 8,
   "metadata": {
    "id": "HcVqxZaO9vwB"
   },
   "outputs": [
    {
     "data": {
      "text/html": [
       "<div>\n",
       "<style scoped>\n",
       "    .dataframe tbody tr th:only-of-type {\n",
       "        vertical-align: middle;\n",
       "    }\n",
       "\n",
       "    .dataframe tbody tr th {\n",
       "        vertical-align: top;\n",
       "    }\n",
       "\n",
       "    .dataframe thead th {\n",
       "        text-align: right;\n",
       "    }\n",
       "</style>\n",
       "<table border=\"1\" class=\"dataframe\">\n",
       "  <thead>\n",
       "    <tr style=\"text-align: right;\">\n",
       "      <th></th>\n",
       "      <th>Ano</th>\n",
       "      <th>Operação</th>\n",
       "      <th>Dia/Mês</th>\n",
       "      <th>UF</th>\n",
       "      <th>Município</th>\n",
       "      <th>CNAE</th>\n",
       "      <th>Descrição CNAE</th>\n",
       "      <th>Proprietário</th>\n",
       "      <th>CNPJ/CEI/CPF</th>\n",
       "      <th>Estabelecimento Inspecionado</th>\n",
       "      <th>Nº Trab. cond. analog escravo</th>\n",
       "    </tr>\n",
       "  </thead>\n",
       "  <tbody>\n",
       "    <tr>\n",
       "      <th>418</th>\n",
       "      <td>2012</td>\n",
       "      <td>51</td>\n",
       "      <td>08/05/2012 a 16/05/2012</td>\n",
       "      <td>GO</td>\n",
       "      <td>INDIARA</td>\n",
       "      <td>4211101</td>\n",
       "      <td>CONSTRUÇÃO DE RODOVI</td>\n",
       "      <td>CONSTRUTORA CENTRAL DO BRASIL S.A</td>\n",
       "      <td>2156313000169</td>\n",
       "      <td>CCB CONSTRUTORA</td>\n",
       "      <td>4</td>\n",
       "    </tr>\n",
       "    <tr>\n",
       "      <th>1041</th>\n",
       "      <td>2017</td>\n",
       "      <td>89</td>\n",
       "      <td>09/08/2017 a 27/09/2017</td>\n",
       "      <td>CE</td>\n",
       "      <td>CAUCAIA</td>\n",
       "      <td>0220901</td>\n",
       "      <td>EXTRAÇÃO DE MADEIRA</td>\n",
       "      <td>FANCISCO VALDECI DE ARAUJO</td>\n",
       "      <td>97191310391</td>\n",
       "      <td>FAZENDA LAGOA DO MATO</td>\n",
       "      <td>7</td>\n",
       "    </tr>\n",
       "    <tr>\n",
       "      <th>712</th>\n",
       "      <td>2014</td>\n",
       "      <td>45</td>\n",
       "      <td>26/05/2014 a 30/05/2014</td>\n",
       "      <td>GO</td>\n",
       "      <td>CALDAS NOVAS</td>\n",
       "      <td>0899199</td>\n",
       "      <td>EXTRAÇÃO DE OUTROS M</td>\n",
       "      <td>AGENOR TIBÚRCIO DA SILVA</td>\n",
       "      <td>37505696149</td>\n",
       "      <td>FAZENDA BAGRE</td>\n",
       "      <td>3</td>\n",
       "    </tr>\n",
       "  </tbody>\n",
       "</table>\n",
       "</div>"
      ],
      "text/plain": [
       "       Ano  Operação                  Dia/Mês  UF     Município     CNAE  \\\n",
       "418   2012        51  08/05/2012 a 16/05/2012  GO       INDIARA  4211101   \n",
       "1041  2017        89  09/08/2017 a 27/09/2017  CE       CAUCAIA  0220901   \n",
       "712   2014        45  26/05/2014 a 30/05/2014  GO  CALDAS NOVAS  0899199   \n",
       "\n",
       "            Descrição CNAE                       Proprietário   CNPJ/CEI/CPF  \\\n",
       "418   CONSTRUÇÃO DE RODOVI  CONSTRUTORA CENTRAL DO BRASIL S.A  2156313000169   \n",
       "1041  EXTRAÇÃO DE MADEIRA          FANCISCO VALDECI DE ARAUJO    97191310391   \n",
       "712   EXTRAÇÃO DE OUTROS M           AGENOR TIBÚRCIO DA SILVA    37505696149   \n",
       "\n",
       "     Estabelecimento Inspecionado  Nº Trab. cond. analog escravo  \n",
       "418               CCB CONSTRUTORA                              4  \n",
       "1041        FAZENDA LAGOA DO MATO                              7  \n",
       "712                 FAZENDA BAGRE                              3  "
      ]
     },
     "execution_count": 8,
     "metadata": {},
     "output_type": "execute_result"
    }
   ],
   "source": [
    "df_empresas.sample(3)"
   ]
  },
  {
   "cell_type": "code",
   "execution_count": 9,
   "metadata": {
    "id": "P8MBZ68J915b"
   },
   "outputs": [
    {
     "data": {
      "text/html": [
       "<div>\n",
       "<style scoped>\n",
       "    .dataframe tbody tr th:only-of-type {\n",
       "        vertical-align: middle;\n",
       "    }\n",
       "\n",
       "    .dataframe tbody tr th {\n",
       "        vertical-align: top;\n",
       "    }\n",
       "\n",
       "    .dataframe thead th {\n",
       "        text-align: right;\n",
       "    }\n",
       "</style>\n",
       "<table border=\"1\" class=\"dataframe\">\n",
       "  <thead>\n",
       "    <tr style=\"text-align: right;\">\n",
       "      <th></th>\n",
       "      <th>Ano</th>\n",
       "      <th>Operação</th>\n",
       "      <th>Dia/Mês</th>\n",
       "      <th>UF</th>\n",
       "      <th>Município</th>\n",
       "      <th>CNAE</th>\n",
       "      <th>Descrição CNAE</th>\n",
       "      <th>Proprietário</th>\n",
       "      <th>CNPJ/CEI/CPF</th>\n",
       "      <th>Estabelecimento Inspecionado</th>\n",
       "      <th>Nº Trab. cond. analog escravo</th>\n",
       "    </tr>\n",
       "  </thead>\n",
       "  <tbody>\n",
       "    <tr>\n",
       "      <th>1384</th>\n",
       "      <td>2020</td>\n",
       "      <td>189</td>\n",
       "      <td>01/12/2020 a 12/01/2021</td>\n",
       "      <td>PA</td>\n",
       "      <td>RONDON DO PARÁ</td>\n",
       "      <td>4671100</td>\n",
       "      <td>COMÉRCIO ATACADISTA</td>\n",
       "      <td>GUAMA COMÉRCIO DE COMPENSADOS E REPRESENTAÇÕES...</td>\n",
       "      <td>8724077000205</td>\n",
       "      <td>FAZENDA MOREIRA, 4º31’16.4’’S – 48º15’03.2’’W,...</td>\n",
       "      <td>13</td>\n",
       "    </tr>\n",
       "    <tr>\n",
       "      <th>1385</th>\n",
       "      <td>2020</td>\n",
       "      <td>190</td>\n",
       "      <td>26/11/2020 a 15/12/2020</td>\n",
       "      <td>PI</td>\n",
       "      <td>PARNAÍBA</td>\n",
       "      <td>1529700</td>\n",
       "      <td>FABRICAÇÃO DE ARTEFA</td>\n",
       "      <td>NR N SANTOS ME</td>\n",
       "      <td>63346605000159</td>\n",
       "      <td>CASA DOS COUROS</td>\n",
       "      <td>1</td>\n",
       "    </tr>\n",
       "    <tr>\n",
       "      <th>1386</th>\n",
       "      <td>2020</td>\n",
       "      <td>195</td>\n",
       "      <td>03/12/2020 a 13/01/2021</td>\n",
       "      <td>MS</td>\n",
       "      <td>NIOAQUE</td>\n",
       "      <td>0115600</td>\n",
       "      <td>CULTIVO DE SOJA</td>\n",
       "      <td>MAISA RODRIGUES DA COSTA</td>\n",
       "      <td>1385847107</td>\n",
       "      <td>FAZENDA SALTO</td>\n",
       "      <td>15</td>\n",
       "    </tr>\n",
       "  </tbody>\n",
       "</table>\n",
       "</div>"
      ],
      "text/plain": [
       "       Ano  Operação                  Dia/Mês  UF       Município     CNAE  \\\n",
       "1384  2020       189  01/12/2020 a 12/01/2021  PA  RONDON DO PARÁ  4671100   \n",
       "1385  2020       190  26/11/2020 a 15/12/2020  PI        PARNAÍBA  1529700   \n",
       "1386  2020       195  03/12/2020 a 13/01/2021  MS         NIOAQUE  0115600   \n",
       "\n",
       "            Descrição CNAE                                       Proprietário  \\\n",
       "1384  COMÉRCIO ATACADISTA   GUAMA COMÉRCIO DE COMPENSADOS E REPRESENTAÇÕES...   \n",
       "1385  FABRICAÇÃO DE ARTEFA                                     NR N SANTOS ME   \n",
       "1386       CULTIVO DE SOJA                           MAISA RODRIGUES DA COSTA   \n",
       "\n",
       "        CNPJ/CEI/CPF                       Estabelecimento Inspecionado  \\\n",
       "1384   8724077000205  FAZENDA MOREIRA, 4º31’16.4’’S – 48º15’03.2’’W,...   \n",
       "1385  63346605000159                                    CASA DOS COUROS   \n",
       "1386      1385847107                                      FAZENDA SALTO   \n",
       "\n",
       "      Nº Trab. cond. analog escravo  \n",
       "1384                             13  \n",
       "1385                              1  \n",
       "1386                             15  "
      ]
     },
     "execution_count": 9,
     "metadata": {},
     "output_type": "execute_result"
    }
   ],
   "source": [
    "df_empresas.tail(3)"
   ]
  },
  {
   "cell_type": "code",
   "execution_count": 10,
   "metadata": {
    "id": "-hHkp0ba-Fsi"
   },
   "outputs": [
    {
     "data": {
      "text/html": [
       "<div>\n",
       "<style scoped>\n",
       "    .dataframe tbody tr th:only-of-type {\n",
       "        vertical-align: middle;\n",
       "    }\n",
       "\n",
       "    .dataframe tbody tr th {\n",
       "        vertical-align: top;\n",
       "    }\n",
       "\n",
       "    .dataframe thead th {\n",
       "        text-align: right;\n",
       "    }\n",
       "</style>\n",
       "<table border=\"1\" class=\"dataframe\">\n",
       "  <thead>\n",
       "    <tr style=\"text-align: right;\">\n",
       "      <th></th>\n",
       "      <th>Ano</th>\n",
       "      <th>Operação</th>\n",
       "      <th>CNPJ/CEI/CPF</th>\n",
       "      <th>Nº Trab. cond. analog escravo</th>\n",
       "    </tr>\n",
       "  </thead>\n",
       "  <tbody>\n",
       "    <tr>\n",
       "      <th>count</th>\n",
       "      <td>1387.000000</td>\n",
       "      <td>1387.000000</td>\n",
       "      <td>1.387000e+03</td>\n",
       "      <td>1387.000000</td>\n",
       "    </tr>\n",
       "    <tr>\n",
       "      <th>mean</th>\n",
       "      <td>2014.268926</td>\n",
       "      <td>77.988464</td>\n",
       "      <td>6.471429e+12</td>\n",
       "      <td>13.744773</td>\n",
       "    </tr>\n",
       "    <tr>\n",
       "      <th>std</th>\n",
       "      <td>3.175335</td>\n",
       "      <td>49.190898</td>\n",
       "      <td>1.543392e+13</td>\n",
       "      <td>26.791397</td>\n",
       "    </tr>\n",
       "    <tr>\n",
       "      <th>min</th>\n",
       "      <td>2010.000000</td>\n",
       "      <td>1.000000</td>\n",
       "      <td>9.889597e+06</td>\n",
       "      <td>1.000000</td>\n",
       "    </tr>\n",
       "    <tr>\n",
       "      <th>25%</th>\n",
       "      <td>2011.000000</td>\n",
       "      <td>36.000000</td>\n",
       "      <td>1.608456e+10</td>\n",
       "      <td>4.000000</td>\n",
       "    </tr>\n",
       "    <tr>\n",
       "      <th>50%</th>\n",
       "      <td>2014.000000</td>\n",
       "      <td>73.000000</td>\n",
       "      <td>5.550614e+10</td>\n",
       "      <td>7.000000</td>\n",
       "    </tr>\n",
       "    <tr>\n",
       "      <th>75%</th>\n",
       "      <td>2017.000000</td>\n",
       "      <td>116.000000</td>\n",
       "      <td>5.626995e+12</td>\n",
       "      <td>14.000000</td>\n",
       "    </tr>\n",
       "    <tr>\n",
       "      <th>max</th>\n",
       "      <td>2020.000000</td>\n",
       "      <td>261.000000</td>\n",
       "      <td>9.702967e+13</td>\n",
       "      <td>433.000000</td>\n",
       "    </tr>\n",
       "  </tbody>\n",
       "</table>\n",
       "</div>"
      ],
      "text/plain": [
       "               Ano     Operação  CNPJ/CEI/CPF  Nº Trab. cond. analog escravo\n",
       "count  1387.000000  1387.000000  1.387000e+03                    1387.000000\n",
       "mean   2014.268926    77.988464  6.471429e+12                      13.744773\n",
       "std       3.175335    49.190898  1.543392e+13                      26.791397\n",
       "min    2010.000000     1.000000  9.889597e+06                       1.000000\n",
       "25%    2011.000000    36.000000  1.608456e+10                       4.000000\n",
       "50%    2014.000000    73.000000  5.550614e+10                       7.000000\n",
       "75%    2017.000000   116.000000  5.626995e+12                      14.000000\n",
       "max    2020.000000   261.000000  9.702967e+13                     433.000000"
      ]
     },
     "execution_count": 10,
     "metadata": {},
     "output_type": "execute_result"
    }
   ],
   "source": [
    "#resumo estatístico\n",
    "df_empresas.describe()"
   ]
  },
  {
   "cell_type": "code",
   "execution_count": 11,
   "metadata": {
    "id": "Y0Dszx3m-RjJ"
   },
   "outputs": [
    {
     "data": {
      "text/plain": [
       "(1387, 11)"
      ]
     },
     "execution_count": 11,
     "metadata": {},
     "output_type": "execute_result"
    }
   ],
   "source": [
    "#Quantidade de linhas e colunas\n",
    "df_empresas.shape"
   ]
  },
  {
   "cell_type": "code",
   "execution_count": 12,
   "metadata": {
    "id": "9EBTXADx-nZb"
   },
   "outputs": [
    {
     "data": {
      "text/plain": [
       "Ano                               int64\n",
       "Operação                          int64\n",
       "Dia/Mês                          object\n",
       "UF                               object\n",
       "Município                        object\n",
       "CNAE                             object\n",
       "Descrição CNAE                   object\n",
       "Proprietário                     object\n",
       "CNPJ/CEI/CPF                      int64\n",
       "Estabelecimento Inspecionado     object\n",
       "Nº Trab. cond. analog escravo     int64\n",
       "dtype: object"
      ]
     },
     "execution_count": 12,
     "metadata": {},
     "output_type": "execute_result"
    }
   ],
   "source": [
    "#Nome das colunas e tipos de dados\n",
    "df_empresas.dtypes"
   ]
  },
  {
   "cell_type": "code",
   "execution_count": 13,
   "metadata": {
    "id": "SN5JhRCV-1QY"
   },
   "outputs": [
    {
     "data": {
      "text/plain": [
       "Index(['Ano', 'Operação', 'Dia/Mês', 'UF', 'Município', 'CNAE',\n",
       "       'Descrição CNAE', 'Proprietário', 'CNPJ/CEI/CPF',\n",
       "       'Estabelecimento Inspecionado', 'Nº Trab. cond. analog escravo'],\n",
       "      dtype='object')"
      ]
     },
     "execution_count": 13,
     "metadata": {},
     "output_type": "execute_result"
    }
   ],
   "source": [
    "#Nome das colunas\n",
    "df_empresas.columns"
   ]
  },
  {
   "cell_type": "markdown",
   "metadata": {
    "id": "yfOIgKuT0zea"
   },
   "source": [
    "### Organizando os dados"
   ]
  },
  {
   "cell_type": "code",
   "execution_count": 14,
   "metadata": {
    "id": "-NlClOYp04bF"
   },
   "outputs": [
    {
     "data": {
      "text/html": [
       "<div>\n",
       "<style scoped>\n",
       "    .dataframe tbody tr th:only-of-type {\n",
       "        vertical-align: middle;\n",
       "    }\n",
       "\n",
       "    .dataframe tbody tr th {\n",
       "        vertical-align: top;\n",
       "    }\n",
       "\n",
       "    .dataframe thead th {\n",
       "        text-align: right;\n",
       "    }\n",
       "</style>\n",
       "<table border=\"1\" class=\"dataframe\">\n",
       "  <thead>\n",
       "    <tr style=\"text-align: right;\">\n",
       "      <th></th>\n",
       "      <th>Ano</th>\n",
       "      <th>Operação</th>\n",
       "      <th>Dia/Mês</th>\n",
       "      <th>UF</th>\n",
       "      <th>Município</th>\n",
       "      <th>CNAE</th>\n",
       "      <th>Descrição CNAE</th>\n",
       "      <th>Proprietário</th>\n",
       "      <th>CNPJ/CEI/CPF</th>\n",
       "      <th>Estabelecimento Inspecionado</th>\n",
       "      <th>Nº Trab. cond. analog escravo</th>\n",
       "    </tr>\n",
       "  </thead>\n",
       "  <tbody>\n",
       "    <tr>\n",
       "      <th>789</th>\n",
       "      <td>2014</td>\n",
       "      <td>145</td>\n",
       "      <td>18/11/2014 a 19/12/2014</td>\n",
       "      <td>AC</td>\n",
       "      <td>RIO BRANCO</td>\n",
       "      <td>0151201</td>\n",
       "      <td>CRIAÇÃO DE BOVINOS P</td>\n",
       "      <td>FELIPE JOEL VERAS PINHEIRO</td>\n",
       "      <td>86784552253</td>\n",
       "      <td>ARRENDAMENTO DA FAZENDA ESTANCIA GUANABARA</td>\n",
       "      <td>15</td>\n",
       "    </tr>\n",
       "    <tr>\n",
       "      <th>685</th>\n",
       "      <td>2014</td>\n",
       "      <td>21</td>\n",
       "      <td>11/03/2014 a 21/03/2014</td>\n",
       "      <td>AC</td>\n",
       "      <td>SENA MADUREIRA</td>\n",
       "      <td>1092900</td>\n",
       "      <td>FABRICAÇÃO DE BISCOI</td>\n",
       "      <td>MIRAGINA S/A INDÚSTRIA E COMÉRCIO</td>\n",
       "      <td>4063681000198</td>\n",
       "      <td>FAZENDA MIRAGINA I</td>\n",
       "      <td>1</td>\n",
       "    </tr>\n",
       "    <tr>\n",
       "      <th>698</th>\n",
       "      <td>2014</td>\n",
       "      <td>33</td>\n",
       "      <td>29/07/2014 a 08/08/2014</td>\n",
       "      <td>AC</td>\n",
       "      <td>TARAUACÁ</td>\n",
       "      <td>0151201</td>\n",
       "      <td>CRIAÇÃO DE BOVINOS P</td>\n",
       "      <td>JOSÉ TELES DE OLIVEIRA FILHO</td>\n",
       "      <td>62069268268</td>\n",
       "      <td>FAZENDA PORTO ALEGRE</td>\n",
       "      <td>55</td>\n",
       "    </tr>\n",
       "    <tr>\n",
       "      <th>726</th>\n",
       "      <td>2014</td>\n",
       "      <td>67</td>\n",
       "      <td>22/04/2014 a 17/07/2014</td>\n",
       "      <td>AC</td>\n",
       "      <td>RIO BRANCO</td>\n",
       "      <td>0151201</td>\n",
       "      <td>CRIAÇÃO DE BOVINOS P</td>\n",
       "      <td>AMANDIO CELESTINO COGO</td>\n",
       "      <td>12029939900</td>\n",
       "      <td>ARRENDAMENTO DA FAZENDA PERSEVERANÇA</td>\n",
       "      <td>3</td>\n",
       "    </tr>\n",
       "    <tr>\n",
       "      <th>921</th>\n",
       "      <td>2016</td>\n",
       "      <td>22</td>\n",
       "      <td>29/03/2016 a 08/04/2016</td>\n",
       "      <td>AC</td>\n",
       "      <td>RIO BRANCO</td>\n",
       "      <td>0151201</td>\n",
       "      <td>CRIAÇÃO DE BOVINOS P</td>\n",
       "      <td>LEANDRO LUIS LEITE</td>\n",
       "      <td>9817623874</td>\n",
       "      <td>FAZENDA CORREGO DO OURO</td>\n",
       "      <td>7</td>\n",
       "    </tr>\n",
       "    <tr>\n",
       "      <th>...</th>\n",
       "      <td>...</td>\n",
       "      <td>...</td>\n",
       "      <td>...</td>\n",
       "      <td>...</td>\n",
       "      <td>...</td>\n",
       "      <td>...</td>\n",
       "      <td>...</td>\n",
       "      <td>...</td>\n",
       "      <td>...</td>\n",
       "      <td>...</td>\n",
       "      <td>...</td>\n",
       "    </tr>\n",
       "    <tr>\n",
       "      <th>399</th>\n",
       "      <td>2012</td>\n",
       "      <td>37</td>\n",
       "      <td>09/04/2012 a 27/04/2012</td>\n",
       "      <td>TO</td>\n",
       "      <td>DIANÓPOLIS</td>\n",
       "      <td>0220902</td>\n",
       "      <td>PRODUÇÃO DE CARVÃO V</td>\n",
       "      <td>CLÁUDIO ROBERTO MARTIN</td>\n",
       "      <td>4689364915</td>\n",
       "      <td>FAZENDA MORADA VERDE</td>\n",
       "      <td>9</td>\n",
       "    </tr>\n",
       "    <tr>\n",
       "      <th>400</th>\n",
       "      <td>2012</td>\n",
       "      <td>37</td>\n",
       "      <td>09/04/2012 a 27/04/2012</td>\n",
       "      <td>TO</td>\n",
       "      <td>PRESIDENTE KENNEDY</td>\n",
       "      <td>0220902</td>\n",
       "      <td>PRODUÇÃO DE CARVÃO V</td>\n",
       "      <td>CARVOARIA CARVÃO NATIVO LTDA</td>\n",
       "      <td>14227279000155</td>\n",
       "      <td>FAZENDA SÃO CRISTÓVÃO I</td>\n",
       "      <td>13</td>\n",
       "    </tr>\n",
       "    <tr>\n",
       "      <th>401</th>\n",
       "      <td>2012</td>\n",
       "      <td>37</td>\n",
       "      <td>09/04/2012 a 27/04/2012</td>\n",
       "      <td>TO</td>\n",
       "      <td>CRISTALÂNDIA</td>\n",
       "      <td>0220902</td>\n",
       "      <td>PRODUÇÃO DE CARVÃO V</td>\n",
       "      <td>SÉRGIO ANTÔNIO NASCIMENTO</td>\n",
       "      <td>19978294600</td>\n",
       "      <td>FAZENDA SCALA II</td>\n",
       "      <td>7</td>\n",
       "    </tr>\n",
       "    <tr>\n",
       "      <th>205</th>\n",
       "      <td>2011</td>\n",
       "      <td>38</td>\n",
       "      <td>02/02/2011 a 15/03/2011</td>\n",
       "      <td>TO</td>\n",
       "      <td>CONCEIÇÃO DO TOCANTINS</td>\n",
       "      <td>0210108</td>\n",
       "      <td>PRODUÇÃO DE CARVÃO V</td>\n",
       "      <td>GERALDO OTAVIANO MENDES -</td>\n",
       "      <td>90929829620</td>\n",
       "      <td>CARVOARIA TEIXEIRA</td>\n",
       "      <td>6</td>\n",
       "    </tr>\n",
       "    <tr>\n",
       "      <th>841</th>\n",
       "      <td>2015</td>\n",
       "      <td>74</td>\n",
       "      <td>17/11/2015 a 27/11/2015</td>\n",
       "      <td>TO</td>\n",
       "      <td>BERNARDO SAYÃO</td>\n",
       "      <td>0151201</td>\n",
       "      <td>CRIAÇÃO DE BOVINOS P</td>\n",
       "      <td>AGROPECUÁRIA TERRA GRANDE S/A</td>\n",
       "      <td>1432186000110</td>\n",
       "      <td>AGROPECUÁRIA TERRA GRANDE S/A</td>\n",
       "      <td>15</td>\n",
       "    </tr>\n",
       "  </tbody>\n",
       "</table>\n",
       "<p>1387 rows × 11 columns</p>\n",
       "</div>"
      ],
      "text/plain": [
       "      Ano  Operação                  Dia/Mês  UF               Município  \\\n",
       "789  2014       145  18/11/2014 a 19/12/2014  AC              RIO BRANCO   \n",
       "685  2014        21  11/03/2014 a 21/03/2014  AC          SENA MADUREIRA   \n",
       "698  2014        33  29/07/2014 a 08/08/2014  AC                TARAUACÁ   \n",
       "726  2014        67  22/04/2014 a 17/07/2014  AC              RIO BRANCO   \n",
       "921  2016        22  29/03/2016 a 08/04/2016  AC              RIO BRANCO   \n",
       "..    ...       ...                      ...  ..                     ...   \n",
       "399  2012        37  09/04/2012 a 27/04/2012  TO              DIANÓPOLIS   \n",
       "400  2012        37  09/04/2012 a 27/04/2012  TO      PRESIDENTE KENNEDY   \n",
       "401  2012        37  09/04/2012 a 27/04/2012  TO            CRISTALÂNDIA   \n",
       "205  2011        38  02/02/2011 a 15/03/2011  TO  CONCEIÇÃO DO TOCANTINS   \n",
       "841  2015        74  17/11/2015 a 27/11/2015  TO          BERNARDO SAYÃO   \n",
       "\n",
       "        CNAE        Descrição CNAE                       Proprietário  \\\n",
       "789  0151201  CRIAÇÃO DE BOVINOS P         FELIPE JOEL VERAS PINHEIRO   \n",
       "685  1092900  FABRICAÇÃO DE BISCOI  MIRAGINA S/A INDÚSTRIA E COMÉRCIO   \n",
       "698  0151201  CRIAÇÃO DE BOVINOS P       JOSÉ TELES DE OLIVEIRA FILHO   \n",
       "726  0151201  CRIAÇÃO DE BOVINOS P             AMANDIO CELESTINO COGO   \n",
       "921  0151201  CRIAÇÃO DE BOVINOS P                 LEANDRO LUIS LEITE   \n",
       "..       ...                   ...                                ...   \n",
       "399  0220902  PRODUÇÃO DE CARVÃO V             CLÁUDIO ROBERTO MARTIN   \n",
       "400  0220902  PRODUÇÃO DE CARVÃO V       CARVOARIA CARVÃO NATIVO LTDA   \n",
       "401  0220902  PRODUÇÃO DE CARVÃO V          SÉRGIO ANTÔNIO NASCIMENTO   \n",
       "205  0210108  PRODUÇÃO DE CARVÃO V         GERALDO OTAVIANO MENDES -    \n",
       "841  0151201  CRIAÇÃO DE BOVINOS P      AGROPECUÁRIA TERRA GRANDE S/A   \n",
       "\n",
       "       CNPJ/CEI/CPF                Estabelecimento Inspecionado  \\\n",
       "789     86784552253  ARRENDAMENTO DA FAZENDA ESTANCIA GUANABARA   \n",
       "685   4063681000198                          FAZENDA MIRAGINA I   \n",
       "698     62069268268                        FAZENDA PORTO ALEGRE   \n",
       "726     12029939900        ARRENDAMENTO DA FAZENDA PERSEVERANÇA   \n",
       "921      9817623874                     FAZENDA CORREGO DO OURO   \n",
       "..              ...                                         ...   \n",
       "399      4689364915                        FAZENDA MORADA VERDE   \n",
       "400  14227279000155                     FAZENDA SÃO CRISTÓVÃO I   \n",
       "401     19978294600                            FAZENDA SCALA II   \n",
       "205     90929829620                          CARVOARIA TEIXEIRA   \n",
       "841   1432186000110               AGROPECUÁRIA TERRA GRANDE S/A   \n",
       "\n",
       "     Nº Trab. cond. analog escravo  \n",
       "789                             15  \n",
       "685                              1  \n",
       "698                             55  \n",
       "726                              3  \n",
       "921                              7  \n",
       "..                             ...  \n",
       "399                              9  \n",
       "400                             13  \n",
       "401                              7  \n",
       "205                              6  \n",
       "841                             15  \n",
       "\n",
       "[1387 rows x 11 columns]"
      ]
     },
     "execution_count": 14,
     "metadata": {},
     "output_type": "execute_result"
    }
   ],
   "source": [
    "#Ordena os dados\n",
    "df_empresas.sort_values('UF')"
   ]
  },
  {
   "cell_type": "code",
   "execution_count": 15,
   "metadata": {
    "id": "3SL5N9f11c_t"
   },
   "outputs": [
    {
     "data": {
      "text/html": [
       "<div>\n",
       "<style scoped>\n",
       "    .dataframe tbody tr th:only-of-type {\n",
       "        vertical-align: middle;\n",
       "    }\n",
       "\n",
       "    .dataframe tbody tr th {\n",
       "        vertical-align: top;\n",
       "    }\n",
       "\n",
       "    .dataframe thead th {\n",
       "        text-align: right;\n",
       "    }\n",
       "</style>\n",
       "<table border=\"1\" class=\"dataframe\">\n",
       "  <thead>\n",
       "    <tr style=\"text-align: right;\">\n",
       "      <th></th>\n",
       "      <th>Ano</th>\n",
       "      <th>Operação</th>\n",
       "      <th>Dia/Mês</th>\n",
       "      <th>UF</th>\n",
       "      <th>Município</th>\n",
       "      <th>CNAE</th>\n",
       "      <th>Descrição CNAE</th>\n",
       "      <th>Proprietário</th>\n",
       "      <th>CNPJ/CEI/CPF</th>\n",
       "      <th>Estabelecimento Inspecionado</th>\n",
       "      <th>Nº Trab. cond. analog escravo</th>\n",
       "    </tr>\n",
       "  </thead>\n",
       "  <tbody>\n",
       "    <tr>\n",
       "      <th>863</th>\n",
       "      <td>2015</td>\n",
       "      <td>103</td>\n",
       "      <td>16/07/2015 a 22/07/2015</td>\n",
       "      <td>TO</td>\n",
       "      <td>PORTO NACIONAL</td>\n",
       "      <td>0220902</td>\n",
       "      <td>PRODUÇÃO DE CARVÃO V</td>\n",
       "      <td>LUCIANO ROSA DO NASCIMENTO</td>\n",
       "      <td>51873702949</td>\n",
       "      <td>FAZENDA CASTELO</td>\n",
       "      <td>9</td>\n",
       "    </tr>\n",
       "    <tr>\n",
       "      <th>553</th>\n",
       "      <td>2013</td>\n",
       "      <td>43</td>\n",
       "      <td>21/05/2013 a 31/05/2013</td>\n",
       "      <td>TO</td>\n",
       "      <td>COLMÉIA</td>\n",
       "      <td>0151201</td>\n",
       "      <td>CRIAÇÃO DE BOVINOS P</td>\n",
       "      <td>PAULO VICENTE DA MOTA</td>\n",
       "      <td>23248823100</td>\n",
       "      <td>FAZENDA ESTAÇÃO</td>\n",
       "      <td>16</td>\n",
       "    </tr>\n",
       "    <tr>\n",
       "      <th>149</th>\n",
       "      <td>2010</td>\n",
       "      <td>125</td>\n",
       "      <td>30/11/2010 a 09/12/2010</td>\n",
       "      <td>TO</td>\n",
       "      <td>ARAGUACEMA</td>\n",
       "      <td>0151201</td>\n",
       "      <td>CRIAÇÃO DE BOVINOS P</td>\n",
       "      <td>NEWTON OLIVEIRA</td>\n",
       "      <td>2513595159</td>\n",
       "      <td>FAZENDAS DA BEZERRA, PAU BRASIL, SÃO JOSÉ, GAR...</td>\n",
       "      <td>33</td>\n",
       "    </tr>\n",
       "    <tr>\n",
       "      <th>834</th>\n",
       "      <td>2015</td>\n",
       "      <td>62</td>\n",
       "      <td>02/10/2015 a 09/10/2015</td>\n",
       "      <td>TO</td>\n",
       "      <td>BABAÇULÂNDIA</td>\n",
       "      <td>0220901</td>\n",
       "      <td>EXTRAÇÃO DE MADEIRA</td>\n",
       "      <td>CERÂMICA CERMAR</td>\n",
       "      <td>3894214000147</td>\n",
       "      <td>FAZENDA PARAISO</td>\n",
       "      <td>2</td>\n",
       "    </tr>\n",
       "    <tr>\n",
       "      <th>686</th>\n",
       "      <td>2014</td>\n",
       "      <td>22</td>\n",
       "      <td>16/04/2014 a 30/04/2014</td>\n",
       "      <td>TO</td>\n",
       "      <td>NATIVIDADE</td>\n",
       "      <td>0151201</td>\n",
       "      <td>CRIAÇÃO DE BOVINOS P</td>\n",
       "      <td>FABIANO IAMAGUTI MAEDA E OUTROS</td>\n",
       "      <td>11912555816</td>\n",
       "      <td>FAZENDA ESPERANÇA</td>\n",
       "      <td>6</td>\n",
       "    </tr>\n",
       "    <tr>\n",
       "      <th>...</th>\n",
       "      <td>...</td>\n",
       "      <td>...</td>\n",
       "      <td>...</td>\n",
       "      <td>...</td>\n",
       "      <td>...</td>\n",
       "      <td>...</td>\n",
       "      <td>...</td>\n",
       "      <td>...</td>\n",
       "      <td>...</td>\n",
       "      <td>...</td>\n",
       "      <td>...</td>\n",
       "    </tr>\n",
       "    <tr>\n",
       "      <th>789</th>\n",
       "      <td>2014</td>\n",
       "      <td>145</td>\n",
       "      <td>18/11/2014 a 19/12/2014</td>\n",
       "      <td>AC</td>\n",
       "      <td>RIO BRANCO</td>\n",
       "      <td>0151201</td>\n",
       "      <td>CRIAÇÃO DE BOVINOS P</td>\n",
       "      <td>FELIPE JOEL VERAS PINHEIRO</td>\n",
       "      <td>86784552253</td>\n",
       "      <td>ARRENDAMENTO DA FAZENDA ESTANCIA GUANABARA</td>\n",
       "      <td>15</td>\n",
       "    </tr>\n",
       "    <tr>\n",
       "      <th>337</th>\n",
       "      <td>2011</td>\n",
       "      <td>151</td>\n",
       "      <td>23/08/2011 a 22/11/2011</td>\n",
       "      <td>AC</td>\n",
       "      <td>FEIJÓ</td>\n",
       "      <td>0151201</td>\n",
       "      <td>CRIAÇÃO DE BOVINOS P</td>\n",
       "      <td>RUI PINTO</td>\n",
       "      <td>73757187768</td>\n",
       "      <td>FAZENDA MASSIPIRA</td>\n",
       "      <td>7</td>\n",
       "    </tr>\n",
       "    <tr>\n",
       "      <th>252</th>\n",
       "      <td>2011</td>\n",
       "      <td>69</td>\n",
       "      <td>11/05/2011 a 07/06/2011</td>\n",
       "      <td>AC</td>\n",
       "      <td>PLÁCIDO DE CASTRO</td>\n",
       "      <td>0151201</td>\n",
       "      <td>CRIAÇÃO DE BOVINOS P</td>\n",
       "      <td>FERNANDO BARBOSA TEIXEIRA -</td>\n",
       "      <td>61773930125</td>\n",
       "      <td>FAZENDA VALE VERDE</td>\n",
       "      <td>8</td>\n",
       "    </tr>\n",
       "    <tr>\n",
       "      <th>7</th>\n",
       "      <td>2010</td>\n",
       "      <td>7</td>\n",
       "      <td>22/01/2010 a 18/02/2010</td>\n",
       "      <td>AC</td>\n",
       "      <td>PORTO ACRE</td>\n",
       "      <td>0151202</td>\n",
       "      <td>CRIAÇÃO DE BOVINOS P</td>\n",
       "      <td>ROQUE REIS BARREIROS JÚNIOR\\n</td>\n",
       "      <td>33954305291</td>\n",
       "      <td>FAZENDA HARMONIA</td>\n",
       "      <td>8</td>\n",
       "    </tr>\n",
       "    <tr>\n",
       "      <th>557</th>\n",
       "      <td>2013</td>\n",
       "      <td>47</td>\n",
       "      <td>12/04/2013 a 09/05/2013</td>\n",
       "      <td>AC</td>\n",
       "      <td>RIO BRANCO</td>\n",
       "      <td>0151201</td>\n",
       "      <td>CRIAÇÃO DE BOVINOS P</td>\n",
       "      <td>MOZAR MARCONDES FILHO</td>\n",
       "      <td>33574090978</td>\n",
       "      <td>FAZENDA AGOPECUÁRIA SORRISO</td>\n",
       "      <td>13</td>\n",
       "    </tr>\n",
       "  </tbody>\n",
       "</table>\n",
       "<p>1387 rows × 11 columns</p>\n",
       "</div>"
      ],
      "text/plain": [
       "      Ano  Operação                  Dia/Mês  UF          Município     CNAE  \\\n",
       "863  2015       103  16/07/2015 a 22/07/2015  TO     PORTO NACIONAL  0220902   \n",
       "553  2013        43  21/05/2013 a 31/05/2013  TO            COLMÉIA  0151201   \n",
       "149  2010       125  30/11/2010 a 09/12/2010  TO         ARAGUACEMA  0151201   \n",
       "834  2015        62  02/10/2015 a 09/10/2015  TO       BABAÇULÂNDIA  0220901   \n",
       "686  2014        22  16/04/2014 a 30/04/2014  TO         NATIVIDADE  0151201   \n",
       "..    ...       ...                      ...  ..                ...      ...   \n",
       "789  2014       145  18/11/2014 a 19/12/2014  AC         RIO BRANCO  0151201   \n",
       "337  2011       151  23/08/2011 a 22/11/2011  AC              FEIJÓ  0151201   \n",
       "252  2011        69  11/05/2011 a 07/06/2011  AC  PLÁCIDO DE CASTRO  0151201   \n",
       "7    2010         7  22/01/2010 a 18/02/2010  AC         PORTO ACRE  0151202   \n",
       "557  2013        47  12/04/2013 a 09/05/2013  AC         RIO BRANCO  0151201   \n",
       "\n",
       "           Descrição CNAE                     Proprietário   CNPJ/CEI/CPF  \\\n",
       "863  PRODUÇÃO DE CARVÃO V       LUCIANO ROSA DO NASCIMENTO    51873702949   \n",
       "553  CRIAÇÃO DE BOVINOS P            PAULO VICENTE DA MOTA    23248823100   \n",
       "149  CRIAÇÃO DE BOVINOS P                 NEWTON OLIVEIRA      2513595159   \n",
       "834  EXTRAÇÃO DE MADEIRA                   CERÂMICA CERMAR  3894214000147   \n",
       "686  CRIAÇÃO DE BOVINOS P  FABIANO IAMAGUTI MAEDA E OUTROS    11912555816   \n",
       "..                    ...                              ...            ...   \n",
       "789  CRIAÇÃO DE BOVINOS P       FELIPE JOEL VERAS PINHEIRO    86784552253   \n",
       "337  CRIAÇÃO DE BOVINOS P                        RUI PINTO    73757187768   \n",
       "252  CRIAÇÃO DE BOVINOS P     FERNANDO BARBOSA TEIXEIRA -     61773930125   \n",
       "7    CRIAÇÃO DE BOVINOS P    ROQUE REIS BARREIROS JÚNIOR\\n    33954305291   \n",
       "557  CRIAÇÃO DE BOVINOS P            MOZAR MARCONDES FILHO    33574090978   \n",
       "\n",
       "                          Estabelecimento Inspecionado  \\\n",
       "863                                    FAZENDA CASTELO   \n",
       "553                                    FAZENDA ESTAÇÃO   \n",
       "149  FAZENDAS DA BEZERRA, PAU BRASIL, SÃO JOSÉ, GAR...   \n",
       "834                                    FAZENDA PARAISO   \n",
       "686                                  FAZENDA ESPERANÇA   \n",
       "..                                                 ...   \n",
       "789         ARRENDAMENTO DA FAZENDA ESTANCIA GUANABARA   \n",
       "337                                  FAZENDA MASSIPIRA   \n",
       "252                                 FAZENDA VALE VERDE   \n",
       "7                                     FAZENDA HARMONIA   \n",
       "557                        FAZENDA AGOPECUÁRIA SORRISO   \n",
       "\n",
       "     Nº Trab. cond. analog escravo  \n",
       "863                              9  \n",
       "553                             16  \n",
       "149                             33  \n",
       "834                              2  \n",
       "686                              6  \n",
       "..                             ...  \n",
       "789                             15  \n",
       "337                              7  \n",
       "252                              8  \n",
       "7                                8  \n",
       "557                             13  \n",
       "\n",
       "[1387 rows x 11 columns]"
      ]
     },
     "execution_count": 15,
     "metadata": {},
     "output_type": "execute_result"
    }
   ],
   "source": [
    "#ordena decrescentemente\n",
    "df_empresas.sort_values('UF', ascending=False)"
   ]
  },
  {
   "cell_type": "code",
   "execution_count": null,
   "metadata": {
    "id": "oYMXid4N1mtF"
   },
   "outputs": [],
   "source": [
    "#As 10 primeiras linhas\n",
    "df_empresas.sort_values('UF').head(10)"
   ]
  },
  {
   "cell_type": "code",
   "execution_count": null,
   "metadata": {
    "id": "FI5uul4O2HuP"
   },
   "outputs": [],
   "source": [
    "#Ordenas por mais de uma coluna\n",
    "df_empresas.sort_values(['UF','Ano'])"
   ]
  },
  {
   "cell_type": "markdown",
   "metadata": {
    "id": "e7yLrQS13VLq"
   },
   "source": [
    "### Filtrando os dados"
   ]
  },
  {
   "cell_type": "markdown",
   "metadata": {
    "id": "2ARSqtmC3ghn"
   },
   "source": [
    "**Filtro de coluna**"
   ]
  },
  {
   "cell_type": "code",
   "execution_count": null,
   "metadata": {
    "id": "Lw2dmiQG3UmQ"
   },
   "outputs": [],
   "source": [
    "df_empresas.UF"
   ]
  },
  {
   "cell_type": "code",
   "execution_count": null,
   "metadata": {
    "id": "hfCpLyHS3s6T"
   },
   "outputs": [],
   "source": [
    "df_empresas['Município']"
   ]
  },
  {
   "cell_type": "code",
   "execution_count": null,
   "metadata": {
    "id": "01Us8vXb3-J-"
   },
   "outputs": [],
   "source": [
    "df_empresas['Descrição CNAE'].unique()"
   ]
  },
  {
   "cell_type": "code",
   "execution_count": null,
   "metadata": {
    "id": "KVlIlDvv4QVH"
   },
   "outputs": [],
   "source": [
    "#Contar valores\n",
    "df_empresas['Município'].value_counts()"
   ]
  },
  {
   "cell_type": "markdown",
   "metadata": {
    "id": "c-zQMcSD4m_3"
   },
   "source": [
    "Para colunas numérias:\n",
    "\n",
    "*  `min()` pega o menor valor\n",
    "*  `max()` pega o maior valor\n",
    "*  `median()` pega a mediana\n",
    "*  `mean()` pega a média\n",
    "*  `mode()` pega o valor mais comum"
   ]
  },
  {
   "cell_type": "code",
   "execution_count": null,
   "metadata": {
    "id": "L5_UxMR24k0H"
   },
   "outputs": [],
   "source": [
    "df_empresas['Nº Trab. cond. analog escravo'].max()"
   ]
  },
  {
   "cell_type": "code",
   "execution_count": null,
   "metadata": {
    "id": "J7tjlM_G7iSM"
   },
   "outputs": [],
   "source": [
    "df_empresas[df_empresas.UF == 'PE']"
   ]
  },
  {
   "cell_type": "markdown",
   "metadata": {
    "id": "OkCEKJks5nc2"
   },
   "source": [
    "**Filtro de linha**"
   ]
  },
  {
   "cell_type": "code",
   "execution_count": null,
   "metadata": {
    "id": "IRqPkCnH5qr-"
   },
   "outputs": [],
   "source": [
    "df_empresas[df_empresas['Nº Trab. cond. analog escravo'] > 10]"
   ]
  },
  {
   "cell_type": "code",
   "execution_count": null,
   "metadata": {
    "id": "7LsI6S9d6Gji"
   },
   "outputs": [],
   "source": [
    "df_empresas[df_empresas.Ano > 2017]"
   ]
  },
  {
   "cell_type": "code",
   "execution_count": null,
   "metadata": {
    "id": "P1bd3ukF6g9y"
   },
   "outputs": [],
   "source": [
    "#Filtros compostos\n",
    "\n",
    "acima_dez_libertos = df_empresas[df_empresas['Nº Trab. cond. analog escravo'] > 10]\n",
    "\n",
    "acima_dez_libertos[df_empresas.Ano > 2017].head()"
   ]
  },
  {
   "cell_type": "markdown",
   "metadata": {
    "id": "cy-n96aD_nwm"
   },
   "source": [
    "### Agrupar e agregar dados"
   ]
  },
  {
   "cell_type": "code",
   "execution_count": null,
   "metadata": {
    "id": "NklFoy1T8zvy"
   },
   "outputs": [],
   "source": [
    "df_empresas.groupby('Ano')"
   ]
  },
  {
   "cell_type": "code",
   "execution_count": null,
   "metadata": {
    "id": "tXmHdj6f9V7-"
   },
   "outputs": [],
   "source": [
    "df_empresas.groupby('Ano').sum()"
   ]
  },
  {
   "cell_type": "code",
   "execution_count": null,
   "metadata": {
    "id": "cjKCTqh39vys"
   },
   "outputs": [],
   "source": [
    "df_empresas[['Ano','Nº Trab. cond. analog escravo']].groupby('Ano').sum().sort_values('Nº Trab. cond. analog escravo', ascending=False)"
   ]
  },
  {
   "cell_type": "markdown",
   "metadata": {
    "id": "jiHaRn618PQA"
   },
   "source": [
    "### Bora Investigar? 🔎🕵🏾‍♀️"
   ]
  },
  {
   "cell_type": "code",
   "execution_count": null,
   "metadata": {
    "id": "9FhBEhT3D2l9"
   },
   "outputs": [],
   "source": [
    "#Total de pessoas em libertas do trabalho escravo de 2010 a 2020\n",
    "df_empresas['Nº Trab. cond. analog escravo'].sum()"
   ]
  },
  {
   "cell_type": "code",
   "execution_count": null,
   "metadata": {
    "id": "Z1xU62GA8GER"
   },
   "outputs": [],
   "source": [
    "#rancking de empresas (CNAE)\n",
    "df_empresas['Descrição CNAE'].value_counts().head(5)"
   ]
  },
  {
   "cell_type": "code",
   "execution_count": null,
   "metadata": {
    "id": "q39pGYa67doj"
   },
   "outputs": [],
   "source": [
    "#Qual os 10 estados com mais operações\n",
    "\n",
    "df_empresas[['UF','Operação']].groupby('UF').sum().sort_values('Operação', ascending=False).head(10)"
   ]
  },
  {
   "cell_type": "code",
   "execution_count": null,
   "metadata": {
    "id": "a9R7HIyW_D7c"
   },
   "outputs": [],
   "source": [
    "#Ano em que mais houve altuação\n",
    "df_empresas[['Ano','Operação']].groupby('Ano').sum().sort_values('Operação', ascending=False)\n"
   ]
  },
  {
   "cell_type": "code",
   "execution_count": null,
   "metadata": {
    "id": "K-XbAAluEWun"
   },
   "outputs": [],
   "source": [
    "#Numero total de pessoas libertas através dos anos por estado\n",
    "df_empresas[['UF','Nº Trab. cond. analog escravo']].groupby('UF').sum().sort_values('Nº Trab. cond. analog escravo', ascending=False)"
   ]
  },
  {
   "cell_type": "code",
   "execution_count": null,
   "metadata": {
    "id": "8u-jPzXFE4Rd"
   },
   "outputs": [],
   "source": [
    "#Qual ano que mais houveram pessoas libertadas\n",
    "df_empresas[['Ano','Nº Trab. cond. analog escravo']].groupby('Ano').sum().sort_values('Nº Trab. cond. analog escravo', ascending=False)"
   ]
  },
  {
   "cell_type": "markdown",
   "metadata": {
    "id": "wsVhE5A7_0pj"
   },
   "source": [
    "### Saaalvandooo 💾"
   ]
  },
  {
   "cell_type": "code",
   "execution_count": null,
   "metadata": {
    "id": "36v7H2LaAMn_"
   },
   "outputs": [],
   "source": [
    "df_empresas.to_csv('meu_arquivo.csv', index=False)"
   ]
  },
  {
   "cell_type": "markdown",
   "metadata": {},
   "source": [
    "# **MilkShake dos Dados** 🥤"
   ]
  },
  {
   "cell_type": "markdown",
   "metadata": {},
   "source": [
    "### Agenda"
   ]
  },
  {
   "cell_type": "markdown",
   "metadata": {},
   "source": [
    "*  Importar requests (interação com sites e APIs) e querido_diario_toolbox (utilitários do QD)\n",
    "*  Indentificar apenas os CNPJs dentre CNPJs, CEIs e CPFs\n",
    "*  Buscar CNPJs no Querido Diário\n",
    "*  Cruzar nossa base de dados com a da Receita Federal usando o Minha Receita"
   ]
  },
  {
   "cell_type": "markdown",
   "metadata": {},
   "source": [
    "### Imports"
   ]
  },
  {
   "cell_type": "code",
   "execution_count": null,
   "metadata": {},
   "outputs": [],
   "source": [
    "# Se não tiver o querido-diario-toolbox instalado (no Google Colab não tem), execute essa célula\n",
    "!apt-get install libmagic-dev\n",
    "!pip install --ignore-requires-python querido-diario-toolbox"
   ]
  },
  {
   "cell_type": "code",
   "execution_count": null,
   "metadata": {
    "id": "skJk0tjQLr-9"
   },
   "outputs": [],
   "source": [
    "import requests\n",
    "from querido_diario_toolbox.process.edition_process import is_valid_cnpj"
   ]
  },
  {
   "cell_type": "markdown",
   "metadata": {},
   "source": [
    "### Identificando CNPJs"
   ]
  },
  {
   "cell_type": "code",
   "execution_count": null,
   "metadata": {},
   "outputs": [],
   "source": [
    "df_empresas['CNPJ/CEI/CPF']"
   ]
  },
  {
   "cell_type": "code",
   "execution_count": null,
   "metadata": {},
   "outputs": [],
   "source": [
    "# Observando o tipo da coluna\n",
    "df_empresas['CNPJ/CEI/CPF'].dtype"
   ]
  },
  {
   "cell_type": "code",
   "execution_count": null,
   "metadata": {},
   "outputs": [],
   "source": [
    "# A função de checar se é um CNPJ válido pede uma string (ou \"object\", como o pandas gosta de chamar)\n",
    "df_empresas['CNPJ/CEI/CPF'].apply(is_valid_cnpj)"
   ]
  },
  {
   "cell_type": "code",
   "execution_count": null,
   "metadata": {},
   "outputs": [],
   "source": [
    "# Convertendo tipo da coluna\n",
    "df_empresas['CNPJ/CEI/CPF'] = df_empresas['CNPJ/CEI/CPF'].astype('str')\n",
    "df_empresas['CNPJ/CEI/CPF'].apply(is_valid_cnpj)"
   ]
  },
  {
   "cell_type": "code",
   "execution_count": null,
   "metadata": {},
   "outputs": [],
   "source": [
    "# Filtrando DataFrame apenas pelas linhas que tem empresas com CNPJ válido\n",
    "df_empresas = df_empresas[df_empresas['CNPJ/CEI/CPF'].apply(is_valid_cnpj)]"
   ]
  },
  {
   "cell_type": "markdown",
   "metadata": {},
   "source": [
    "### Buscando CNPJs no Querido Diário"
   ]
  },
  {
   "cell_type": "code",
   "execution_count": null,
   "metadata": {},
   "outputs": [],
   "source": [
    "# Selecionando linha específica\n",
    "df_empresas['CNPJ/CEI/CPF'].iloc[20]"
   ]
  },
  {
   "cell_type": "code",
   "execution_count": null,
   "metadata": {},
   "outputs": [],
   "source": [
    "# Inserindo código dentro de uma string com f-strings\n",
    "url = f\"https://queridodiario.ok.org.br/api/gazettes/?keywords={df_empresas['CNPJ/CEI/CPF'].iloc[20]}&size=10&fragment_size=1000&pre_tags=@@@&post_tags=@@@\"\n",
    "url"
   ]
  },
  {
   "cell_type": "code",
   "execution_count": null,
   "metadata": {},
   "outputs": [],
   "source": [
    "# Com requests, fica fácil fazer requisições para qualquer site na internet e assim podemos interagir com a API do QD\n",
    "response = requests.get(url)\n",
    "response.json()"
   ]
  },
  {
   "cell_type": "code",
   "execution_count": null,
   "metadata": {},
   "outputs": [],
   "source": [
    "# Repetindo a busca no QD para todos os CNPJs\n",
    "ocorrencias = []\n",
    "for cnpj in df_empresas['CNPJ/CEI/CPF']:\n",
    "    url = f\"https://queridodiario.ok.org.br/api/gazettes/?keywords={cnpj}&size=10&fragment_size=1000\"\n",
    "    response_json = requests.get(url).json()\n",
    "    ocorrencia = {'cnpj': cnpj, 'n_ocorrencias': response_json['total_gazettes']}\n",
    "    ocorrencias.append(ocorrencia)\n",
    "\n",
    "# Criando um DataFrame a partir de uma lista de dicionários (ocorrencias)\n",
    "ocorrencias_por_cnpj = pd.DataFrame(ocorrencias)\n",
    "ocorrencias_por_cnpj"
   ]
  },
  {
   "cell_type": "code",
   "execution_count": null,
   "metadata": {},
   "outputs": [],
   "source": [
    "n_ocorrencias_positivo = ocorrencias_por_cnpj[ocorrencias_por_cnpj['n_ocorrencias'] > 0]\n",
    "n_ocorrencias_positivo"
   ]
  },
  {
   "cell_type": "code",
   "execution_count": null,
   "metadata": {},
   "outputs": [],
   "source": [
    "# Podemos excluir linhas duplicadas\n",
    "n_ocorrencias_positivo = n_ocorrencias_positivo.drop_duplicates()\n",
    "n_ocorrencias_positivo"
   ]
  },
  {
   "cell_type": "code",
   "execution_count": null,
   "metadata": {},
   "outputs": [],
   "source": [
    "# Também podemos visualizar em gráfico!\n",
    "n_ocorrencias_positivo.plot.barh(x='cnpj')"
   ]
  },
  {
   "cell_type": "code",
   "execution_count": null,
   "metadata": {},
   "outputs": [],
   "source": [
    "n_ocorrencias_positivo['cnpj'].iloc[0]"
   ]
  },
  {
   "cell_type": "markdown",
   "metadata": {},
   "source": [
    "### Cruzando dados com a RFB usando Minha Receita"
   ]
  },
  {
   "cell_type": "code",
   "execution_count": null,
   "metadata": {},
   "outputs": [],
   "source": [
    "url = f\"https://minhareceita.org/{n_ocorrencias_positivo['cnpj'].iloc[0]}\"\n",
    "response = requests.get(url)\n",
    "response.json()"
   ]
  },
  {
   "cell_type": "code",
   "execution_count": null,
   "metadata": {},
   "outputs": [],
   "source": [
    "cnpj_infos = []\n",
    "for cnpj in n_ocorrencias_positivo['cnpj']:\n",
    "    url = f\"https://minhareceita.org/{cnpj}\"\n",
    "    response_json = requests.get(url).json()\n",
    "    cnpj_infos.append(response_json)\n",
    "    \n",
    "cnpj_infos = pd.DataFrame(cnpj_infos)\n",
    "cnpj_infos"
   ]
  },
  {
   "cell_type": "code",
   "execution_count": null,
   "metadata": {},
   "outputs": [],
   "source": [
    "# Quando temos colunas com a mesma informação em dois DataFrames, podemos mesclá-los\n",
    "cnpj_infos = n_ocorrencias_positivo.merge(cnpj_infos, left_on='cnpj', right_on='cnpj')\n",
    "cnpj_infos"
   ]
  },
  {
   "cell_type": "code",
   "execution_count": null,
   "metadata": {
    "scrolled": true
   },
   "outputs": [],
   "source": [
    "# E isso pode ser repetido até cruzarmos todas as informações que coletamos\n",
    "cnpj_infos.merge(df_empresas, left_on='cnpj', right_on='CNPJ/CEI/CPF')"
   ]
  }
 ],
 "metadata": {
  "colab": {
   "authorship_tag": "ABX9TyPfpFsQbtElIGFeiDfCoxsT",
   "include_colab_link": true,
   "mount_file_id": "1ekjp3P0CDRahFn1vfmIBattOlDJnTh4c",
   "name": "oficina_codabr21.ipynb",
   "provenance": []
  },
  "kernelspec": {
   "display_name": "Python 3 (ipykernel)",
   "language": "python",
   "name": "python3"
  },
  "language_info": {
   "codemirror_mode": {
    "name": "ipython",
    "version": 3
   },
   "file_extension": ".py",
   "mimetype": "text/x-python",
   "name": "python",
   "nbconvert_exporter": "python",
   "pygments_lexer": "ipython3",
   "version": "3.11.3"
  }
 },
 "nbformat": 4,
 "nbformat_minor": 1
}
