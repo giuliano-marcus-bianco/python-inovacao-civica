{
 "cells": [
  {
   "cell_type": "markdown",
   "id": "7734693e",
   "metadata": {},
   "source": [
    "# Escola de Dados - Python para inovação cívica\n",
    "## Módulo 1: Noções básicas de estatística descritiva e pré-processamento\n",
    "\n",
    "- [Aula 8](#Aula-8:-Introdução-a-estatística)\n",
    "- [Aula 9](#Aula-9:-Medidas-de-tendência-central-e-dispersão)\n",
    "- [Aula 10](#Aula-10:-Outliers-e-valores-faltantes)\n",
    "- [Aula 12](#Aula-12:-Operações-básicas-com-python)\n",
    "- [Aula 13](#Aula-13:-Métodos-`filter`-e-`sort_values`)\n",
    "- [Aula 14](#Aula-14:-Operações-com-dados-e-método-`apply`)\n",
    "- [Aula 15](#Aula-15:-Operações-com-dados-e-método-`groupby`)\n",
    "\n",
    "\n",
    "### Aula 8: Introdução a estatística\n",
    "\n",
    "Os dados que usaremos nesse notebook pode ser encontrado em: [TSE. Candidaturas em 2020](https://www.tse.jus.br/eleicoes/estatisticas/repositorio-de-dados-eleitorais-1).\n",
    "\n",
    "Trabalharemos com os dados referentes as candidaturas nos estados de Amapá e Pará.\n"
   ]
  },
  {
   "cell_type": "code",
   "execution_count": 1,
   "id": "2d8c10dc",
   "metadata": {
    "tags": []
   },
   "outputs": [],
   "source": [
    "import pandas as pd\n",
    "import glob"
   ]
  },
  {
   "cell_type": "code",
   "execution_count": 2,
   "id": "23db38e0",
   "metadata": {
    "tags": []
   },
   "outputs": [],
   "source": [
    "dados_ap_pa = ['base_dados/consulta_cand_2020_AP.csv', 'base_dados/consulta_cand_2020_PA.csv']"
   ]
  },
  {
   "cell_type": "code",
   "execution_count": 3,
   "id": "d6c44eef",
   "metadata": {
    "tags": []
   },
   "outputs": [],
   "source": [
    "lista_df = []\n",
    "\n",
    "for dados_estado in dados_ap_pa:\n",
    "    df_estado = pd.read_csv(dados_estado, sep=';', encoding='latin_1')\n",
    "    lista_df.append(df_estado)"
   ]
  },
  {
   "cell_type": "code",
   "execution_count": 4,
   "id": "31ddff3b",
   "metadata": {
    "tags": []
   },
   "outputs": [],
   "source": [
    "df_completo = pd.concat(lista_df, axis=0, ignore_index=True)"
   ]
  },
  {
   "cell_type": "markdown",
   "id": "d4cc48d0",
   "metadata": {},
   "source": [
    "É possível criar um dataframe apenas com os dados de candidaturas para as Câmeras de Vereados dos estados."
   ]
  },
  {
   "cell_type": "code",
   "execution_count": 5,
   "id": "4e05d8d6",
   "metadata": {
    "tags": []
   },
   "outputs": [],
   "source": [
    "df_vereadores = df_completo[df_completo['CD_CARGO'] == 13].copy()"
   ]
  },
  {
   "cell_type": "code",
   "execution_count": 6,
   "id": "2c80d4c0",
   "metadata": {
    "tags": []
   },
   "outputs": [
    {
     "data": {
      "text/plain": [
       "Index(['DT_GERACAO', 'HH_GERACAO', 'ANO_ELEICAO', 'CD_TIPO_ELEICAO',\n",
       "       'NM_TIPO_ELEICAO', 'NR_TURNO', 'CD_ELEICAO', 'DS_ELEICAO', 'DT_ELEICAO',\n",
       "       'TP_ABRANGENCIA', 'SG_UF', 'SG_UE', 'NM_UE', 'CD_CARGO', 'DS_CARGO',\n",
       "       'SQ_CANDIDATO', 'NR_CANDIDATO', 'NM_CANDIDATO', 'NM_URNA_CANDIDATO',\n",
       "       'NM_SOCIAL_CANDIDATO', 'NR_CPF_CANDIDATO', 'NM_EMAIL',\n",
       "       'CD_SITUACAO_CANDIDATURA', 'DS_SITUACAO_CANDIDATURA',\n",
       "       'CD_DETALHE_SITUACAO_CAND', 'DS_DETALHE_SITUACAO_CAND', 'TP_AGREMIACAO',\n",
       "       'NR_PARTIDO', 'SG_PARTIDO', 'NM_PARTIDO', 'NR_FEDERACAO',\n",
       "       'NM_FEDERACAO', 'SG_FEDERACAO', 'DS_COMPOSICAO_FEDERACAO',\n",
       "       'SQ_COLIGACAO', 'NM_COLIGACAO', 'DS_COMPOSICAO_COLIGACAO',\n",
       "       'CD_NACIONALIDADE', 'DS_NACIONALIDADE', 'SG_UF_NASCIMENTO',\n",
       "       'CD_MUNICIPIO_NASCIMENTO', 'NM_MUNICIPIO_NASCIMENTO', 'DT_NASCIMENTO',\n",
       "       'NR_IDADE_DATA_POSSE', 'NR_TITULO_ELEITORAL_CANDIDATO', 'CD_GENERO',\n",
       "       'DS_GENERO', 'CD_GRAU_INSTRUCAO', 'DS_GRAU_INSTRUCAO',\n",
       "       'CD_ESTADO_CIVIL', 'DS_ESTADO_CIVIL', 'CD_COR_RACA', 'DS_COR_RACA',\n",
       "       'CD_OCUPACAO', 'DS_OCUPACAO', 'VR_DESPESA_MAX_CAMPANHA',\n",
       "       'CD_SIT_TOT_TURNO', 'DS_SIT_TOT_TURNO', 'ST_REELEICAO',\n",
       "       'ST_DECLARAR_BENS', 'NR_PROTOCOLO_CANDIDATURA', 'NR_PROCESSO',\n",
       "       'CD_SITUACAO_CANDIDATO_PLEITO', 'DS_SITUACAO_CANDIDATO_PLEITO',\n",
       "       'CD_SITUACAO_CANDIDATO_URNA', 'DS_SITUACAO_CANDIDATO_URNA',\n",
       "       'ST_CANDIDATO_INSERIDO_URNA', 'NM_TIPO_DESTINACAO_VOTOS',\n",
       "       'CD_SITUACAO_CANDIDATO_TOT', 'DS_SITUACAO_CANDIDATO_TOT',\n",
       "       'ST_PREST_CONTAS'],\n",
       "      dtype='object')"
      ]
     },
     "execution_count": 6,
     "metadata": {},
     "output_type": "execute_result"
    }
   ],
   "source": [
    "df_vereadores.columns"
   ]
  },
  {
   "cell_type": "markdown",
   "id": "5dca9125",
   "metadata": {},
   "source": [
    "O método `pd.describe` traz um quadro com algumas medidas da estatística descritiva, como as medidas de tendência central, medidas de dispersão e quartis, excluindo os valores NaN (not a number)."
   ]
  },
  {
   "cell_type": "code",
   "execution_count": 7,
   "id": "468e4929-6fbc-4f1e-b44a-033411a5f8a1",
   "metadata": {
    "tags": []
   },
   "outputs": [
    {
     "data": {
      "text/plain": [
       "(24583, 71)"
      ]
     },
     "execution_count": 7,
     "metadata": {},
     "output_type": "execute_result"
    }
   ],
   "source": [
    "df_vereadores.shape"
   ]
  },
  {
   "cell_type": "code",
   "execution_count": 8,
   "id": "979940fa",
   "metadata": {
    "tags": []
   },
   "outputs": [
    {
     "data": {
      "text/html": [
       "<div>\n",
       "<style scoped>\n",
       "    .dataframe tbody tr th:only-of-type {\n",
       "        vertical-align: middle;\n",
       "    }\n",
       "\n",
       "    .dataframe tbody tr th {\n",
       "        vertical-align: top;\n",
       "    }\n",
       "\n",
       "    .dataframe thead th {\n",
       "        text-align: right;\n",
       "    }\n",
       "</style>\n",
       "<table border=\"1\" class=\"dataframe\">\n",
       "  <thead>\n",
       "    <tr style=\"text-align: right;\">\n",
       "      <th></th>\n",
       "      <th>ANO_ELEICAO</th>\n",
       "      <th>CD_TIPO_ELEICAO</th>\n",
       "      <th>NR_TURNO</th>\n",
       "      <th>CD_ELEICAO</th>\n",
       "      <th>SG_UE</th>\n",
       "      <th>CD_CARGO</th>\n",
       "      <th>SQ_CANDIDATO</th>\n",
       "      <th>NR_CANDIDATO</th>\n",
       "      <th>NR_CPF_CANDIDATO</th>\n",
       "      <th>CD_SITUACAO_CANDIDATURA</th>\n",
       "      <th>...</th>\n",
       "      <th>CD_ESTADO_CIVIL</th>\n",
       "      <th>CD_COR_RACA</th>\n",
       "      <th>CD_OCUPACAO</th>\n",
       "      <th>VR_DESPESA_MAX_CAMPANHA</th>\n",
       "      <th>CD_SIT_TOT_TURNO</th>\n",
       "      <th>NR_PROTOCOLO_CANDIDATURA</th>\n",
       "      <th>NR_PROCESSO</th>\n",
       "      <th>CD_SITUACAO_CANDIDATO_PLEITO</th>\n",
       "      <th>CD_SITUACAO_CANDIDATO_URNA</th>\n",
       "      <th>CD_SITUACAO_CANDIDATO_TOT</th>\n",
       "    </tr>\n",
       "  </thead>\n",
       "  <tbody>\n",
       "    <tr>\n",
       "      <th>count</th>\n",
       "      <td>24583.0</td>\n",
       "      <td>24583.0</td>\n",
       "      <td>24583.0</td>\n",
       "      <td>24583.000000</td>\n",
       "      <td>24583.000000</td>\n",
       "      <td>24583.0</td>\n",
       "      <td>2.458300e+04</td>\n",
       "      <td>24583.000000</td>\n",
       "      <td>2.458300e+04</td>\n",
       "      <td>24583.000000</td>\n",
       "      <td>...</td>\n",
       "      <td>24583.000000</td>\n",
       "      <td>24583.000000</td>\n",
       "      <td>24583.000000</td>\n",
       "      <td>24583.000000</td>\n",
       "      <td>24583.000000</td>\n",
       "      <td>24583.0</td>\n",
       "      <td>2.458300e+04</td>\n",
       "      <td>24583.000000</td>\n",
       "      <td>24583.000000</td>\n",
       "      <td>24583.000000</td>\n",
       "    </tr>\n",
       "    <tr>\n",
       "      <th>mean</th>\n",
       "      <td>2020.0</td>\n",
       "      <td>2.0</td>\n",
       "      <td>1.0</td>\n",
       "      <td>426.408860</td>\n",
       "      <td>4934.148314</td>\n",
       "      <td>13.0</td>\n",
       "      <td>1.296959e+11</td>\n",
       "      <td>31086.054875</td>\n",
       "      <td>4.780648e+10</td>\n",
       "      <td>11.494773</td>\n",
       "      <td>...</td>\n",
       "      <td>2.224952</td>\n",
       "      <td>2.596022</td>\n",
       "      <td>552.461376</td>\n",
       "      <td>59365.732494</td>\n",
       "      <td>4.288614</td>\n",
       "      <td>-1.0</td>\n",
       "      <td>6.002713e+18</td>\n",
       "      <td>2.055974</td>\n",
       "      <td>2.088679</td>\n",
       "      <td>2.106374</td>\n",
       "    </tr>\n",
       "    <tr>\n",
       "      <th>std</th>\n",
       "      <td>0.0</td>\n",
       "      <td>0.0</td>\n",
       "      <td>0.0</td>\n",
       "      <td>2.757078</td>\n",
       "      <td>663.648303</td>\n",
       "      <td>0.0</td>\n",
       "      <td>3.205320e+10</td>\n",
       "      <td>20829.576759</td>\n",
       "      <td>3.104649e+10</td>\n",
       "      <td>2.071706</td>\n",
       "      <td>...</td>\n",
       "      <td>1.837225</td>\n",
       "      <td>0.888529</td>\n",
       "      <td>326.046922</td>\n",
       "      <td>93041.750641</td>\n",
       "      <td>1.283715</td>\n",
       "      <td>0.0</td>\n",
       "      <td>1.704343e+15</td>\n",
       "      <td>1.468889</td>\n",
       "      <td>1.624685</td>\n",
       "      <td>1.618616</td>\n",
       "    </tr>\n",
       "    <tr>\n",
       "      <th>min</th>\n",
       "      <td>2020.0</td>\n",
       "      <td>2.0</td>\n",
       "      <td>1.0</td>\n",
       "      <td>426.000000</td>\n",
       "      <td>4006.000000</td>\n",
       "      <td>13.0</td>\n",
       "      <td>3.000063e+10</td>\n",
       "      <td>10000.000000</td>\n",
       "      <td>-4.000000e+00</td>\n",
       "      <td>3.000000</td>\n",
       "      <td>...</td>\n",
       "      <td>-4.000000</td>\n",
       "      <td>-4.000000</td>\n",
       "      <td>-4.000000</td>\n",
       "      <td>-4.000000</td>\n",
       "      <td>-1.000000</td>\n",
       "      <td>-1.0</td>\n",
       "      <td>6.000168e+18</td>\n",
       "      <td>-1.000000</td>\n",
       "      <td>-1.000000</td>\n",
       "      <td>-1.000000</td>\n",
       "    </tr>\n",
       "    <tr>\n",
       "      <th>25%</th>\n",
       "      <td>2020.0</td>\n",
       "      <td>2.0</td>\n",
       "      <td>1.0</td>\n",
       "      <td>426.000000</td>\n",
       "      <td>4332.000000</td>\n",
       "      <td>13.0</td>\n",
       "      <td>1.400008e+11</td>\n",
       "      <td>15015.000000</td>\n",
       "      <td>1.955834e+10</td>\n",
       "      <td>12.000000</td>\n",
       "      <td>...</td>\n",
       "      <td>1.000000</td>\n",
       "      <td>2.000000</td>\n",
       "      <td>265.000000</td>\n",
       "      <td>15568.960000</td>\n",
       "      <td>4.000000</td>\n",
       "      <td>-1.0</td>\n",
       "      <td>6.001442e+18</td>\n",
       "      <td>2.000000</td>\n",
       "      <td>2.000000</td>\n",
       "      <td>2.000000</td>\n",
       "    </tr>\n",
       "    <tr>\n",
       "      <th>50%</th>\n",
       "      <td>2020.0</td>\n",
       "      <td>2.0</td>\n",
       "      <td>1.0</td>\n",
       "      <td>426.000000</td>\n",
       "      <td>4774.000000</td>\n",
       "      <td>13.0</td>\n",
       "      <td>1.400009e+11</td>\n",
       "      <td>22300.000000</td>\n",
       "      <td>5.162824e+10</td>\n",
       "      <td>12.000000</td>\n",
       "      <td>...</td>\n",
       "      <td>1.000000</td>\n",
       "      <td>3.000000</td>\n",
       "      <td>541.000000</td>\n",
       "      <td>24713.500000</td>\n",
       "      <td>5.000000</td>\n",
       "      <td>-1.0</td>\n",
       "      <td>6.002299e+18</td>\n",
       "      <td>2.000000</td>\n",
       "      <td>2.000000</td>\n",
       "      <td>2.000000</td>\n",
       "    </tr>\n",
       "    <tr>\n",
       "      <th>75%</th>\n",
       "      <td>2020.0</td>\n",
       "      <td>2.0</td>\n",
       "      <td>1.0</td>\n",
       "      <td>426.000000</td>\n",
       "      <td>5517.000000</td>\n",
       "      <td>13.0</td>\n",
       "      <td>1.400011e+11</td>\n",
       "      <td>45133.000000</td>\n",
       "      <td>7.379923e+10</td>\n",
       "      <td>12.000000</td>\n",
       "      <td>...</td>\n",
       "      <td>3.000000</td>\n",
       "      <td>3.000000</td>\n",
       "      <td>999.000000</td>\n",
       "      <td>53698.780000</td>\n",
       "      <td>5.000000</td>\n",
       "      <td>-1.0</td>\n",
       "      <td>6.003640e+18</td>\n",
       "      <td>2.000000</td>\n",
       "      <td>2.000000</td>\n",
       "      <td>2.000000</td>\n",
       "    </tr>\n",
       "    <tr>\n",
       "      <th>max</th>\n",
       "      <td>2020.0</td>\n",
       "      <td>2.0</td>\n",
       "      <td>1.0</td>\n",
       "      <td>445.000000</td>\n",
       "      <td>6173.000000</td>\n",
       "      <td>13.0</td>\n",
       "      <td>1.400013e+11</td>\n",
       "      <td>90999.000000</td>\n",
       "      <td>9.998375e+10</td>\n",
       "      <td>12.000000</td>\n",
       "      <td>...</td>\n",
       "      <td>9.000000</td>\n",
       "      <td>6.000000</td>\n",
       "      <td>999.000000</td>\n",
       "      <td>438043.030000</td>\n",
       "      <td>5.000000</td>\n",
       "      <td>-1.0</td>\n",
       "      <td>6.016571e+18</td>\n",
       "      <td>20.000000</td>\n",
       "      <td>20.000000</td>\n",
       "      <td>20.000000</td>\n",
       "    </tr>\n",
       "  </tbody>\n",
       "</table>\n",
       "<p>8 rows × 30 columns</p>\n",
       "</div>"
      ],
      "text/plain": [
       "       ANO_ELEICAO  CD_TIPO_ELEICAO  NR_TURNO    CD_ELEICAO         SG_UE  \\\n",
       "count      24583.0          24583.0   24583.0  24583.000000  24583.000000   \n",
       "mean        2020.0              2.0       1.0    426.408860   4934.148314   \n",
       "std            0.0              0.0       0.0      2.757078    663.648303   \n",
       "min         2020.0              2.0       1.0    426.000000   4006.000000   \n",
       "25%         2020.0              2.0       1.0    426.000000   4332.000000   \n",
       "50%         2020.0              2.0       1.0    426.000000   4774.000000   \n",
       "75%         2020.0              2.0       1.0    426.000000   5517.000000   \n",
       "max         2020.0              2.0       1.0    445.000000   6173.000000   \n",
       "\n",
       "       CD_CARGO  SQ_CANDIDATO  NR_CANDIDATO  NR_CPF_CANDIDATO  \\\n",
       "count   24583.0  2.458300e+04  24583.000000      2.458300e+04   \n",
       "mean       13.0  1.296959e+11  31086.054875      4.780648e+10   \n",
       "std         0.0  3.205320e+10  20829.576759      3.104649e+10   \n",
       "min        13.0  3.000063e+10  10000.000000     -4.000000e+00   \n",
       "25%        13.0  1.400008e+11  15015.000000      1.955834e+10   \n",
       "50%        13.0  1.400009e+11  22300.000000      5.162824e+10   \n",
       "75%        13.0  1.400011e+11  45133.000000      7.379923e+10   \n",
       "max        13.0  1.400013e+11  90999.000000      9.998375e+10   \n",
       "\n",
       "       CD_SITUACAO_CANDIDATURA  ...  CD_ESTADO_CIVIL   CD_COR_RACA  \\\n",
       "count             24583.000000  ...     24583.000000  24583.000000   \n",
       "mean                 11.494773  ...         2.224952      2.596022   \n",
       "std                   2.071706  ...         1.837225      0.888529   \n",
       "min                   3.000000  ...        -4.000000     -4.000000   \n",
       "25%                  12.000000  ...         1.000000      2.000000   \n",
       "50%                  12.000000  ...         1.000000      3.000000   \n",
       "75%                  12.000000  ...         3.000000      3.000000   \n",
       "max                  12.000000  ...         9.000000      6.000000   \n",
       "\n",
       "        CD_OCUPACAO  VR_DESPESA_MAX_CAMPANHA  CD_SIT_TOT_TURNO  \\\n",
       "count  24583.000000             24583.000000      24583.000000   \n",
       "mean     552.461376             59365.732494          4.288614   \n",
       "std      326.046922             93041.750641          1.283715   \n",
       "min       -4.000000                -4.000000         -1.000000   \n",
       "25%      265.000000             15568.960000          4.000000   \n",
       "50%      541.000000             24713.500000          5.000000   \n",
       "75%      999.000000             53698.780000          5.000000   \n",
       "max      999.000000            438043.030000          5.000000   \n",
       "\n",
       "       NR_PROTOCOLO_CANDIDATURA   NR_PROCESSO  CD_SITUACAO_CANDIDATO_PLEITO  \\\n",
       "count                   24583.0  2.458300e+04                  24583.000000   \n",
       "mean                       -1.0  6.002713e+18                      2.055974   \n",
       "std                         0.0  1.704343e+15                      1.468889   \n",
       "min                        -1.0  6.000168e+18                     -1.000000   \n",
       "25%                        -1.0  6.001442e+18                      2.000000   \n",
       "50%                        -1.0  6.002299e+18                      2.000000   \n",
       "75%                        -1.0  6.003640e+18                      2.000000   \n",
       "max                        -1.0  6.016571e+18                     20.000000   \n",
       "\n",
       "       CD_SITUACAO_CANDIDATO_URNA  CD_SITUACAO_CANDIDATO_TOT  \n",
       "count                24583.000000               24583.000000  \n",
       "mean                     2.088679                   2.106374  \n",
       "std                      1.624685                   1.618616  \n",
       "min                     -1.000000                  -1.000000  \n",
       "25%                      2.000000                   2.000000  \n",
       "50%                      2.000000                   2.000000  \n",
       "75%                      2.000000                   2.000000  \n",
       "max                     20.000000                  20.000000  \n",
       "\n",
       "[8 rows x 30 columns]"
      ]
     },
     "execution_count": 8,
     "metadata": {},
     "output_type": "execute_result"
    }
   ],
   "source": [
    "df_vereadores.describe()"
   ]
  },
  {
   "cell_type": "markdown",
   "id": "5fb2032f",
   "metadata": {},
   "source": [
    "Para gerar relatórios interativos em HTML a partir de um dataframe do pandas usaremos a biblioteca Pandas Profiling, com ele para cada coluna será apresentado estatístico correspondente ao tipo de dado."
   ]
  },
  {
   "cell_type": "code",
   "execution_count": 2,
   "id": "3f95afff",
   "metadata": {},
   "outputs": [
    {
     "name": "stdout",
     "output_type": "stream",
     "text": [
      "Collecting ydata-profiling\n",
      "  Downloading ydata_profiling-4.3.1-py2.py3-none-any.whl (352 kB)\n",
      "                                              0.0/353.0 kB ? eta -:--:--\n",
      "     ----------------------------           266.2/353.0 kB 5.4 MB/s eta 0:00:01\n",
      "     -------------------------------------- 353.0/353.0 kB 5.5 MB/s eta 0:00:00\n",
      "Collecting scipy<1.11,>=1.4.1 (from ydata-profiling)\n",
      "  Downloading scipy-1.10.1-cp311-cp311-win_amd64.whl (42.2 MB)\n",
      "                                              0.0/42.2 MB ? eta -:--:--\n",
      "                                              0.6/42.2 MB 12.2 MB/s eta 0:00:04\n",
      "     -                                        1.2/42.2 MB 12.2 MB/s eta 0:00:04\n",
      "     -                                        2.0/42.2 MB 13.9 MB/s eta 0:00:03\n",
      "     --                                       2.6/42.2 MB 15.0 MB/s eta 0:00:03\n",
      "     ---                                      3.4/42.2 MB 14.5 MB/s eta 0:00:03\n",
      "     ---                                      4.2/42.2 MB 14.8 MB/s eta 0:00:03\n",
      "     -----                                    5.3/42.2 MB 16.8 MB/s eta 0:00:03\n",
      "     -----                                    6.3/42.2 MB 16.8 MB/s eta 0:00:03\n",
      "     ------                                   6.8/42.2 MB 16.8 MB/s eta 0:00:03\n",
      "     ------                                   7.3/42.2 MB 16.0 MB/s eta 0:00:03\n",
      "     --------                                 8.4/42.2 MB 16.4 MB/s eta 0:00:03\n",
      "     ---------                               10.2/42.2 MB 18.1 MB/s eta 0:00:02\n",
      "     ----------                              11.8/42.2 MB 20.5 MB/s eta 0:00:02\n",
      "     ------------                            13.4/42.2 MB 24.2 MB/s eta 0:00:02\n",
      "     -------------                           14.1/42.2 MB 22.6 MB/s eta 0:00:02\n",
      "     -------------                           14.7/42.2 MB 22.6 MB/s eta 0:00:02\n",
      "     -------------                           14.9/42.2 MB 21.1 MB/s eta 0:00:02\n",
      "     ---------------                         16.4/42.2 MB 21.1 MB/s eta 0:00:02\n",
      "     ----------------                        17.6/42.2 MB 25.2 MB/s eta 0:00:01\n",
      "     -----------------                       18.8/42.2 MB 24.2 MB/s eta 0:00:01\n",
      "     ------------------                      19.9/42.2 MB 23.4 MB/s eta 0:00:01\n",
      "     -------------------                     20.9/42.2 MB 21.9 MB/s eta 0:00:01\n",
      "     -------------------                     21.4/42.2 MB 21.1 MB/s eta 0:00:01\n",
      "     --------------------                    21.7/42.2 MB 19.8 MB/s eta 0:00:02\n",
      "     --------------------                    22.5/42.2 MB 18.7 MB/s eta 0:00:02\n",
      "     ----------------------                  24.0/42.2 MB 18.2 MB/s eta 0:00:02\n",
      "     -----------------------                 25.3/42.2 MB 21.8 MB/s eta 0:00:01\n",
      "     ------------------------                26.5/42.2 MB 21.1 MB/s eta 0:00:01\n",
      "     -------------------------               27.5/42.2 MB 21.1 MB/s eta 0:00:01\n",
      "     --------------------------              28.6/42.2 MB 20.5 MB/s eta 0:00:01\n",
      "     --------------------------              29.0/42.2 MB 19.8 MB/s eta 0:00:01\n",
      "     ---------------------------             30.2/42.2 MB 19.9 MB/s eta 0:00:01\n",
      "     -----------------------------           31.4/42.2 MB 20.5 MB/s eta 0:00:01\n",
      "     ------------------------------          32.7/42.2 MB 24.2 MB/s eta 0:00:01\n",
      "     -------------------------------         33.8/42.2 MB 23.4 MB/s eta 0:00:01\n",
      "     --------------------------------        34.8/42.2 MB 22.6 MB/s eta 0:00:01\n",
      "     --------------------------------        35.7/42.2 MB 21.8 MB/s eta 0:00:01\n",
      "     ---------------------------------       36.5/42.2 MB 21.1 MB/s eta 0:00:01\n",
      "     -----------------------------------     38.3/42.2 MB 23.4 MB/s eta 0:00:01\n",
      "     ------------------------------------    40.0/42.2 MB 26.2 MB/s eta 0:00:01\n",
      "     --------------------------------------  41.8/42.2 MB 28.5 MB/s eta 0:00:01\n",
      "     --------------------------------------  42.2/42.2 MB 27.3 MB/s eta 0:00:01\n",
      "     --------------------------------------  42.2/42.2 MB 27.3 MB/s eta 0:00:01\n",
      "     --------------------------------------  42.2/42.2 MB 27.3 MB/s eta 0:00:01\n",
      "     --------------------------------------- 42.2/42.2 MB 19.9 MB/s eta 0:00:00\n",
      "Requirement already satisfied: pandas!=1.4.0,<2.1,>1.1 in c:\\users\\gm_bi\\documents\\github\\escola_de_dados\\python-inovacao-civica\\env\\lib\\site-packages (from ydata-profiling) (2.0.2)\n",
      "Requirement already satisfied: matplotlib<4,>=3.2 in c:\\users\\gm_bi\\documents\\github\\escola_de_dados\\python-inovacao-civica\\env\\lib\\site-packages (from ydata-profiling) (3.7.1)\n",
      "Collecting pydantic<2,>=1.8.1 (from ydata-profiling)\n",
      "  Downloading pydantic-1.10.10-cp311-cp311-win_amd64.whl (2.1 MB)\n",
      "                                              0.0/2.1 MB ? eta -:--:--\n",
      "     --------------------                     1.1/2.1 MB 34.0 MB/s eta 0:00:01\n",
      "     ---------------------------------------- 2.1/2.1 MB 26.8 MB/s eta 0:00:00\n",
      "Requirement already satisfied: PyYAML<6.1,>=5.0.0 in c:\\users\\gm_bi\\documents\\github\\escola_de_dados\\python-inovacao-civica\\env\\lib\\site-packages (from ydata-profiling) (6.0)\n",
      "Requirement already satisfied: jinja2<3.2,>=2.11.1 in c:\\users\\gm_bi\\documents\\github\\escola_de_dados\\python-inovacao-civica\\env\\lib\\site-packages (from ydata-profiling) (3.1.2)\n",
      "Collecting visions[type_image_path]==0.7.5 (from ydata-profiling)\n",
      "  Downloading visions-0.7.5-py3-none-any.whl (102 kB)\n",
      "                                              0.0/102.7 kB ? eta -:--:--\n",
      "     -------------------------------------- 102.7/102.7 kB 5.8 MB/s eta 0:00:00\n",
      "Collecting numpy<1.24,>=1.16.0 (from ydata-profiling)\n",
      "  Downloading numpy-1.23.5-cp311-cp311-win_amd64.whl (14.6 MB)\n",
      "                                              0.0/14.6 MB ? eta -:--:--\n",
      "     -                                        0.6/14.6 MB 13.1 MB/s eta 0:00:02\n",
      "     --                                       1.1/14.6 MB 11.6 MB/s eta 0:00:02\n",
      "     ----                                     1.8/14.6 MB 12.9 MB/s eta 0:00:01\n",
      "     -------                                  2.6/14.6 MB 13.9 MB/s eta 0:00:01\n",
      "     --------                                 3.2/14.6 MB 13.5 MB/s eta 0:00:01\n",
      "     -----------                              4.1/14.6 MB 14.5 MB/s eta 0:00:01\n",
      "     --------------                           5.3/14.6 MB 16.1 MB/s eta 0:00:01\n",
      "     ------------------                       6.7/14.6 MB 17.9 MB/s eta 0:00:01\n",
      "     ---------------------                    7.9/14.6 MB 18.1 MB/s eta 0:00:01\n",
      "     -------------------------                9.3/14.6 MB 19.9 MB/s eta 0:00:01\n",
      "     ----------------------------            10.8/14.6 MB 21.8 MB/s eta 0:00:01\n",
      "     --------------------------------        12.3/14.6 MB 25.2 MB/s eta 0:00:01\n",
      "     ------------------------------------    13.7/14.6 MB 28.4 MB/s eta 0:00:01\n",
      "     --------------------------------------  14.6/14.6 MB 28.4 MB/s eta 0:00:01\n",
      "     --------------------------------------- 14.6/14.6 MB 24.2 MB/s eta 0:00:00\n",
      "Requirement already satisfied: htmlmin==0.1.12 in c:\\users\\gm_bi\\documents\\github\\escola_de_dados\\python-inovacao-civica\\env\\lib\\site-packages (from ydata-profiling) (0.1.12)\n",
      "Requirement already satisfied: phik<0.13,>=0.11.1 in c:\\users\\gm_bi\\documents\\github\\escola_de_dados\\python-inovacao-civica\\env\\lib\\site-packages (from ydata-profiling) (0.12.3)\n",
      "Requirement already satisfied: requests<3,>=2.24.0 in c:\\users\\gm_bi\\documents\\github\\escola_de_dados\\python-inovacao-civica\\env\\lib\\site-packages (from ydata-profiling) (2.31.0)\n",
      "Requirement already satisfied: tqdm<5,>=4.48.2 in c:\\users\\gm_bi\\documents\\github\\escola_de_dados\\python-inovacao-civica\\env\\lib\\site-packages (from ydata-profiling) (4.65.0)\n",
      "Requirement already satisfied: seaborn<0.13,>=0.10.1 in c:\\users\\gm_bi\\documents\\github\\escola_de_dados\\python-inovacao-civica\\env\\lib\\site-packages (from ydata-profiling) (0.12.2)\n",
      "Requirement already satisfied: multimethod<2,>=1.4 in c:\\users\\gm_bi\\documents\\github\\escola_de_dados\\python-inovacao-civica\\env\\lib\\site-packages (from ydata-profiling) (1.9.1)\n",
      "Collecting statsmodels<1,>=0.13.2 (from ydata-profiling)\n",
      "  Downloading statsmodels-0.14.0-cp311-cp311-win_amd64.whl (9.2 MB)\n",
      "                                              0.0/9.2 MB ? eta -:--:--\n",
      "     -                                        0.2/9.2 MB 7.6 MB/s eta 0:00:02\n",
      "     ----                                     0.9/9.2 MB 11.9 MB/s eta 0:00:01\n",
      "     --------                                 1.9/9.2 MB 15.2 MB/s eta 0:00:01\n",
      "     --------------                           3.4/9.2 MB 19.5 MB/s eta 0:00:01\n",
      "     ---------------------                    5.0/9.2 MB 22.6 MB/s eta 0:00:01\n",
      "     ----------------------------             6.5/9.2 MB 24.5 MB/s eta 0:00:01\n",
      "     ----------------------------------       8.0/9.2 MB 25.6 MB/s eta 0:00:01\n",
      "     ---------------------------------------  9.0/9.2 MB 26.1 MB/s eta 0:00:01\n",
      "     ---------------------------------------- 9.2/9.2 MB 22.6 MB/s eta 0:00:00\n",
      "Collecting typeguard<3,>=2.13.2 (from ydata-profiling)\n",
      "  Downloading typeguard-2.13.3-py3-none-any.whl (17 kB)\n",
      "Requirement already satisfied: imagehash==4.3.1 in c:\\users\\gm_bi\\documents\\github\\escola_de_dados\\python-inovacao-civica\\env\\lib\\site-packages (from ydata-profiling) (4.3.1)\n",
      "Collecting wordcloud>=1.9.1 (from ydata-profiling)\n",
      "  Downloading wordcloud-1.9.2-cp311-cp311-win_amd64.whl (151 kB)\n",
      "                                              0.0/151.4 kB ? eta -:--:--\n",
      "     -------------------------------------- 151.4/151.4 kB 8.8 MB/s eta 0:00:00\n",
      "Collecting dacite>=1.8 (from ydata-profiling)\n",
      "  Downloading dacite-1.8.1-py3-none-any.whl (14 kB)\n",
      "Requirement already satisfied: PyWavelets in c:\\users\\gm_bi\\documents\\github\\escola_de_dados\\python-inovacao-civica\\env\\lib\\site-packages (from imagehash==4.3.1->ydata-profiling) (1.4.1)\n",
      "Requirement already satisfied: pillow in c:\\users\\gm_bi\\documents\\github\\escola_de_dados\\python-inovacao-civica\\env\\lib\\site-packages (from imagehash==4.3.1->ydata-profiling) (9.5.0)\n",
      "Requirement already satisfied: attrs>=19.3.0 in c:\\users\\gm_bi\\documents\\github\\escola_de_dados\\python-inovacao-civica\\env\\lib\\site-packages (from visions[type_image_path]==0.7.5->ydata-profiling) (23.1.0)\n",
      "Requirement already satisfied: networkx>=2.4 in c:\\users\\gm_bi\\documents\\github\\escola_de_dados\\python-inovacao-civica\\env\\lib\\site-packages (from visions[type_image_path]==0.7.5->ydata-profiling) (3.1)\n",
      "Requirement already satisfied: tangled-up-in-unicode>=0.0.4 in c:\\users\\gm_bi\\documents\\github\\escola_de_dados\\python-inovacao-civica\\env\\lib\\site-packages (from visions[type_image_path]==0.7.5->ydata-profiling) (0.2.0)\n",
      "Requirement already satisfied: MarkupSafe>=2.0 in c:\\users\\gm_bi\\documents\\github\\escola_de_dados\\python-inovacao-civica\\env\\lib\\site-packages (from jinja2<3.2,>=2.11.1->ydata-profiling) (2.1.3)\n",
      "Requirement already satisfied: contourpy>=1.0.1 in c:\\users\\gm_bi\\documents\\github\\escola_de_dados\\python-inovacao-civica\\env\\lib\\site-packages (from matplotlib<4,>=3.2->ydata-profiling) (1.1.0)\n",
      "Requirement already satisfied: cycler>=0.10 in c:\\users\\gm_bi\\documents\\github\\escola_de_dados\\python-inovacao-civica\\env\\lib\\site-packages (from matplotlib<4,>=3.2->ydata-profiling) (0.11.0)\n",
      "Requirement already satisfied: fonttools>=4.22.0 in c:\\users\\gm_bi\\documents\\github\\escola_de_dados\\python-inovacao-civica\\env\\lib\\site-packages (from matplotlib<4,>=3.2->ydata-profiling) (4.40.0)\n",
      "Requirement already satisfied: kiwisolver>=1.0.1 in c:\\users\\gm_bi\\documents\\github\\escola_de_dados\\python-inovacao-civica\\env\\lib\\site-packages (from matplotlib<4,>=3.2->ydata-profiling) (1.4.4)\n",
      "Requirement already satisfied: packaging>=20.0 in c:\\users\\gm_bi\\documents\\github\\escola_de_dados\\python-inovacao-civica\\env\\lib\\site-packages (from matplotlib<4,>=3.2->ydata-profiling) (23.1)\n",
      "Requirement already satisfied: pyparsing>=2.3.1 in c:\\users\\gm_bi\\documents\\github\\escola_de_dados\\python-inovacao-civica\\env\\lib\\site-packages (from matplotlib<4,>=3.2->ydata-profiling) (3.1.0)\n",
      "Requirement already satisfied: python-dateutil>=2.7 in c:\\users\\gm_bi\\documents\\github\\escola_de_dados\\python-inovacao-civica\\env\\lib\\site-packages (from matplotlib<4,>=3.2->ydata-profiling) (2.8.2)\n",
      "Requirement already satisfied: pytz>=2020.1 in c:\\users\\gm_bi\\documents\\github\\escola_de_dados\\python-inovacao-civica\\env\\lib\\site-packages (from pandas!=1.4.0,<2.1,>1.1->ydata-profiling) (2023.3)\n",
      "Requirement already satisfied: tzdata>=2022.1 in c:\\users\\gm_bi\\documents\\github\\escola_de_dados\\python-inovacao-civica\\env\\lib\\site-packages (from pandas!=1.4.0,<2.1,>1.1->ydata-profiling) (2023.3)\n",
      "Requirement already satisfied: joblib>=0.14.1 in c:\\users\\gm_bi\\documents\\github\\escola_de_dados\\python-inovacao-civica\\env\\lib\\site-packages (from phik<0.13,>=0.11.1->ydata-profiling) (1.1.1)\n",
      "Requirement already satisfied: typing-extensions>=4.2.0 in c:\\users\\gm_bi\\documents\\github\\escola_de_dados\\python-inovacao-civica\\env\\lib\\site-packages (from pydantic<2,>=1.8.1->ydata-profiling) (4.7.1)\n",
      "Requirement already satisfied: charset-normalizer<4,>=2 in c:\\users\\gm_bi\\documents\\github\\escola_de_dados\\python-inovacao-civica\\env\\lib\\site-packages (from requests<3,>=2.24.0->ydata-profiling) (3.1.0)\n",
      "Requirement already satisfied: idna<4,>=2.5 in c:\\users\\gm_bi\\documents\\github\\escola_de_dados\\python-inovacao-civica\\env\\lib\\site-packages (from requests<3,>=2.24.0->ydata-profiling) (3.4)\n",
      "Requirement already satisfied: urllib3<3,>=1.21.1 in c:\\users\\gm_bi\\documents\\github\\escola_de_dados\\python-inovacao-civica\\env\\lib\\site-packages (from requests<3,>=2.24.0->ydata-profiling) (2.0.3)\n",
      "Requirement already satisfied: certifi>=2017.4.17 in c:\\users\\gm_bi\\documents\\github\\escola_de_dados\\python-inovacao-civica\\env\\lib\\site-packages (from requests<3,>=2.24.0->ydata-profiling) (2023.5.7)\n",
      "Collecting patsy>=0.5.2 (from statsmodels<1,>=0.13.2->ydata-profiling)\n",
      "  Downloading patsy-0.5.3-py2.py3-none-any.whl (233 kB)\n",
      "                                              0.0/233.8 kB ? eta -:--:--\n",
      "     ----------                              61.4/233.8 kB 1.6 MB/s eta 0:00:01\n",
      "     ------------                          81.9/233.8 kB 907.3 kB/s eta 0:00:01\n",
      "     -------------------------------------- 233.8/233.8 kB 1.8 MB/s eta 0:00:00\n",
      "Requirement already satisfied: colorama in c:\\users\\gm_bi\\documents\\github\\escola_de_dados\\python-inovacao-civica\\env\\lib\\site-packages (from tqdm<5,>=4.48.2->ydata-profiling) (0.4.6)\n",
      "Requirement already satisfied: six in c:\\users\\gm_bi\\documents\\github\\escola_de_dados\\python-inovacao-civica\\env\\lib\\site-packages (from patsy>=0.5.2->statsmodels<1,>=0.13.2->ydata-profiling) (1.16.0)\n",
      "Installing collected packages: typeguard, pydantic, numpy, dacite, scipy, patsy, visions, statsmodels, wordcloud, ydata-profiling\n",
      "  Attempting uninstall: pydantic\n",
      "    Found existing installation: pydantic 2.0\n",
      "    Uninstalling pydantic-2.0:\n",
      "      Successfully uninstalled pydantic-2.0\n",
      "  Attempting uninstall: numpy\n",
      "    Found existing installation: numpy 1.25.0\n",
      "    Uninstalling numpy-1.25.0:\n",
      "      Successfully uninstalled numpy-1.25.0\n",
      "  Attempting uninstall: scipy\n",
      "    Found existing installation: scipy 1.11.1\n",
      "    Uninstalling scipy-1.11.1:\n",
      "      Successfully uninstalled scipy-1.11.1\n",
      "  Attempting uninstall: visions\n",
      "    Found existing installation: visions 0.7.4\n",
      "    Uninstalling visions-0.7.4:\n",
      "      Successfully uninstalled visions-0.7.4\n",
      "Successfully installed dacite-1.8.1 numpy-1.23.5 patsy-0.5.3 pydantic-1.10.10 scipy-1.10.1 statsmodels-0.14.0 typeguard-2.13.3 visions-0.7.5 wordcloud-1.9.2 ydata-profiling-4.3.1\n",
      "Note: you may need to restart the kernel to use updated packages.\n"
     ]
    }
   ],
   "source": [
    "# pip install ydata-profiling"
   ]
  },
  {
   "cell_type": "code",
   "execution_count": 9,
   "id": "edb86abd",
   "metadata": {},
   "outputs": [
    {
     "name": "stdout",
     "output_type": "stream",
     "text": [
      "^C\n",
      "Note: you may need to restart the kernel to use updated packages.\n"
     ]
    },
    {
     "name": "stdout",
     "output_type": "stream",
     "text": [
      "Name: ydata-profiling\n",
      "Version: 4.3.1\n",
      "Summary: Generate profile report for pandas DataFrame\n",
      "Home-page: https://github.com/ydataai/ydata-profiling\n",
      "Author: YData Labs Inc\n",
      "Author-email: opensource@ydata.ai\n",
      "License: MIT\n",
      "Location: c:\\Users\\gm_bi\\Documents\\GitHub\\Escola_de_Dados\\python-inovacao-civica\\env\\Lib\\site-packages\n",
      "Requires: dacite, htmlmin, imagehash, jinja2, matplotlib, multimethod, numpy, pandas, phik, pydantic, PyYAML, requests, scipy, seaborn, statsmodels, tqdm, typeguard, visions, wordcloud\n",
      "Required-by: \n"
     ]
    }
   ],
   "source": [
    "pip show ydata-profiling"
   ]
  },
  {
   "cell_type": "code",
   "execution_count": 11,
   "id": "7add4172",
   "metadata": {
    "tags": []
   },
   "outputs": [],
   "source": [
    "import numpy as np\n",
    "from ydata_profiling import ProfileReport"
   ]
  },
  {
   "cell_type": "code",
   "execution_count": 12,
   "id": "adc73219",
   "metadata": {
    "tags": []
   },
   "outputs": [],
   "source": [
    "profile = ProfileReport(df_vereadores, title=\"Introdução - Pandas Profiling Report\")"
   ]
  },
  {
   "cell_type": "code",
   "execution_count": 15,
   "id": "4c530b6f",
   "metadata": {
    "scrolled": true,
    "tags": []
   },
   "outputs": [
    {
     "name": "stderr",
     "output_type": "stream",
     "text": [
      "Summarize dataset: 100%|██████████| 405/405 [01:24<00:00,  4.78it/s, Completed]                                                           \n",
      "Generate report structure: 100%|██████████| 1/1 [00:25<00:00, 25.43s/it]\n",
      "Render HTML: 100%|██████████| 1/1 [00:10<00:00, 10.43s/it]\n",
      "Export report to file: 100%|██████████| 1/1 [00:00<00:00, 12.82it/s]\n"
     ]
    }
   ],
   "source": [
    "profile.to_file(output_file=\"relatorio_eleicoes_vereadores_2020_ap_pa.html\")"
   ]
  },
  {
   "cell_type": "markdown",
   "id": "ea1dbad2",
   "metadata": {},
   "source": [
    "## Em AP e PA, houveram quantas candidaturas para a prefeitura?"
   ]
  },
  {
   "cell_type": "code",
   "execution_count": 13,
   "id": "a7ae5dad",
   "metadata": {},
   "outputs": [
    {
     "name": "stdout",
     "output_type": "stream",
     "text": [
      "Os estados de AP e PA tiveram 770 candidaturas para a prefeitura.\n"
     ]
    }
   ],
   "source": [
    "df_prefeito = df_completo[df_completo['DS_CARGO'] == 'PREFEITO'].copy()\n",
    "quantidade_prefeitos = df_prefeito.shape[0]\n",
    "print (f'Os estados de AP e PA tiveram {quantidade_prefeitos} candidaturas para a prefeitura.')"
   ]
  },
  {
   "cell_type": "markdown",
   "id": "c18681a1",
   "metadata": {},
   "source": [
    "### Aula 9: medidas de tendência central e dispersão\n",
    "\n",
    "As medidas de tendência central servem para determinar o valor central de uma distribuição. Vamos explorar mais um pouco nosso dataframe e descobrir qual a moda (valor que mais se repete) da colina 'SG_PARTIDO'"
   ]
  },
  {
   "cell_type": "code",
   "execution_count": 14,
   "id": "a1896ac0",
   "metadata": {
    "tags": []
   },
   "outputs": [
    {
     "data": {
      "text/plain": [
       "0    MDB\n",
       "Name: SG_PARTIDO, dtype: object"
      ]
     },
     "execution_count": 14,
     "metadata": {},
     "output_type": "execute_result"
    }
   ],
   "source": [
    "df_vereadores['SG_PARTIDO'].mode()"
   ]
  },
  {
   "cell_type": "markdown",
   "id": "9760d49a",
   "metadata": {},
   "source": [
    "A média aritmética da coluna 'NR_IDADE_DATA_POSSE' é:"
   ]
  },
  {
   "cell_type": "code",
   "execution_count": 15,
   "id": "525f59a3",
   "metadata": {
    "tags": []
   },
   "outputs": [
    {
     "data": {
      "text/plain": [
       "43.164185176145146"
      ]
     },
     "execution_count": 15,
     "metadata": {},
     "output_type": "execute_result"
    }
   ],
   "source": [
    "df_vereadores['NR_IDADE_DATA_POSSE'].mean()"
   ]
  },
  {
   "cell_type": "markdown",
   "id": "11f8b9cb",
   "metadata": {},
   "source": [
    "Continuando a explorar a idade das pessoas candidatas na data da posse, queremos saber qual é o valor que ocupa a posição central do conjunto de dados, após a ordenação dos valores (mediana).\n"
   ]
  },
  {
   "cell_type": "code",
   "execution_count": 16,
   "id": "3db873c0",
   "metadata": {
    "tags": []
   },
   "outputs": [
    {
     "data": {
      "text/plain": [
       "43.0"
      ]
     },
     "execution_count": 16,
     "metadata": {},
     "output_type": "execute_result"
    }
   ],
   "source": [
    "df_vereadores['NR_IDADE_DATA_POSSE'].median()"
   ]
  },
  {
   "cell_type": "markdown",
   "id": "5e26e703",
   "metadata": {},
   "source": [
    "Qual a variância do dado 'NR_IDADE_DATA_POSSE'?"
   ]
  },
  {
   "cell_type": "code",
   "execution_count": 17,
   "id": "e4241393",
   "metadata": {
    "tags": []
   },
   "outputs": [
    {
     "data": {
      "text/plain": [
       "118.23389400874976"
      ]
     },
     "execution_count": 17,
     "metadata": {},
     "output_type": "execute_result"
    }
   ],
   "source": [
    "df_vereadores['NR_IDADE_DATA_POSSE'].var()"
   ]
  },
  {
   "cell_type": "markdown",
   "id": "880c407e",
   "metadata": {},
   "source": [
    "Qual o desvio padrão do dado 'NR_IDADE_DATA_POSSE'?"
   ]
  },
  {
   "cell_type": "code",
   "execution_count": 18,
   "id": "5031f1f4",
   "metadata": {
    "tags": []
   },
   "outputs": [
    {
     "data": {
      "text/plain": [
       "10.873541005980975"
      ]
     },
     "execution_count": 18,
     "metadata": {},
     "output_type": "execute_result"
    }
   ],
   "source": [
    "df_vereadores['NR_IDADE_DATA_POSSE'].std()"
   ]
  },
  {
   "cell_type": "markdown",
   "id": "c6fbfb0b",
   "metadata": {},
   "source": [
    "## Qual a média, moda e mediana do 'VR_DESPESA_MAX_CAMPANHA'?"
   ]
  },
  {
   "cell_type": "code",
   "execution_count": 19,
   "id": "6c0154e6",
   "metadata": {},
   "outputs": [
    {
     "name": "stdout",
     "output_type": "stream",
     "text": [
      "A média é R$66799.60, a moda é R$12307.75 e a mediana é R$24149.88.\n"
     ]
    }
   ],
   "source": [
    "media_despesa_max = df_completo['VR_DESPESA_MAX_CAMPANHA'].mean()\n",
    "moda_despesa_max = df_completo['VR_DESPESA_MAX_CAMPANHA'].mode()[0]\n",
    "mediana_despesa_max = df_completo['VR_DESPESA_MAX_CAMPANHA'].median()\n",
    "\n",
    "print (f'A média é R${media_despesa_max:.2f}, a moda é R${moda_despesa_max} e a mediana é R${mediana_despesa_max}.')"
   ]
  },
  {
   "cell_type": "markdown",
   "id": "818a2d50",
   "metadata": {},
   "source": [
    "### Aula 10: Outliers e valores faltantes\n",
    "\n",
    "\n",
    "De acordo com o dicionário de dados do conjunto de dados do TSE, os valores faltantes estão preenchidos com #NULO#, no entanto o Pandas não reconhece essa palavra como um missing. Faremos a substituição da string \"#NULO#\" pelo valor `None` nas colunas com valores categóricos."
   ]
  },
  {
   "cell_type": "code",
   "execution_count": 20,
   "id": "273c6db3",
   "metadata": {
    "tags": []
   },
   "outputs": [],
   "source": [
    "colunas_categoricas = ['NM_TIPO_ELEICAO', 'DS_ELEICAO', 'TP_ABRANGENCIA', 'SG_UF', 'NM_UE', 'DS_CARGO', \n",
    "                       'NM_CANDIDATO', 'NM_URNA_CANDIDATO', 'NM_SOCIAL_CANDIDATO', 'NM_EMAIL', \n",
    "                       'DS_SITUACAO_CANDIDATURA', 'DS_DETALHE_SITUACAO_CAND', 'TP_AGREMIACAO', 'SG_PARTIDO', \n",
    "                       'NM_PARTIDO', 'NM_COLIGACAO', 'DS_COMPOSICAO_COLIGACAO', 'DS_NACIONALIDADE', \n",
    "                       'SG_UF_NASCIMENTO', 'NM_MUNICIPIO_NASCIMENTO', 'DS_GENERO', 'DS_GRAU_INSTRUCAO', \n",
    "                       'DS_ESTADO_CIVIL', 'DS_COR_RACA', 'DS_OCUPACAO', 'VR_DESPESA_MAX_CAMPANHA', \n",
    "                       'DS_SIT_TOT_TURNO', 'ST_REELEICAO', 'ST_DECLARAR_BENS', 'DS_SITUACAO_CANDIDATO_PLEITO', \n",
    "                       'DS_SITUACAO_CANDIDATO_URNA', 'ST_CANDIDATO_INSERIDO_URNA'\n",
    "                      ]\n"
   ]
  },
  {
   "cell_type": "code",
   "execution_count": 21,
   "id": "ee7060d4",
   "metadata": {
    "tags": []
   },
   "outputs": [],
   "source": [
    "df_vereadores[colunas_categoricas] = df_vereadores.loc[:, colunas_categoricas].replace({'#NULO#': None})"
   ]
  },
  {
   "cell_type": "code",
   "execution_count": 22,
   "id": "3a263f5b",
   "metadata": {
    "tags": []
   },
   "outputs": [
    {
     "name": "stdout",
     "output_type": "stream",
     "text": [
      "<class 'pandas.core.frame.DataFrame'>\n",
      "Index: 24583 entries, 0 to 26152\n",
      "Data columns (total 71 columns):\n",
      " #   Column                         Non-Null Count  Dtype  \n",
      "---  ------                         --------------  -----  \n",
      " 0   DT_GERACAO                     24583 non-null  object \n",
      " 1   HH_GERACAO                     24583 non-null  object \n",
      " 2   ANO_ELEICAO                    24583 non-null  int64  \n",
      " 3   CD_TIPO_ELEICAO                24583 non-null  int64  \n",
      " 4   NM_TIPO_ELEICAO                24583 non-null  object \n",
      " 5   NR_TURNO                       24583 non-null  int64  \n",
      " 6   CD_ELEICAO                     24583 non-null  int64  \n",
      " 7   DS_ELEICAO                     24583 non-null  object \n",
      " 8   DT_ELEICAO                     24583 non-null  object \n",
      " 9   TP_ABRANGENCIA                 24583 non-null  object \n",
      " 10  SG_UF                          24583 non-null  object \n",
      " 11  SG_UE                          24583 non-null  int64  \n",
      " 12  NM_UE                          24583 non-null  object \n",
      " 13  CD_CARGO                       24583 non-null  int64  \n",
      " 14  DS_CARGO                       24583 non-null  object \n",
      " 15  SQ_CANDIDATO                   24583 non-null  int64  \n",
      " 16  NR_CANDIDATO                   24583 non-null  int64  \n",
      " 17  NM_CANDIDATO                   24583 non-null  object \n",
      " 18  NM_URNA_CANDIDATO              24583 non-null  object \n",
      " 19  NM_SOCIAL_CANDIDATO            9 non-null      object \n",
      " 20  NR_CPF_CANDIDATO               24583 non-null  int64  \n",
      " 21  NM_EMAIL                       24583 non-null  object \n",
      " 22  CD_SITUACAO_CANDIDATURA        24583 non-null  int64  \n",
      " 23  DS_SITUACAO_CANDIDATURA        24583 non-null  object \n",
      " 24  CD_DETALHE_SITUACAO_CAND       24583 non-null  int64  \n",
      " 25  DS_DETALHE_SITUACAO_CAND       24583 non-null  object \n",
      " 26  TP_AGREMIACAO                  24583 non-null  object \n",
      " 27  NR_PARTIDO                     24583 non-null  int64  \n",
      " 28  SG_PARTIDO                     24583 non-null  object \n",
      " 29  NM_PARTIDO                     24583 non-null  object \n",
      " 30  NR_FEDERACAO                   24583 non-null  int64  \n",
      " 31  NM_FEDERACAO                   24583 non-null  object \n",
      " 32  SG_FEDERACAO                   24583 non-null  object \n",
      " 33  DS_COMPOSICAO_FEDERACAO        24583 non-null  object \n",
      " 34  SQ_COLIGACAO                   24583 non-null  int64  \n",
      " 35  NM_COLIGACAO                   24583 non-null  object \n",
      " 36  DS_COMPOSICAO_COLIGACAO        24583 non-null  object \n",
      " 37  CD_NACIONALIDADE               24583 non-null  int64  \n",
      " 38  DS_NACIONALIDADE               24583 non-null  object \n",
      " 39  SG_UF_NASCIMENTO               24583 non-null  object \n",
      " 40  CD_MUNICIPIO_NASCIMENTO        24583 non-null  int64  \n",
      " 41  NM_MUNICIPIO_NASCIMENTO        24583 non-null  object \n",
      " 42  DT_NASCIMENTO                  24582 non-null  object \n",
      " 43  NR_IDADE_DATA_POSSE            24582 non-null  float64\n",
      " 44  NR_TITULO_ELEITORAL_CANDIDATO  24583 non-null  int64  \n",
      " 45  CD_GENERO                      24583 non-null  int64  \n",
      " 46  DS_GENERO                      24583 non-null  object \n",
      " 47  CD_GRAU_INSTRUCAO              24583 non-null  int64  \n",
      " 48  DS_GRAU_INSTRUCAO              24583 non-null  object \n",
      " 49  CD_ESTADO_CIVIL                24583 non-null  int64  \n",
      " 50  DS_ESTADO_CIVIL                24583 non-null  object \n",
      " 51  CD_COR_RACA                    24583 non-null  int64  \n",
      " 52  DS_COR_RACA                    24583 non-null  object \n",
      " 53  CD_OCUPACAO                    24583 non-null  int64  \n",
      " 54  DS_OCUPACAO                    24583 non-null  object \n",
      " 55  VR_DESPESA_MAX_CAMPANHA        24583 non-null  float64\n",
      " 56  CD_SIT_TOT_TURNO               24583 non-null  int64  \n",
      " 57  DS_SIT_TOT_TURNO               23686 non-null  object \n",
      " 58  ST_REELEICAO                   24583 non-null  object \n",
      " 59  ST_DECLARAR_BENS               24583 non-null  object \n",
      " 60  NR_PROTOCOLO_CANDIDATURA       24583 non-null  int64  \n",
      " 61  NR_PROCESSO                    24583 non-null  int64  \n",
      " 62  CD_SITUACAO_CANDIDATO_PLEITO   24583 non-null  int64  \n",
      " 63  DS_SITUACAO_CANDIDATO_PLEITO   23686 non-null  object \n",
      " 64  CD_SITUACAO_CANDIDATO_URNA     24583 non-null  int64  \n",
      " 65  DS_SITUACAO_CANDIDATO_URNA     23686 non-null  object \n",
      " 66  ST_CANDIDATO_INSERIDO_URNA     24583 non-null  object \n",
      " 67  NM_TIPO_DESTINACAO_VOTOS       24583 non-null  object \n",
      " 68  CD_SITUACAO_CANDIDATO_TOT      24583 non-null  int64  \n",
      " 69  DS_SITUACAO_CANDIDATO_TOT      24583 non-null  object \n",
      " 70  ST_PREST_CONTAS                24583 non-null  object \n",
      "dtypes: float64(2), int64(28), object(41)\n",
      "memory usage: 13.5+ MB\n"
     ]
    }
   ],
   "source": [
    "df_vereadores.info()"
   ]
  },
  {
   "cell_type": "markdown",
   "id": "a770540f",
   "metadata": {},
   "source": [
    "Geraremos um novo relatório usando o Pandas Profiling para visualizar as mudanças."
   ]
  },
  {
   "cell_type": "code",
   "execution_count": null,
   "id": "b3642341",
   "metadata": {
    "tags": []
   },
   "outputs": [],
   "source": [
    "profile = ProfileReport(df_vereadores, title=\"Limpeza dos dados - Pandas Profiling Report\")\n",
    "profile.to_file(output_file=\"relatorio_eleicoes_vereadores_2020_ap_pa_limpo.html\")"
   ]
  },
  {
   "cell_type": "markdown",
   "id": "afe7637c",
   "metadata": {},
   "source": [
    "### Aula 12: Operações básicas com dados\n",
    "\n",
    "Costumamos construir um subdataframe apenas com as colunas que usaremos na nossa análise. Existem várias formas de filtrar as linhas e colunas. Vamos aprender como fazer isso separadamente: \n",
    "\n",
    "Filtrar as 26 colunas pertinentes para nosso estudo."
   ]
  },
  {
   "cell_type": "code",
   "execution_count": 24,
   "id": "a0aaec5a",
   "metadata": {
    "tags": []
   },
   "outputs": [],
   "source": [
    "df_vereadores_ap_pa_reduzido = df_vereadores[\n",
    "    ['ANO_ELEICAO','TP_ABRANGENCIA', 'SG_UF', 'SG_UE', 'NM_UE', 'CD_CARGO', 'DS_CARGO',\n",
    "     'NR_CANDIDATO', 'NM_CANDIDATO', 'NM_URNA_CANDIDATO','NM_SOCIAL_CANDIDATO', 'NR_PARTIDO',\n",
    "     'SG_PARTIDO', 'NR_IDADE_DATA_POSSE','CD_GENERO', 'DS_GENERO', 'CD_COR_RACA', 'DS_COR_RACA',\n",
    "     'VR_DESPESA_MAX_CAMPANHA', 'CD_SIT_TOT_TURNO','DS_SIT_TOT_TURNO', 'ST_REELEICAO', 'CD_SITUACAO_CANDIDATURA',\n",
    "     'DS_SITUACAO_CANDIDATURA', 'CD_DETALHE_SITUACAO_CAND', 'DS_DETALHE_SITUACAO_CAND']\n",
    "].copy()"
   ]
  },
  {
   "cell_type": "code",
   "execution_count": 25,
   "id": "2b693814",
   "metadata": {
    "tags": []
   },
   "outputs": [
    {
     "data": {
      "text/plain": [
       "(24583, 26)"
      ]
     },
     "execution_count": 25,
     "metadata": {},
     "output_type": "execute_result"
    }
   ],
   "source": [
    "df_vereadores_ap_pa_reduzido.shape"
   ]
  },
  {
   "cell_type": "markdown",
   "id": "a6f5d4fd",
   "metadata": {},
   "source": [
    "Agora selecionaremos apenas as pessoas que tem sua candidaturas \"apto\", \"deferido\" e \"deferido com recurso\"."
   ]
  },
  {
   "cell_type": "code",
   "execution_count": 26,
   "id": "ab7dd4bc",
   "metadata": {
    "tags": []
   },
   "outputs": [],
   "source": [
    "df_vereadores_ap_pa_reduzido_aptas = df_vereadores_ap_pa_reduzido[\n",
    "    df_vereadores_ap_pa_reduzido['CD_SITUACAO_CANDIDATURA'] == 12\n",
    "]"
   ]
  },
  {
   "cell_type": "code",
   "execution_count": 27,
   "id": "b7b13b2e",
   "metadata": {
    "tags": []
   },
   "outputs": [],
   "source": [
    "df_vereadores_ap_pa_reduzido_aptas_deferidas = df_vereadores_ap_pa_reduzido_aptas[\n",
    "    (df_vereadores_ap_pa_reduzido_aptas['DS_DETALHE_SITUACAO_CAND'] == 'DEFERIDO') | \n",
    "    (df_vereadores_ap_pa_reduzido_aptas['DS_DETALHE_SITUACAO_CAND'] == 'DEFERIDO COM RECURSO')\n",
    "]"
   ]
  },
  {
   "cell_type": "code",
   "execution_count": 28,
   "id": "971ac4c8",
   "metadata": {
    "tags": []
   },
   "outputs": [
    {
     "data": {
      "text/plain": [
       "(23089, 26)"
      ]
     },
     "execution_count": 28,
     "metadata": {},
     "output_type": "execute_result"
    }
   ],
   "source": [
    "df_vereadores_ap_pa_reduzido_aptas_deferidas.shape"
   ]
  },
  {
   "cell_type": "markdown",
   "id": "708c26c6",
   "metadata": {},
   "source": [
    "Agora, aprenderemos a filtrar usando a função `pd.loc`:"
   ]
  },
  {
   "cell_type": "code",
   "execution_count": 29,
   "id": "159a5a64",
   "metadata": {
    "tags": []
   },
   "outputs": [],
   "source": [
    "colunas_desejadas = ['ANO_ELEICAO','TP_ABRANGENCIA', 'SG_UF', 'SG_UE', 'NM_UE', 'CD_CARGO', 'DS_CARGO',\n",
    "     'NR_CANDIDATO', 'NM_CANDIDATO', 'NM_URNA_CANDIDATO','NM_SOCIAL_CANDIDATO', 'NR_PARTIDO',\n",
    "     'SG_PARTIDO', 'NR_IDADE_DATA_POSSE','CD_GENERO', 'DS_GENERO', 'CD_COR_RACA', 'DS_COR_RACA',\n",
    "     'VR_DESPESA_MAX_CAMPANHA', 'CD_SIT_TOT_TURNO','DS_SIT_TOT_TURNO', 'ST_REELEICAO', 'CD_SITUACAO_CANDIDATURA',\n",
    "     'DS_SITUACAO_CANDIDATURA', 'CD_DETALHE_SITUACAO_CAND', 'DS_DETALHE_SITUACAO_CAND']"
   ]
  },
  {
   "cell_type": "code",
   "execution_count": 33,
   "id": "eaf24bfe",
   "metadata": {
    "tags": []
   },
   "outputs": [],
   "source": [
    "filtro_linhas = (df_vereadores['CD_SITUACAO_CANDIDATURA'] == 12) & (\n",
    "    (df_vereadores['DS_DETALHE_SITUACAO_CAND'] == 'DEFERIDO') | \n",
    "    (df_vereadores['DS_DETALHE_SITUACAO_CAND'] == 'DEFERIDO COM RECURSO')\n",
    ")"
   ]
  },
  {
   "cell_type": "code",
   "execution_count": 34,
   "id": "5b46534a",
   "metadata": {
    "tags": []
   },
   "outputs": [],
   "source": [
    "df_vereadores_ap_pa_reduzido_aptas_deferidas_2 = df_vereadores.loc[filtro_linhas, colunas_desejadas]"
   ]
  },
  {
   "cell_type": "code",
   "execution_count": 35,
   "id": "1a71d793",
   "metadata": {
    "tags": []
   },
   "outputs": [
    {
     "data": {
      "text/plain": [
       "(23089, 26)"
      ]
     },
     "execution_count": 35,
     "metadata": {},
     "output_type": "execute_result"
    }
   ],
   "source": [
    "df_vereadores_ap_pa_reduzido_aptas_deferidas_2.shape"
   ]
  },
  {
   "cell_type": "code",
   "execution_count": 36,
   "id": "a345bdfc",
   "metadata": {
    "tags": []
   },
   "outputs": [],
   "source": [
    "df_vereadores_ap_pa = df_vereadores_ap_pa_reduzido_aptas_deferidas_2.copy()"
   ]
  },
  {
   "cell_type": "markdown",
   "id": "bee75b32",
   "metadata": {},
   "source": [
    "## Sua vez, crie um dataframe com apenas os nomes e partidos das pessoas candidatas que se autodeclararam como 'PARDA', 'PRETA' e 'INDÍGENA'"
   ]
  },
  {
   "cell_type": "code",
   "execution_count": 43,
   "id": "2c0c506f",
   "metadata": {},
   "outputs": [
    {
     "data": {
      "text/html": [
       "<div>\n",
       "<style scoped>\n",
       "    .dataframe tbody tr th:only-of-type {\n",
       "        vertical-align: middle;\n",
       "    }\n",
       "\n",
       "    .dataframe tbody tr th {\n",
       "        vertical-align: top;\n",
       "    }\n",
       "\n",
       "    .dataframe thead th {\n",
       "        text-align: right;\n",
       "    }\n",
       "</style>\n",
       "<table border=\"1\" class=\"dataframe\">\n",
       "  <thead>\n",
       "    <tr style=\"text-align: right;\">\n",
       "      <th></th>\n",
       "      <th>NM_CANDIDATO</th>\n",
       "      <th>NM_PARTIDO</th>\n",
       "    </tr>\n",
       "  </thead>\n",
       "  <tbody>\n",
       "    <tr>\n",
       "      <th>0</th>\n",
       "      <td>RAIMUNDO MESQUITA FERREIRA DOS SANTOS</td>\n",
       "      <td>PROGRESSISTAS</td>\n",
       "    </tr>\n",
       "    <tr>\n",
       "      <th>1</th>\n",
       "      <td>MAURICIO DEL CASTILLO RAIOL</td>\n",
       "      <td>PARTIDO DOS TRABALHADORES</td>\n",
       "    </tr>\n",
       "    <tr>\n",
       "      <th>2</th>\n",
       "      <td>KENNAS DE OLIVEIRA DOS SANTOS</td>\n",
       "      <td>PARTIDO SOCIAL DEMOCRÁTICO</td>\n",
       "    </tr>\n",
       "    <tr>\n",
       "      <th>4</th>\n",
       "      <td>MAURÍCIO DE OLIVEIRA SUCUPIRA</td>\n",
       "      <td>PARTIDO DEMOCRÁTICO TRABALHISTA</td>\n",
       "    </tr>\n",
       "    <tr>\n",
       "      <th>5</th>\n",
       "      <td>ADRIANO DOS SANTOS SILVA</td>\n",
       "      <td>PARTIDO SOCIAL LIBERAL</td>\n",
       "    </tr>\n",
       "    <tr>\n",
       "      <th>...</th>\n",
       "      <td>...</td>\n",
       "      <td>...</td>\n",
       "    </tr>\n",
       "    <tr>\n",
       "      <th>26147</th>\n",
       "      <td>RENILDO FERREIRA</td>\n",
       "      <td>PARTIDO TRABALHISTA BRASILEIRO</td>\n",
       "    </tr>\n",
       "    <tr>\n",
       "      <th>26148</th>\n",
       "      <td>MATEUS PEREIRA XAVIER</td>\n",
       "      <td>PARTIDO DEMOCRÁTICO TRABALHISTA</td>\n",
       "    </tr>\n",
       "    <tr>\n",
       "      <th>26149</th>\n",
       "      <td>ADRIANA DA SILVA CUNHA</td>\n",
       "      <td>MOVIMENTO DEMOCRÁTICO BRASILEIRO</td>\n",
       "    </tr>\n",
       "    <tr>\n",
       "      <th>26150</th>\n",
       "      <td>TAMARA FERREIRA DE ALMEIDA</td>\n",
       "      <td>PARTIDO SOCIAL CRISTÃO</td>\n",
       "    </tr>\n",
       "    <tr>\n",
       "      <th>26152</th>\n",
       "      <td>JESSE DOS SANTOS CALANDRINE</td>\n",
       "      <td>PARTIDO SOCIALISTA BRASILEIRO</td>\n",
       "    </tr>\n",
       "  </tbody>\n",
       "</table>\n",
       "<p>19924 rows × 2 columns</p>\n",
       "</div>"
      ],
      "text/plain": [
       "                                NM_CANDIDATO                        NM_PARTIDO\n",
       "0      RAIMUNDO MESQUITA FERREIRA DOS SANTOS                     PROGRESSISTAS\n",
       "1                MAURICIO DEL CASTILLO RAIOL         PARTIDO DOS TRABALHADORES\n",
       "2              KENNAS DE OLIVEIRA DOS SANTOS        PARTIDO SOCIAL DEMOCRÁTICO\n",
       "4              MAURÍCIO DE OLIVEIRA SUCUPIRA   PARTIDO DEMOCRÁTICO TRABALHISTA\n",
       "5                   ADRIANO DOS SANTOS SILVA            PARTIDO SOCIAL LIBERAL\n",
       "...                                      ...                               ...\n",
       "26147                       RENILDO FERREIRA    PARTIDO TRABALHISTA BRASILEIRO\n",
       "26148                  MATEUS PEREIRA XAVIER   PARTIDO DEMOCRÁTICO TRABALHISTA\n",
       "26149                 ADRIANA DA SILVA CUNHA  MOVIMENTO DEMOCRÁTICO BRASILEIRO\n",
       "26150             TAMARA FERREIRA DE ALMEIDA            PARTIDO SOCIAL CRISTÃO\n",
       "26152            JESSE DOS SANTOS CALANDRINE     PARTIDO SOCIALISTA BRASILEIRO\n",
       "\n",
       "[19924 rows x 2 columns]"
      ]
     },
     "execution_count": 43,
     "metadata": {},
     "output_type": "execute_result"
    }
   ],
   "source": [
    "filtro_raca = (\n",
    "    (df_vereadores['DS_COR_RACA'] == 'PARDA') |\n",
    "    (df_vereadores['DS_COR_RACA'] == 'PRETA') |\n",
    "    (df_vereadores['DS_COR_RACA'] == 'INDÍGENA')\n",
    ")\n",
    "colunas_nome_partidos = ['NM_CANDIDATO','NM_PARTIDO']\n",
    "df_vereadores_nome_partido_filtro_raca = df_vereadores.loc[filtro_raca, colunas_nome_partidos].copy()\n",
    "df_vereadores_nome_partido_filtro_raca"
   ]
  },
  {
   "cell_type": "markdown",
   "id": "31117422",
   "metadata": {},
   "source": [
    "### Aula 13: Métodos `filter` e `sort_values`\n",
    "\n",
    "Vamos filtrar todas as colunas que possuam as letras \"DIDATO\" no seu título:"
   ]
  },
  {
   "cell_type": "code",
   "execution_count": 60,
   "id": "ae91a3eb",
   "metadata": {
    "tags": []
   },
   "outputs": [
    {
     "data": {
      "text/html": [
       "<div>\n",
       "<style scoped>\n",
       "    .dataframe tbody tr th:only-of-type {\n",
       "        vertical-align: middle;\n",
       "    }\n",
       "\n",
       "    .dataframe tbody tr th {\n",
       "        vertical-align: top;\n",
       "    }\n",
       "\n",
       "    .dataframe thead th {\n",
       "        text-align: right;\n",
       "    }\n",
       "</style>\n",
       "<table border=\"1\" class=\"dataframe\">\n",
       "  <thead>\n",
       "    <tr style=\"text-align: right;\">\n",
       "      <th></th>\n",
       "      <th>NR_CANDIDATO</th>\n",
       "      <th>NM_CANDIDATO</th>\n",
       "      <th>NM_URNA_CANDIDATO</th>\n",
       "      <th>NM_SOCIAL_CANDIDATO</th>\n",
       "    </tr>\n",
       "  </thead>\n",
       "  <tbody>\n",
       "    <tr>\n",
       "      <th>18850</th>\n",
       "      <td>20123</td>\n",
       "      <td>DANIELY DOS SANTOS CARVALHO</td>\n",
       "      <td>DANIELY LOIRA DA GRUDE</td>\n",
       "      <td>None</td>\n",
       "    </tr>\n",
       "    <tr>\n",
       "      <th>14214</th>\n",
       "      <td>40666</td>\n",
       "      <td>SALOMÃO DOS SANTOS CRISTO</td>\n",
       "      <td>PROFESSOR SALOMÃO CRISTO</td>\n",
       "      <td>None</td>\n",
       "    </tr>\n",
       "    <tr>\n",
       "      <th>19594</th>\n",
       "      <td>36866</td>\n",
       "      <td>CLODOVIS RODRIGUES CONCEICAO</td>\n",
       "      <td>CLODOVIS RODRIGUES</td>\n",
       "      <td>None</td>\n",
       "    </tr>\n",
       "    <tr>\n",
       "      <th>6424</th>\n",
       "      <td>12111</td>\n",
       "      <td>PAULO SERGIO RODRIGUES DA SILVA</td>\n",
       "      <td>PALITO</td>\n",
       "      <td>None</td>\n",
       "    </tr>\n",
       "    <tr>\n",
       "      <th>25338</th>\n",
       "      <td>25123</td>\n",
       "      <td>NELSON LISBOA DA SILVA</td>\n",
       "      <td>NELSON LISBOA</td>\n",
       "      <td>None</td>\n",
       "    </tr>\n",
       "  </tbody>\n",
       "</table>\n",
       "</div>"
      ],
      "text/plain": [
       "       NR_CANDIDATO                     NM_CANDIDATO  \\\n",
       "18850         20123      DANIELY DOS SANTOS CARVALHO   \n",
       "14214         40666        SALOMÃO DOS SANTOS CRISTO   \n",
       "19594         36866     CLODOVIS RODRIGUES CONCEICAO   \n",
       "6424          12111  PAULO SERGIO RODRIGUES DA SILVA   \n",
       "25338         25123           NELSON LISBOA DA SILVA   \n",
       "\n",
       "              NM_URNA_CANDIDATO NM_SOCIAL_CANDIDATO  \n",
       "18850    DANIELY LOIRA DA GRUDE                None  \n",
       "14214  PROFESSOR SALOMÃO CRISTO                None  \n",
       "19594        CLODOVIS RODRIGUES                None  \n",
       "6424                     PALITO                None  \n",
       "25338             NELSON LISBOA                None  "
      ]
     },
     "execution_count": 60,
     "metadata": {},
     "output_type": "execute_result"
    }
   ],
   "source": [
    "df_vereadores_ap_pa_nomes = df_vereadores_ap_pa.filter(like='CANDIDATO', axis=1)\n",
    "df_vereadores_ap_pa_nomes.sample(5)"
   ]
  },
  {
   "cell_type": "markdown",
   "id": "a4061a52",
   "metadata": {},
   "source": [
    "Para ordenar as linhas a partir das colunas 'NM_SOCIAL_CANDIDATO' e 'NM_CANDIDATO, usamos o método df.sort_values:"
   ]
  },
  {
   "cell_type": "code",
   "execution_count": 61,
   "id": "5deb367b",
   "metadata": {
    "tags": []
   },
   "outputs": [
    {
     "data": {
      "text/html": [
       "<div>\n",
       "<style scoped>\n",
       "    .dataframe tbody tr th:only-of-type {\n",
       "        vertical-align: middle;\n",
       "    }\n",
       "\n",
       "    .dataframe tbody tr th {\n",
       "        vertical-align: top;\n",
       "    }\n",
       "\n",
       "    .dataframe thead th {\n",
       "        text-align: right;\n",
       "    }\n",
       "</style>\n",
       "<table border=\"1\" class=\"dataframe\">\n",
       "  <thead>\n",
       "    <tr style=\"text-align: right;\">\n",
       "      <th></th>\n",
       "      <th>NR_CANDIDATO</th>\n",
       "      <th>NM_CANDIDATO</th>\n",
       "      <th>NM_URNA_CANDIDATO</th>\n",
       "      <th>NM_SOCIAL_CANDIDATO</th>\n",
       "    </tr>\n",
       "  </thead>\n",
       "  <tbody>\n",
       "    <tr>\n",
       "      <th>19035</th>\n",
       "      <td>45245</td>\n",
       "      <td>DJENANNY PEREIRA</td>\n",
       "      <td>DJENANNY</td>\n",
       "      <td>DJENANNY PEREIRA</td>\n",
       "    </tr>\n",
       "    <tr>\n",
       "      <th>3693</th>\n",
       "      <td>45123</td>\n",
       "      <td>HAGATA MATOS DA SILVA</td>\n",
       "      <td>HAGATA SILVA</td>\n",
       "      <td>HAGATA MATOS DA SILVA</td>\n",
       "    </tr>\n",
       "    <tr>\n",
       "      <th>22143</th>\n",
       "      <td>45888</td>\n",
       "      <td>MARIA EDUARDA SANTOS PINHEIRO</td>\n",
       "      <td>DUDA NEREIDY</td>\n",
       "      <td>MARIA EDUARDA SANTOS PINHEIRO</td>\n",
       "    </tr>\n",
       "    <tr>\n",
       "      <th>18922</th>\n",
       "      <td>15555</td>\n",
       "      <td>PAULA BULCÃO DE ARAUJO</td>\n",
       "      <td>PAULINHA DA SAÚDE</td>\n",
       "      <td>PAULA BULCÃO DE ARAUJO</td>\n",
       "    </tr>\n",
       "    <tr>\n",
       "      <th>10279</th>\n",
       "      <td>40040</td>\n",
       "      <td>PRISCILLA SILVA BRITO</td>\n",
       "      <td>PRISCILLA</td>\n",
       "      <td>PRISCILLA SILVA BRITO</td>\n",
       "    </tr>\n",
       "    <tr>\n",
       "      <th>25318</th>\n",
       "      <td>90123</td>\n",
       "      <td>RAYSSA RAYANA ALMEIDA RIBEIRO</td>\n",
       "      <td>RAYSSA RAYANA</td>\n",
       "      <td>RAYSSA RAYANA ALMEIDA RIBEIRO</td>\n",
       "    </tr>\n",
       "    <tr>\n",
       "      <th>12593</th>\n",
       "      <td>40555</td>\n",
       "      <td>SHAYLLA RODRIGUES DOS SANTOS</td>\n",
       "      <td>SHAYLLA RODRIGUES MIMOSA</td>\n",
       "      <td>SHAYLLA RODRIGUES DOS SANTOS</td>\n",
       "    </tr>\n",
       "    <tr>\n",
       "      <th>7517</th>\n",
       "      <td>14001</td>\n",
       "      <td>ARMANDO DILSON SERRÃO GEMAQUE</td>\n",
       "      <td>SUZZY CABELEIREIRA</td>\n",
       "      <td>SUZZY KAMEG SERRÃO GEMAQUE</td>\n",
       "    </tr>\n",
       "    <tr>\n",
       "      <th>19481</th>\n",
       "      <td>12369</td>\n",
       "      <td>ABDIEL BALIEIRO BARBOSA</td>\n",
       "      <td>ABDIEL BARBOSA</td>\n",
       "      <td>None</td>\n",
       "    </tr>\n",
       "    <tr>\n",
       "      <th>24316</th>\n",
       "      <td>13555</td>\n",
       "      <td>ABDIEL FRANCISCO DE LIMA</td>\n",
       "      <td>BIBIU LIMA</td>\n",
       "      <td>None</td>\n",
       "    </tr>\n",
       "  </tbody>\n",
       "</table>\n",
       "</div>"
      ],
      "text/plain": [
       "       NR_CANDIDATO                   NM_CANDIDATO         NM_URNA_CANDIDATO  \\\n",
       "19035         45245               DJENANNY PEREIRA                  DJENANNY   \n",
       "3693          45123          HAGATA MATOS DA SILVA              HAGATA SILVA   \n",
       "22143         45888  MARIA EDUARDA SANTOS PINHEIRO              DUDA NEREIDY   \n",
       "18922         15555         PAULA BULCÃO DE ARAUJO         PAULINHA DA SAÚDE   \n",
       "10279         40040          PRISCILLA SILVA BRITO                 PRISCILLA   \n",
       "25318         90123  RAYSSA RAYANA ALMEIDA RIBEIRO             RAYSSA RAYANA   \n",
       "12593         40555   SHAYLLA RODRIGUES DOS SANTOS  SHAYLLA RODRIGUES MIMOSA   \n",
       "7517          14001  ARMANDO DILSON SERRÃO GEMAQUE        SUZZY CABELEIREIRA   \n",
       "19481         12369        ABDIEL BALIEIRO BARBOSA            ABDIEL BARBOSA   \n",
       "24316         13555       ABDIEL FRANCISCO DE LIMA                BIBIU LIMA   \n",
       "\n",
       "                 NM_SOCIAL_CANDIDATO  \n",
       "19035               DJENANNY PEREIRA  \n",
       "3693           HAGATA MATOS DA SILVA  \n",
       "22143  MARIA EDUARDA SANTOS PINHEIRO  \n",
       "18922         PAULA BULCÃO DE ARAUJO  \n",
       "10279          PRISCILLA SILVA BRITO  \n",
       "25318  RAYSSA RAYANA ALMEIDA RIBEIRO  \n",
       "12593   SHAYLLA RODRIGUES DOS SANTOS  \n",
       "7517      SUZZY KAMEG SERRÃO GEMAQUE  \n",
       "19481                           None  \n",
       "24316                           None  "
      ]
     },
     "execution_count": 61,
     "metadata": {},
     "output_type": "execute_result"
    }
   ],
   "source": [
    "df_vereadores_ap_pa_nomes.sort_values(by=['NM_SOCIAL_CANDIDATO', 'NM_CANDIDATO'], \n",
    "                                      ascending=True, \n",
    "                                      na_position='last', \n",
    "                                      ignore_index=False\n",
    ").head(10)"
   ]
  },
  {
   "cell_type": "markdown",
   "id": "1b2e273a",
   "metadata": {},
   "source": [
    "## Selecione apenas as colunas cujo o título possua \"DS\" e organize em ordem descrescente. Qual o gênero das candidaturas das 3 primeiras linhas?"
   ]
  },
  {
   "cell_type": "code",
   "execution_count": 76,
   "id": "7803da95",
   "metadata": {},
   "outputs": [
    {
     "data": {
      "text/plain": [
       "0    MASCULINO\n",
       "1    MASCULINO\n",
       "2    MASCULINO\n",
       "Name: DS_GENERO, dtype: object"
      ]
     },
     "execution_count": 76,
     "metadata": {},
     "output_type": "execute_result"
    }
   ],
   "source": [
    "df_vereadores_ap_pa.filter(like='DS', axis=1).sort_values(\n",
    "    by=[],\n",
    "    ascending=False\n",
    ")['DS_GENERO'].head(3)"
   ]
  },
  {
   "cell_type": "markdown",
   "id": "60791f6c",
   "metadata": {},
   "source": [
    "### Aula 14: Operações com dados e método `apply`\n",
    "\n",
    "Podemos criar uma nova coluna a partir de operações sobre outras colunas. No exemplo abaixo vamos descobrir o gasto médio diário declarado por cada candidatura."
   ]
  },
  {
   "cell_type": "code",
   "execution_count": 77,
   "id": "eed7e75d",
   "metadata": {
    "tags": []
   },
   "outputs": [],
   "source": [
    "total_dias_campanha = 45\n",
    "df_vereadores_ap_pa['GASTO_DIARIO'] = df_vereadores_ap_pa['VR_DESPESA_MAX_CAMPANHA'] / total_dias_campanha"
   ]
  },
  {
   "cell_type": "code",
   "execution_count": 113,
   "id": "a136009c",
   "metadata": {
    "tags": []
   },
   "outputs": [
    {
     "data": {
      "text/html": [
       "<div>\n",
       "<style scoped>\n",
       "    .dataframe tbody tr th:only-of-type {\n",
       "        vertical-align: middle;\n",
       "    }\n",
       "\n",
       "    .dataframe tbody tr th {\n",
       "        vertical-align: top;\n",
       "    }\n",
       "\n",
       "    .dataframe thead th {\n",
       "        text-align: right;\n",
       "    }\n",
       "</style>\n",
       "<table border=\"1\" class=\"dataframe\">\n",
       "  <thead>\n",
       "    <tr style=\"text-align: right;\">\n",
       "      <th></th>\n",
       "      <th>NM_CANDIDATO</th>\n",
       "      <th>SG_PARTIDO</th>\n",
       "      <th>GASTO_DIARIO</th>\n",
       "    </tr>\n",
       "  </thead>\n",
       "  <tbody>\n",
       "    <tr>\n",
       "      <th>6972</th>\n",
       "      <td>ROBSON ALVES DA SILVA</td>\n",
       "      <td>PSL</td>\n",
       "      <td>9734.289556</td>\n",
       "    </tr>\n",
       "    <tr>\n",
       "      <th>3295</th>\n",
       "      <td>SUSANY VIEIRA DUARTE</td>\n",
       "      <td>PDT</td>\n",
       "      <td>9734.289556</td>\n",
       "    </tr>\n",
       "    <tr>\n",
       "      <th>20457</th>\n",
       "      <td>MAISA SALES GAMA TOBIAS</td>\n",
       "      <td>PROS</td>\n",
       "      <td>9734.289556</td>\n",
       "    </tr>\n",
       "    <tr>\n",
       "      <th>9674</th>\n",
       "      <td>DAVID MOYSES NAHON</td>\n",
       "      <td>PL</td>\n",
       "      <td>9734.289556</td>\n",
       "    </tr>\n",
       "    <tr>\n",
       "      <th>23002</th>\n",
       "      <td>MANOEL ROLANDO SANTOS BRAZÃO</td>\n",
       "      <td>PATRIOTA</td>\n",
       "      <td>9734.289556</td>\n",
       "    </tr>\n",
       "    <tr>\n",
       "      <th>...</th>\n",
       "      <td>...</td>\n",
       "      <td>...</td>\n",
       "      <td>...</td>\n",
       "    </tr>\n",
       "    <tr>\n",
       "      <th>22281</th>\n",
       "      <td>EDI SANTOS DE SOUZA</td>\n",
       "      <td>PT</td>\n",
       "      <td>9734.289556</td>\n",
       "    </tr>\n",
       "    <tr>\n",
       "      <th>6936</th>\n",
       "      <td>JERENILSON ARAUJO DA SILVA</td>\n",
       "      <td>REPUBLICANOS</td>\n",
       "      <td>5303.558000</td>\n",
       "    </tr>\n",
       "    <tr>\n",
       "      <th>20643</th>\n",
       "      <td>ARMANDO DALCY PEREIRA</td>\n",
       "      <td>PDT</td>\n",
       "      <td>5303.558000</td>\n",
       "    </tr>\n",
       "    <tr>\n",
       "      <th>5311</th>\n",
       "      <td>MARIA DO PERPETUO SOCORRO LIMA SOUSA</td>\n",
       "      <td>PSDB</td>\n",
       "      <td>5303.558000</td>\n",
       "    </tr>\n",
       "    <tr>\n",
       "      <th>13896</th>\n",
       "      <td>JULIANO MORAES DA SILVA</td>\n",
       "      <td>PDT</td>\n",
       "      <td>5303.558000</td>\n",
       "    </tr>\n",
       "  </tbody>\n",
       "</table>\n",
       "<p>985 rows × 3 columns</p>\n",
       "</div>"
      ],
      "text/plain": [
       "                               NM_CANDIDATO    SG_PARTIDO  GASTO_DIARIO\n",
       "6972                  ROBSON ALVES DA SILVA           PSL   9734.289556\n",
       "3295                   SUSANY VIEIRA DUARTE           PDT   9734.289556\n",
       "20457               MAISA SALES GAMA TOBIAS          PROS   9734.289556\n",
       "9674                     DAVID MOYSES NAHON            PL   9734.289556\n",
       "23002          MANOEL ROLANDO SANTOS BRAZÃO      PATRIOTA   9734.289556\n",
       "...                                     ...           ...           ...\n",
       "22281                   EDI SANTOS DE SOUZA            PT   9734.289556\n",
       "6936             JERENILSON ARAUJO DA SILVA  REPUBLICANOS   5303.558000\n",
       "20643                 ARMANDO DALCY PEREIRA           PDT   5303.558000\n",
       "5311   MARIA DO PERPETUO SOCORRO LIMA SOUSA          PSDB   5303.558000\n",
       "13896               JULIANO MORAES DA SILVA           PDT   5303.558000\n",
       "\n",
       "[985 rows x 3 columns]"
      ]
     },
     "execution_count": 113,
     "metadata": {},
     "output_type": "execute_result"
    }
   ],
   "source": [
    "df_vereadores_ap_pa[['NM_CANDIDATO','SG_PARTIDO','GASTO_DIARIO']].sort_values(\n",
    "    by=['GASTO_DIARIO'],\n",
    "    ascending=False\n",
    ").head(985)"
   ]
  },
  {
   "cell_type": "markdown",
   "id": "488c750e",
   "metadata": {},
   "source": [
    "Explorando mais um pouco esses dados, trabalharemos apenas com os dados das candidaturas de Pernambuco e classificaremos os gastos médios diários de acordo com os conceitos de quartil e valores discrepantes que vimos nos vídeos sobre estatística:"
   ]
  },
  {
   "cell_type": "code",
   "execution_count": 114,
   "id": "c133044e",
   "metadata": {
    "tags": []
   },
   "outputs": [],
   "source": [
    "df_vereadores_pa = df_vereadores_ap_pa[df_vereadores_ap_pa['SG_UF'] == 'PA'].copy()"
   ]
  },
  {
   "cell_type": "code",
   "execution_count": 115,
   "id": "d0ed61f0",
   "metadata": {
    "tags": []
   },
   "outputs": [],
   "source": [
    "primeiro_quartil = df_vereadores_pa['GASTO_DIARIO'].quantile(0.25)\n",
    "terceiro_quartil = df_vereadores_pa['GASTO_DIARIO'].quantile(0.75)"
   ]
  },
  {
   "cell_type": "code",
   "execution_count": 116,
   "id": "f1418707",
   "metadata": {
    "tags": []
   },
   "outputs": [],
   "source": [
    "intervalo_interquartil = terceiro_quartil - primeiro_quartil"
   ]
  },
  {
   "cell_type": "code",
   "execution_count": 117,
   "id": "7089b366",
   "metadata": {
    "tags": []
   },
   "outputs": [],
   "source": [
    "limite_inferior = primeiro_quartil - (intervalo_interquartil * 1.5)\n",
    "limite_superior = terceiro_quartil + (intervalo_interquartil * 1.5)"
   ]
  },
  {
   "cell_type": "code",
   "execution_count": 118,
   "id": "75bb43a9",
   "metadata": {
    "tags": []
   },
   "outputs": [],
   "source": [
    "def classificacao_gasto(row):\n",
    "    if row < limite_inferior:\n",
    "        return 'muito abaixo da média'\n",
    "    elif row >= limite_inferior and row < primeiro_quartil:\n",
    "        return 'abaixo da média'\n",
    "    elif row >= primeiro_quartil and row <= terceiro_quartil:\n",
    "        return 'na média'\n",
    "    elif row > terceiro_quartil and row <= limite_superior:\n",
    "        return 'acima da média'\n",
    "    else:\n",
    "        return 'muito acima da média'"
   ]
  },
  {
   "cell_type": "code",
   "execution_count": 119,
   "id": "ed50a728",
   "metadata": {
    "tags": []
   },
   "outputs": [],
   "source": [
    "df_vereadores_pa['CLASSIFICACAO_GASTO_DIARIO'] = df_vereadores_pa['GASTO_DIARIO'].apply(classificacao_gasto)"
   ]
  },
  {
   "cell_type": "code",
   "execution_count": 124,
   "id": "13da289a",
   "metadata": {
    "tags": []
   },
   "outputs": [
    {
     "data": {
      "text/html": [
       "<div>\n",
       "<style scoped>\n",
       "    .dataframe tbody tr th:only-of-type {\n",
       "        vertical-align: middle;\n",
       "    }\n",
       "\n",
       "    .dataframe tbody tr th {\n",
       "        vertical-align: top;\n",
       "    }\n",
       "\n",
       "    .dataframe thead th {\n",
       "        text-align: right;\n",
       "    }\n",
       "</style>\n",
       "<table border=\"1\" class=\"dataframe\">\n",
       "  <thead>\n",
       "    <tr style=\"text-align: right;\">\n",
       "      <th></th>\n",
       "      <th>NM_CANDIDATO</th>\n",
       "      <th>SG_PARTIDO</th>\n",
       "      <th>GASTO_DIARIO</th>\n",
       "      <th>CLASSIFICACAO_GASTO_DIARIO</th>\n",
       "    </tr>\n",
       "  </thead>\n",
       "  <tbody>\n",
       "    <tr>\n",
       "      <th>12014</th>\n",
       "      <td>ELIANE SANTOS SOUZA</td>\n",
       "      <td>PDT</td>\n",
       "      <td>273.505556</td>\n",
       "      <td>abaixo da média</td>\n",
       "    </tr>\n",
       "    <tr>\n",
       "      <th>18032</th>\n",
       "      <td>NILSON MARTINS SANTA BRIGIDA</td>\n",
       "      <td>PL</td>\n",
       "      <td>771.768667</td>\n",
       "      <td>na média</td>\n",
       "    </tr>\n",
       "    <tr>\n",
       "      <th>11123</th>\n",
       "      <td>DIONEI CARDOSO PEREIRA</td>\n",
       "      <td>PSC</td>\n",
       "      <td>727.564222</td>\n",
       "      <td>na média</td>\n",
       "    </tr>\n",
       "    <tr>\n",
       "      <th>3518</th>\n",
       "      <td>YACTA MARIA REBELO VIANA</td>\n",
       "      <td>PSB</td>\n",
       "      <td>646.656444</td>\n",
       "      <td>na média</td>\n",
       "    </tr>\n",
       "    <tr>\n",
       "      <th>23056</th>\n",
       "      <td>VALDEMI PEREIRA DA SILVA</td>\n",
       "      <td>PSC</td>\n",
       "      <td>273.505556</td>\n",
       "      <td>abaixo da média</td>\n",
       "    </tr>\n",
       "    <tr>\n",
       "      <th>6717</th>\n",
       "      <td>JOSUÉ DA SILVA OLIVEIRA</td>\n",
       "      <td>PL</td>\n",
       "      <td>365.615333</td>\n",
       "      <td>na média</td>\n",
       "    </tr>\n",
       "    <tr>\n",
       "      <th>11392</th>\n",
       "      <td>ELISANDRA SANTA ROSA DE OLIVEIRA SILVA</td>\n",
       "      <td>PDT</td>\n",
       "      <td>1193.306222</td>\n",
       "      <td>acima da média</td>\n",
       "    </tr>\n",
       "    <tr>\n",
       "      <th>17173</th>\n",
       "      <td>RAPHAEL SILVA BRITO</td>\n",
       "      <td>PSC</td>\n",
       "      <td>273.505556</td>\n",
       "      <td>abaixo da média</td>\n",
       "    </tr>\n",
       "    <tr>\n",
       "      <th>25750</th>\n",
       "      <td>FRANCISCO DAS CHAGAS DE SOUZA</td>\n",
       "      <td>MDB</td>\n",
       "      <td>385.704222</td>\n",
       "      <td>na média</td>\n",
       "    </tr>\n",
       "    <tr>\n",
       "      <th>5320</th>\n",
       "      <td>VALDILENE DA SERRA SILVA</td>\n",
       "      <td>PSC</td>\n",
       "      <td>273.505556</td>\n",
       "      <td>abaixo da média</td>\n",
       "    </tr>\n",
       "  </tbody>\n",
       "</table>\n",
       "</div>"
      ],
      "text/plain": [
       "                                 NM_CANDIDATO SG_PARTIDO  GASTO_DIARIO  \\\n",
       "12014                     ELIANE SANTOS SOUZA        PDT    273.505556   \n",
       "18032            NILSON MARTINS SANTA BRIGIDA         PL    771.768667   \n",
       "11123                  DIONEI CARDOSO PEREIRA        PSC    727.564222   \n",
       "3518                 YACTA MARIA REBELO VIANA        PSB    646.656444   \n",
       "23056                VALDEMI PEREIRA DA SILVA        PSC    273.505556   \n",
       "6717                  JOSUÉ DA SILVA OLIVEIRA         PL    365.615333   \n",
       "11392  ELISANDRA SANTA ROSA DE OLIVEIRA SILVA        PDT   1193.306222   \n",
       "17173                     RAPHAEL SILVA BRITO        PSC    273.505556   \n",
       "25750           FRANCISCO DAS CHAGAS DE SOUZA        MDB    385.704222   \n",
       "5320                 VALDILENE DA SERRA SILVA        PSC    273.505556   \n",
       "\n",
       "      CLASSIFICACAO_GASTO_DIARIO  \n",
       "12014            abaixo da média  \n",
       "18032                   na média  \n",
       "11123                   na média  \n",
       "3518                    na média  \n",
       "23056            abaixo da média  \n",
       "6717                    na média  \n",
       "11392             acima da média  \n",
       "17173            abaixo da média  \n",
       "25750                   na média  \n",
       "5320             abaixo da média  "
      ]
     },
     "execution_count": 124,
     "metadata": {},
     "output_type": "execute_result"
    }
   ],
   "source": [
    "df_vereadores_pa[['NM_CANDIDATO','SG_PARTIDO','GASTO_DIARIO','CLASSIFICACAO_GASTO_DIARIO']].sample(10)"
   ]
  },
  {
   "cell_type": "markdown",
   "id": "8b96f806",
   "metadata": {},
   "source": [
    "Para facilitar a visualização faremos um gráfico de barras usando a biblioteca matplotlib:"
   ]
  },
  {
   "cell_type": "code",
   "execution_count": 125,
   "id": "c9d2cf02",
   "metadata": {
    "tags": []
   },
   "outputs": [],
   "source": [
    "from matplotlib import pyplot as plt"
   ]
  },
  {
   "cell_type": "code",
   "execution_count": 126,
   "id": "9a2afa00",
   "metadata": {
    "tags": []
   },
   "outputs": [],
   "source": [
    "# guarda na variável \"classificacao\" uma lista com os rótulos usados para classificar os gastos\n",
    "classificacao = df_vereadores_pa['CLASSIFICACAO_GASTO_DIARIO'].unique().tolist()"
   ]
  },
  {
   "cell_type": "code",
   "execution_count": 127,
   "id": "216ca920",
   "metadata": {
    "tags": []
   },
   "outputs": [],
   "source": [
    "#guarda na variável \"total_por_classificacao\" uma lista a quantidade de ocorrência de cada rótulo\n",
    "total_por_classificacao = df_vereadores_pa['CLASSIFICACAO_GASTO_DIARIO'].value_counts().to_list()"
   ]
  },
  {
   "cell_type": "code",
   "execution_count": 141,
   "id": "30b26e0c",
   "metadata": {
    "tags": []
   },
   "outputs": [
    {
     "data": {
      "image/png": "[encoded data removed]",
      "text/plain": [
       "<Figure size 640x480 with 1 Axes>"
      ]
     },
     "metadata": {},
     "output_type": "display_data"
    }
   ],
   "source": [
    "plt.bar(classificacao, total_por_classificacao, [.1, .1, .1, .1])\n",
    "plt.title('Gastos diários declarados por candidatura')\n",
    "plt.ylabel('Quantitativo de candidaturas por classificação')\n",
    "\n",
    "plt.show()"
   ]
  },
  {
   "cell_type": "markdown",
   "id": "827e1acf",
   "metadata": {},
   "source": [
    "### Aula 15: Operações com dados e método `groupby`\n",
    "\n",
    "Usando o método groupby podemos agrupar dados segundo informações de uma coluna e fazer operações com o agrupamento.\n",
    "\n",
    "As perguntas que queremos responder são: quantas mulheres são candidatas? Qual a distribuição de pessoas por grupo racial? Quantidade de mulheres por grupo racial? E qual partido tem mais mulheres em cada grupo racial?\n"
   ]
  },
  {
   "cell_type": "code",
   "execution_count": 142,
   "id": "6b9b70e3",
   "metadata": {
    "tags": []
   },
   "outputs": [],
   "source": [
    "colunas_desejadas = ['SG_PARTIDO', 'DS_GENERO', 'DS_COR_RACA']\n",
    "filtro = df_vereadores_ap_pa['SG_UF'] == 'AP'"
   ]
  },
  {
   "cell_type": "code",
   "execution_count": 143,
   "id": "b003a30a",
   "metadata": {
    "tags": []
   },
   "outputs": [],
   "source": [
    "df_vereadores_ap_sexo_raca = df_vereadores_ap_pa.loc[filtro, colunas_desejadas]"
   ]
  },
  {
   "cell_type": "code",
   "execution_count": 144,
   "id": "a036411d",
   "metadata": {
    "tags": []
   },
   "outputs": [
    {
     "data": {
      "text/html": [
       "<div>\n",
       "<style scoped>\n",
       "    .dataframe tbody tr th:only-of-type {\n",
       "        vertical-align: middle;\n",
       "    }\n",
       "\n",
       "    .dataframe tbody tr th {\n",
       "        vertical-align: top;\n",
       "    }\n",
       "\n",
       "    .dataframe thead th {\n",
       "        text-align: right;\n",
       "    }\n",
       "</style>\n",
       "<table border=\"1\" class=\"dataframe\">\n",
       "  <thead>\n",
       "    <tr style=\"text-align: right;\">\n",
       "      <th></th>\n",
       "      <th>SG_PARTIDO</th>\n",
       "      <th>DS_GENERO</th>\n",
       "      <th>DS_COR_RACA</th>\n",
       "    </tr>\n",
       "  </thead>\n",
       "  <tbody>\n",
       "    <tr>\n",
       "      <th>0</th>\n",
       "      <td>PP</td>\n",
       "      <td>MASCULINO</td>\n",
       "      <td>PRETA</td>\n",
       "    </tr>\n",
       "    <tr>\n",
       "      <th>1</th>\n",
       "      <td>PT</td>\n",
       "      <td>MASCULINO</td>\n",
       "      <td>PARDA</td>\n",
       "    </tr>\n",
       "    <tr>\n",
       "      <th>2</th>\n",
       "      <td>PSD</td>\n",
       "      <td>MASCULINO</td>\n",
       "      <td>PRETA</td>\n",
       "    </tr>\n",
       "    <tr>\n",
       "      <th>4</th>\n",
       "      <td>PDT</td>\n",
       "      <td>MASCULINO</td>\n",
       "      <td>PARDA</td>\n",
       "    </tr>\n",
       "    <tr>\n",
       "      <th>5</th>\n",
       "      <td>PSL</td>\n",
       "      <td>MASCULINO</td>\n",
       "      <td>PARDA</td>\n",
       "    </tr>\n",
       "  </tbody>\n",
       "</table>\n",
       "</div>"
      ],
      "text/plain": [
       "  SG_PARTIDO  DS_GENERO DS_COR_RACA\n",
       "0         PP  MASCULINO       PRETA\n",
       "1         PT  MASCULINO       PARDA\n",
       "2        PSD  MASCULINO       PRETA\n",
       "4        PDT  MASCULINO       PARDA\n",
       "5        PSL  MASCULINO       PARDA"
      ]
     },
     "execution_count": 144,
     "metadata": {},
     "output_type": "execute_result"
    }
   ],
   "source": [
    "df_vereadores_ap_sexo_raca.head()"
   ]
  },
  {
   "cell_type": "markdown",
   "id": "9fc3e4f7",
   "metadata": {},
   "source": [
    "Agrupando por gênero, quantas candidaturas temos em cada um?"
   ]
  },
  {
   "cell_type": "code",
   "execution_count": 145,
   "id": "69e9046f",
   "metadata": {
    "tags": []
   },
   "outputs": [
    {
     "data": {
      "text/html": [
       "<div>\n",
       "<style scoped>\n",
       "    .dataframe tbody tr th:only-of-type {\n",
       "        vertical-align: middle;\n",
       "    }\n",
       "\n",
       "    .dataframe tbody tr th {\n",
       "        vertical-align: top;\n",
       "    }\n",
       "\n",
       "    .dataframe thead th {\n",
       "        text-align: right;\n",
       "    }\n",
       "</style>\n",
       "<table border=\"1\" class=\"dataframe\">\n",
       "  <thead>\n",
       "    <tr style=\"text-align: right;\">\n",
       "      <th></th>\n",
       "      <th>SG_PARTIDO</th>\n",
       "      <th>DS_COR_RACA</th>\n",
       "    </tr>\n",
       "    <tr>\n",
       "      <th>DS_GENERO</th>\n",
       "      <th></th>\n",
       "      <th></th>\n",
       "    </tr>\n",
       "  </thead>\n",
       "  <tbody>\n",
       "    <tr>\n",
       "      <th>FEMININO</th>\n",
       "      <td>765</td>\n",
       "      <td>765</td>\n",
       "    </tr>\n",
       "    <tr>\n",
       "      <th>MASCULINO</th>\n",
       "      <td>1349</td>\n",
       "      <td>1349</td>\n",
       "    </tr>\n",
       "  </tbody>\n",
       "</table>\n",
       "</div>"
      ],
      "text/plain": [
       "           SG_PARTIDO  DS_COR_RACA\n",
       "DS_GENERO                         \n",
       "FEMININO          765          765\n",
       "MASCULINO        1349         1349"
      ]
     },
     "execution_count": 145,
     "metadata": {},
     "output_type": "execute_result"
    }
   ],
   "source": [
    "df_vereadores_ap_sexo_raca.groupby(['DS_GENERO']).count()"
   ]
  },
  {
   "cell_type": "markdown",
   "id": "2f01e94e",
   "metadata": {},
   "source": [
    "E por raça?"
   ]
  },
  {
   "cell_type": "code",
   "execution_count": 146,
   "id": "3f5cefbc",
   "metadata": {
    "tags": []
   },
   "outputs": [
    {
     "data": {
      "text/html": [
       "<div>\n",
       "<style scoped>\n",
       "    .dataframe tbody tr th:only-of-type {\n",
       "        vertical-align: middle;\n",
       "    }\n",
       "\n",
       "    .dataframe tbody tr th {\n",
       "        vertical-align: top;\n",
       "    }\n",
       "\n",
       "    .dataframe thead th {\n",
       "        text-align: right;\n",
       "    }\n",
       "</style>\n",
       "<table border=\"1\" class=\"dataframe\">\n",
       "  <thead>\n",
       "    <tr style=\"text-align: right;\">\n",
       "      <th></th>\n",
       "      <th>SG_PARTIDO</th>\n",
       "      <th>DS_GENERO</th>\n",
       "    </tr>\n",
       "    <tr>\n",
       "      <th>DS_COR_RACA</th>\n",
       "      <th></th>\n",
       "      <th></th>\n",
       "    </tr>\n",
       "  </thead>\n",
       "  <tbody>\n",
       "    <tr>\n",
       "      <th>AMARELA</th>\n",
       "      <td>3</td>\n",
       "      <td>3</td>\n",
       "    </tr>\n",
       "    <tr>\n",
       "      <th>BRANCA</th>\n",
       "      <td>300</td>\n",
       "      <td>300</td>\n",
       "    </tr>\n",
       "    <tr>\n",
       "      <th>INDÍGENA</th>\n",
       "      <td>22</td>\n",
       "      <td>22</td>\n",
       "    </tr>\n",
       "    <tr>\n",
       "      <th>NÃO INFORMADO</th>\n",
       "      <td>4</td>\n",
       "      <td>4</td>\n",
       "    </tr>\n",
       "    <tr>\n",
       "      <th>PARDA</th>\n",
       "      <td>1544</td>\n",
       "      <td>1544</td>\n",
       "    </tr>\n",
       "    <tr>\n",
       "      <th>PRETA</th>\n",
       "      <td>241</td>\n",
       "      <td>241</td>\n",
       "    </tr>\n",
       "  </tbody>\n",
       "</table>\n",
       "</div>"
      ],
      "text/plain": [
       "               SG_PARTIDO  DS_GENERO\n",
       "DS_COR_RACA                         \n",
       "AMARELA                 3          3\n",
       "BRANCA                300        300\n",
       "INDÍGENA               22         22\n",
       "NÃO INFORMADO           4          4\n",
       "PARDA                1544       1544\n",
       "PRETA                 241        241"
      ]
     },
     "execution_count": 146,
     "metadata": {},
     "output_type": "execute_result"
    }
   ],
   "source": [
    "df_vereadores_ap_sexo_raca.groupby(['DS_COR_RACA']).count()"
   ]
  },
  {
   "cell_type": "markdown",
   "id": "6347022c",
   "metadata": {},
   "source": [
    "Da candidaturas do gênero feminino, quantas temos em cada grupo racial?"
   ]
  },
  {
   "cell_type": "code",
   "execution_count": 148,
   "id": "0ebe9c99",
   "metadata": {
    "tags": []
   },
   "outputs": [
    {
     "data": {
      "text/html": [
       "<div>\n",
       "<style scoped>\n",
       "    .dataframe tbody tr th:only-of-type {\n",
       "        vertical-align: middle;\n",
       "    }\n",
       "\n",
       "    .dataframe tbody tr th {\n",
       "        vertical-align: top;\n",
       "    }\n",
       "\n",
       "    .dataframe thead th {\n",
       "        text-align: right;\n",
       "    }\n",
       "</style>\n",
       "<table border=\"1\" class=\"dataframe\">\n",
       "  <thead>\n",
       "    <tr style=\"text-align: right;\">\n",
       "      <th></th>\n",
       "      <th></th>\n",
       "      <th>SG_PARTIDO</th>\n",
       "    </tr>\n",
       "    <tr>\n",
       "      <th>DS_GENERO</th>\n",
       "      <th>DS_COR_RACA</th>\n",
       "      <th></th>\n",
       "    </tr>\n",
       "  </thead>\n",
       "  <tbody>\n",
       "    <tr>\n",
       "      <th rowspan=\"6\" valign=\"top\">FEMININO</th>\n",
       "      <th>AMARELA</th>\n",
       "      <td>2</td>\n",
       "    </tr>\n",
       "    <tr>\n",
       "      <th>BRANCA</th>\n",
       "      <td>103</td>\n",
       "    </tr>\n",
       "    <tr>\n",
       "      <th>INDÍGENA</th>\n",
       "      <td>5</td>\n",
       "    </tr>\n",
       "    <tr>\n",
       "      <th>NÃO INFORMADO</th>\n",
       "      <td>1</td>\n",
       "    </tr>\n",
       "    <tr>\n",
       "      <th>PARDA</th>\n",
       "      <td>575</td>\n",
       "    </tr>\n",
       "    <tr>\n",
       "      <th>PRETA</th>\n",
       "      <td>79</td>\n",
       "    </tr>\n",
       "  </tbody>\n",
       "</table>\n",
       "</div>"
      ],
      "text/plain": [
       "                         SG_PARTIDO\n",
       "DS_GENERO DS_COR_RACA              \n",
       "FEMININO  AMARELA                 2\n",
       "          BRANCA                103\n",
       "          INDÍGENA                5\n",
       "          NÃO INFORMADO           1\n",
       "          PARDA                 575\n",
       "          PRETA                  79"
      ]
     },
     "execution_count": 148,
     "metadata": {},
     "output_type": "execute_result"
    }
   ],
   "source": [
    "df_vereadores_ap_sexo_raca[df_vereadores_ap_sexo_raca['DS_GENERO'] == 'FEMININO'].groupby(\n",
    "    ['DS_GENERO', 'DS_COR_RACA']).count()"
   ]
  },
  {
   "cell_type": "markdown",
   "id": "be3ec27a",
   "metadata": {},
   "source": [
    "Entre as candidaturas do gênero feminino, quais os partidos com maior número de representação em cada grupo racial?"
   ]
  },
  {
   "cell_type": "code",
   "execution_count": 149,
   "id": "65e886b4",
   "metadata": {
    "tags": []
   },
   "outputs": [
    {
     "data": {
      "text/html": [
       "<div>\n",
       "<style scoped>\n",
       "    .dataframe tbody tr th:only-of-type {\n",
       "        vertical-align: middle;\n",
       "    }\n",
       "\n",
       "    .dataframe tbody tr th {\n",
       "        vertical-align: top;\n",
       "    }\n",
       "\n",
       "    .dataframe thead th {\n",
       "        text-align: right;\n",
       "    }\n",
       "</style>\n",
       "<table border=\"1\" class=\"dataframe\">\n",
       "  <thead>\n",
       "    <tr style=\"text-align: right;\">\n",
       "      <th></th>\n",
       "      <th></th>\n",
       "      <th>SG_PARTIDO</th>\n",
       "    </tr>\n",
       "    <tr>\n",
       "      <th>DS_GENERO</th>\n",
       "      <th>DS_COR_RACA</th>\n",
       "      <th></th>\n",
       "    </tr>\n",
       "  </thead>\n",
       "  <tbody>\n",
       "    <tr>\n",
       "      <th rowspan=\"6\" valign=\"top\">FEMININO</th>\n",
       "      <th>AMARELA</th>\n",
       "      <td>PTB</td>\n",
       "    </tr>\n",
       "    <tr>\n",
       "      <th>BRANCA</th>\n",
       "      <td>SOLIDARIEDADE</td>\n",
       "    </tr>\n",
       "    <tr>\n",
       "      <th>INDÍGENA</th>\n",
       "      <td>REPUBLICANOS</td>\n",
       "    </tr>\n",
       "    <tr>\n",
       "      <th>NÃO INFORMADO</th>\n",
       "      <td>PDT</td>\n",
       "    </tr>\n",
       "    <tr>\n",
       "      <th>PARDA</th>\n",
       "      <td>SOLIDARIEDADE</td>\n",
       "    </tr>\n",
       "    <tr>\n",
       "      <th>PRETA</th>\n",
       "      <td>REPUBLICANOS</td>\n",
       "    </tr>\n",
       "  </tbody>\n",
       "</table>\n",
       "</div>"
      ],
      "text/plain": [
       "                            SG_PARTIDO\n",
       "DS_GENERO DS_COR_RACA                 \n",
       "FEMININO  AMARELA                  PTB\n",
       "          BRANCA         SOLIDARIEDADE\n",
       "          INDÍGENA        REPUBLICANOS\n",
       "          NÃO INFORMADO            PDT\n",
       "          PARDA          SOLIDARIEDADE\n",
       "          PRETA           REPUBLICANOS"
      ]
     },
     "execution_count": 149,
     "metadata": {},
     "output_type": "execute_result"
    }
   ],
   "source": [
    "df_vereadores_ap_sexo_raca[df_vereadores_ap_sexo_raca['DS_GENERO'] == 'FEMININO'].groupby(\n",
    "    ['DS_GENERO', 'DS_COR_RACA']).max()"
   ]
  },
  {
   "cell_type": "markdown",
   "id": "c3522222",
   "metadata": {},
   "source": [
    "## Agora é a sua vez, entre as candidaturas do sexo masculino, quais os partidos com o menor número de representantes em cada grupo racial?"
   ]
  },
  {
   "cell_type": "code",
   "execution_count": 166,
   "id": "b32635b9",
   "metadata": {},
   "outputs": [
    {
     "data": {
      "text/html": [
       "<div>\n",
       "<style scoped>\n",
       "    .dataframe tbody tr th:only-of-type {\n",
       "        vertical-align: middle;\n",
       "    }\n",
       "\n",
       "    .dataframe tbody tr th {\n",
       "        vertical-align: top;\n",
       "    }\n",
       "\n",
       "    .dataframe thead th {\n",
       "        text-align: right;\n",
       "    }\n",
       "</style>\n",
       "<table border=\"1\" class=\"dataframe\">\n",
       "  <thead>\n",
       "    <tr style=\"text-align: right;\">\n",
       "      <th></th>\n",
       "      <th></th>\n",
       "      <th>SG_PARTIDO</th>\n",
       "    </tr>\n",
       "    <tr>\n",
       "      <th>DS_GENERO</th>\n",
       "      <th>DS_COR_RACA</th>\n",
       "      <th></th>\n",
       "    </tr>\n",
       "  </thead>\n",
       "  <tbody>\n",
       "    <tr>\n",
       "      <th rowspan=\"6\" valign=\"top\">MASCULINO</th>\n",
       "      <th>AMARELA</th>\n",
       "      <td>PRTB</td>\n",
       "    </tr>\n",
       "    <tr>\n",
       "      <th>BRANCA</th>\n",
       "      <td>AVANTE</td>\n",
       "    </tr>\n",
       "    <tr>\n",
       "      <th>INDÍGENA</th>\n",
       "      <td>DEM</td>\n",
       "    </tr>\n",
       "    <tr>\n",
       "      <th>NÃO INFORMADO</th>\n",
       "      <td>MDB</td>\n",
       "    </tr>\n",
       "    <tr>\n",
       "      <th>PARDA</th>\n",
       "      <td>AVANTE</td>\n",
       "    </tr>\n",
       "    <tr>\n",
       "      <th>PRETA</th>\n",
       "      <td>CIDADANIA</td>\n",
       "    </tr>\n",
       "  </tbody>\n",
       "</table>\n",
       "</div>"
      ],
      "text/plain": [
       "                        SG_PARTIDO\n",
       "DS_GENERO DS_COR_RACA             \n",
       "MASCULINO AMARELA             PRTB\n",
       "          BRANCA            AVANTE\n",
       "          INDÍGENA             DEM\n",
       "          NÃO INFORMADO        MDB\n",
       "          PARDA             AVANTE\n",
       "          PRETA          CIDADANIA"
      ]
     },
     "execution_count": 166,
     "metadata": {},
     "output_type": "execute_result"
    }
   ],
   "source": [
    "df_vereadores_ap_sexo_raca[df_vereadores_ap_sexo_raca['DS_GENERO'] == 'MASCULINO'].groupby(\n",
    "    ['DS_GENERO', 'DS_COR_RACA']\n",
    ").min()"
   ]
  },
  {
   "cell_type": "code",
   "execution_count": 156,
   "id": "64b559f1",
   "metadata": {},
   "outputs": [
    {
     "data": {
      "text/html": [
       "<div>\n",
       "<style scoped>\n",
       "    .dataframe tbody tr th:only-of-type {\n",
       "        vertical-align: middle;\n",
       "    }\n",
       "\n",
       "    .dataframe tbody tr th {\n",
       "        vertical-align: top;\n",
       "    }\n",
       "\n",
       "    .dataframe thead th {\n",
       "        text-align: right;\n",
       "    }\n",
       "</style>\n",
       "<table border=\"1\" class=\"dataframe\">\n",
       "  <thead>\n",
       "    <tr style=\"text-align: right;\">\n",
       "      <th></th>\n",
       "      <th></th>\n",
       "      <th>DS_GENERO</th>\n",
       "    </tr>\n",
       "    <tr>\n",
       "      <th>DS_COR_RACA</th>\n",
       "      <th>SG_PARTIDO</th>\n",
       "      <th></th>\n",
       "    </tr>\n",
       "  </thead>\n",
       "  <tbody>\n",
       "    <tr>\n",
       "      <th>AMARELA</th>\n",
       "      <th>PRTB</th>\n",
       "      <td>1</td>\n",
       "    </tr>\n",
       "    <tr>\n",
       "      <th rowspan=\"4\" valign=\"top\">BRANCA</th>\n",
       "      <th>AVANTE</th>\n",
       "      <td>4</td>\n",
       "    </tr>\n",
       "    <tr>\n",
       "      <th>CIDADANIA</th>\n",
       "      <td>6</td>\n",
       "    </tr>\n",
       "    <tr>\n",
       "      <th>DEM</th>\n",
       "      <td>13</td>\n",
       "    </tr>\n",
       "    <tr>\n",
       "      <th>MDB</th>\n",
       "      <td>18</td>\n",
       "    </tr>\n",
       "    <tr>\n",
       "      <th>...</th>\n",
       "      <th>...</th>\n",
       "      <td>...</td>\n",
       "    </tr>\n",
       "    <tr>\n",
       "      <th rowspan=\"5\" valign=\"top\">PRETA</th>\n",
       "      <th>PT</th>\n",
       "      <td>5</td>\n",
       "    </tr>\n",
       "    <tr>\n",
       "      <th>PV</th>\n",
       "      <td>1</td>\n",
       "    </tr>\n",
       "    <tr>\n",
       "      <th>REDE</th>\n",
       "      <td>10</td>\n",
       "    </tr>\n",
       "    <tr>\n",
       "      <th>REPUBLICANOS</th>\n",
       "      <td>13</td>\n",
       "    </tr>\n",
       "    <tr>\n",
       "      <th>SOLIDARIEDADE</th>\n",
       "      <td>3</td>\n",
       "    </tr>\n",
       "  </tbody>\n",
       "</table>\n",
       "<p>84 rows × 1 columns</p>\n",
       "</div>"
      ],
      "text/plain": [
       "                           DS_GENERO\n",
       "DS_COR_RACA SG_PARTIDO              \n",
       "AMARELA     PRTB                   1\n",
       "BRANCA      AVANTE                 4\n",
       "            CIDADANIA              6\n",
       "            DEM                   13\n",
       "            MDB                   18\n",
       "...                              ...\n",
       "PRETA       PT                     5\n",
       "            PV                     1\n",
       "            REDE                  10\n",
       "            REPUBLICANOS          13\n",
       "            SOLIDARIEDADE          3\n",
       "\n",
       "[84 rows x 1 columns]"
      ]
     },
     "execution_count": 156,
     "metadata": {},
     "output_type": "execute_result"
    }
   ],
   "source": [
    "df_vereadores_ap_sexo_raca[df_vereadores_ap_sexo_raca['DS_GENERO'] == 'MASCULINO'].groupby(\n",
    "    ['DS_COR_RACA','SG_PARTIDO']\n",
    ").count()"
   ]
  }
 ],
 "metadata": {
  "kernelspec": {
   "display_name": "Python 3 (ipykernel)",
   "language": "python",
   "name": "python3"
  },
  "language_info": {
   "codemirror_mode": {
    "name": "ipython",
    "version": 3
   },
   "file_extension": ".py",
   "mimetype": "text/x-python",
   "name": "python",
   "nbconvert_exporter": "python",
   "pygments_lexer": "ipython3",
   "version": "3.11.3"
  }
 },
 "nbformat": 4,
 "nbformat_minor": 5
}
