{
 "cells": [
  {
   "cell_type": "markdown",
   "id": "0badcac0",
   "metadata": {},
   "source": [
    "# Limpeza de dados e estatística descritiva\n",
    "\n",
    "Neste desafio colocaremos em prática alguns conceitos apresentado nas aulas. Para isso, usaremos o conjunto de dados [Prestação de contas eleitorais - 2020](https://dadosabertos.tse.jus.br/dataset/prestacao-de-contas-eleitorais-2020) disponível no Portal de Dados Abertos do Tribunal Superior Eleitoral.\n",
    "\n",
    "Os dados também podem ser encontrados na pasta \"Dados\" deste repositório.\n",
    "\n",
    "Preencha as lacunas abaixo para completar o desafio."
   ]
  },
  {
   "cell_type": "markdown",
   "id": "0c16060f",
   "metadata": {},
   "source": [
    "# Importe os pacotes necessários"
   ]
  },
  {
   "cell_type": "code",
   "execution_count": 2,
   "id": "4e8e21b1",
   "metadata": {},
   "outputs": [],
   "source": [
    "import pandas as pd\n",
    "import numpy as np\n",
    "from matplotlib import pyplot as plt"
   ]
  },
  {
   "cell_type": "markdown",
   "id": "bf75d21a",
   "metadata": {},
   "source": [
    "# Leia o arquivo \"receitas_orgaos_partidarios_2020_NORTE.csv\" que está na pasta dados desse repositório, usando o Pandas\n",
    "\n",
    "Na aula `1.10 - Outliers e valores faltantes`, vimos como utilizar o método `replace` para substituir valores em certos colunas do nosso dataframe e trocar o texto (string) `#NULO#` pela representação padrão do Pandas para valores nulos.\n",
    "\n",
    "Aqui, vamos utilizar um outro método, onde definimos quais strings serão considerados valores nulos já na importação do arquivo.\n",
    "\n",
    "Edite as células abaixo e inclua:\n",
    "\n",
    "* O nome do arquivo que queremos importar\n",
    "* O separador utilizado\n",
    "* Insira uma lista no parâmetro `na_values` que contenha o texto a ser ignorado.\n",
    "\n",
    "Experimente rodar os comandos primeiro sem e depois com o parâmetro `na_values`, então, compare a diferença. Observe, por exemplo, o campo `CD_CNAE_DOADOR`."
   ]
  },
  {
   "cell_type": "code",
   "execution_count": 3,
   "id": "0b8e6b56",
   "metadata": {},
   "outputs": [
    {
     "name": "stdout",
     "output_type": "stream",
     "text": [
      "<class 'pandas.core.frame.DataFrame'>\n",
      "RangeIndex: 6052 entries, 0 to 6051\n",
      "Data columns (total 48 columns):\n",
      " #   Column                       Non-Null Count  Dtype  \n",
      "---  ------                       --------------  -----  \n",
      " 0   DT_GERACAO                   6052 non-null   object \n",
      " 1   HH_GERACAO                   6052 non-null   object \n",
      " 2   ANO_ELEICAO                  6052 non-null   int64  \n",
      " 3   CD_TIPO_ELEICAO              6052 non-null   int64  \n",
      " 4   NM_TIPO_ELEICAO              6052 non-null   object \n",
      " 5   TP_PRESTACAO_CONTAS          6052 non-null   object \n",
      " 6   DT_PRESTACAO_CONTAS          6052 non-null   object \n",
      " 7   SQ_PRESTADOR_CONTAS          6052 non-null   int64  \n",
      " 8   CD_ESFERA_PARTIDARIA         6052 non-null   object \n",
      " 9   DS_ESFERA_PARTIDARIA         6052 non-null   object \n",
      " 10  SG_UF                        6052 non-null   object \n",
      " 11  CD_MUNICIPIO                 5043 non-null   float64\n",
      " 12  NM_MUNICIPIO                 5043 non-null   object \n",
      " 13  NR_CNPJ_PRESTADOR_CONTA      6052 non-null   int64  \n",
      " 14  NR_PARTIDO                   6052 non-null   int64  \n",
      " 15  SG_PARTIDO                   6052 non-null   object \n",
      " 16  NM_PARTIDO                   6052 non-null   object \n",
      " 17  CD_FONTE_RECEITA             6052 non-null   int64  \n",
      " 18  DS_FONTE_RECEITA             6052 non-null   object \n",
      " 19  CD_ORIGEM_RECEITA            6052 non-null   int64  \n",
      " 20  DS_ORIGEM_RECEITA            6052 non-null   object \n",
      " 21  CD_NATUREZA_RECEITA          6052 non-null   int64  \n",
      " 22  DS_NATUREZA_RECEITA          6052 non-null   object \n",
      " 23  CD_ESPECIE_RECEITA           6052 non-null   int64  \n",
      " 24  DS_ESPECIE_RECEITA           6052 non-null   object \n",
      " 25  CD_CNAE_DOADOR               3033 non-null   float64\n",
      " 26  DS_CNAE_DOADOR               3033 non-null   object \n",
      " 27  NR_CPF_CNPJ_DOADOR           6016 non-null   float64\n",
      " 28  NM_DOADOR                    6016 non-null   object \n",
      " 29  NM_DOADOR_RFB                6016 non-null   object \n",
      " 30  CD_ESFERA_PARTIDARIA_DOADOR  2071 non-null   object \n",
      " 31  DS_ESFERA_PARTIDARIA_DOADOR  2071 non-null   object \n",
      " 32  SG_UF_DOADOR                 3033 non-null   object \n",
      " 33  CD_MUNICIPIO_DOADOR          1092 non-null   float64\n",
      " 34  NM_MUNICIPIO_DOADOR          1092 non-null   object \n",
      " 35  SQ_CANDIDATO_DOADOR          886 non-null    float64\n",
      " 36  NR_CANDIDATO_DOADOR          962 non-null    float64\n",
      " 37  CD_CARGO_CANDIDATO_DOADOR    962 non-null    float64\n",
      " 38  DS_CARGO_CANDIDATO_DOADOR    962 non-null    object \n",
      " 39  NR_PARTIDO_DOADOR            3033 non-null   float64\n",
      " 40  SG_PARTIDO_DOADOR            3033 non-null   object \n",
      " 41  NM_PARTIDO_DOADOR            3033 non-null   object \n",
      " 42  NR_RECIBO_DOACAO             5623 non-null   object \n",
      " 43  NR_DOCUMENTO_DOACAO          3924 non-null   object \n",
      " 44  SQ_RECEITA                   6052 non-null   int64  \n",
      " 45  DT_RECEITA                   6052 non-null   object \n",
      " 46  DS_RECEITA                   1933 non-null   object \n",
      " 47  VR_RECEITA                   6052 non-null   object \n",
      "dtypes: float64(8), int64(10), object(30)\n",
      "memory usage: 2.2+ MB\n"
     ]
    }
   ],
   "source": [
    "df = pd.read_csv(r'..\\base_dados\\receitas_orgaos_partidarios_2020_NORTE.csv',sep=';')\n",
    "\n",
    "df.info()"
   ]
  },
  {
   "cell_type": "code",
   "execution_count": 4,
   "id": "a81ccab4",
   "metadata": {},
   "outputs": [
    {
     "name": "stdout",
     "output_type": "stream",
     "text": [
      "<class 'pandas.core.frame.DataFrame'>\n",
      "RangeIndex: 6052 entries, 0 to 6051\n",
      "Data columns (total 48 columns):\n",
      " #   Column                       Non-Null Count  Dtype  \n",
      "---  ------                       --------------  -----  \n",
      " 0   DT_GERACAO                   6052 non-null   object \n",
      " 1   HH_GERACAO                   6052 non-null   object \n",
      " 2   ANO_ELEICAO                  6052 non-null   int64  \n",
      " 3   CD_TIPO_ELEICAO              6052 non-null   int64  \n",
      " 4   NM_TIPO_ELEICAO              6052 non-null   object \n",
      " 5   TP_PRESTACAO_CONTAS          6052 non-null   object \n",
      " 6   DT_PRESTACAO_CONTAS          6052 non-null   object \n",
      " 7   SQ_PRESTADOR_CONTAS          6052 non-null   int64  \n",
      " 8   CD_ESFERA_PARTIDARIA         6052 non-null   object \n",
      " 9   DS_ESFERA_PARTIDARIA         6052 non-null   object \n",
      " 10  SG_UF                        6052 non-null   object \n",
      " 11  CD_MUNICIPIO                 6052 non-null   float64\n",
      " 12  NM_MUNICIPIO                 6052 non-null   object \n",
      " 13  NR_CNPJ_PRESTADOR_CONTA      6052 non-null   int64  \n",
      " 14  NR_PARTIDO                   6052 non-null   int64  \n",
      " 15  SG_PARTIDO                   6052 non-null   object \n",
      " 16  NM_PARTIDO                   6052 non-null   object \n",
      " 17  CD_FONTE_RECEITA             6052 non-null   int64  \n",
      " 18  DS_FONTE_RECEITA             6052 non-null   object \n",
      " 19  CD_ORIGEM_RECEITA            6052 non-null   int64  \n",
      " 20  DS_ORIGEM_RECEITA            6052 non-null   object \n",
      " 21  CD_NATUREZA_RECEITA          6052 non-null   int64  \n",
      " 22  DS_NATUREZA_RECEITA          6052 non-null   object \n",
      " 23  CD_ESPECIE_RECEITA           6052 non-null   int64  \n",
      " 24  DS_ESPECIE_RECEITA           6052 non-null   object \n",
      " 25  CD_CNAE_DOADOR               6052 non-null   float64\n",
      " 26  DS_CNAE_DOADOR               6052 non-null   object \n",
      " 27  NR_CPF_CNPJ_DOADOR           6052 non-null   float64\n",
      " 28  NM_DOADOR                    6052 non-null   object \n",
      " 29  NM_DOADOR_RFB                6052 non-null   object \n",
      " 30  CD_ESFERA_PARTIDARIA_DOADOR  6052 non-null   object \n",
      " 31  DS_ESFERA_PARTIDARIA_DOADOR  6052 non-null   object \n",
      " 32  SG_UF_DOADOR                 6052 non-null   object \n",
      " 33  CD_MUNICIPIO_DOADOR          6052 non-null   float64\n",
      " 34  NM_MUNICIPIO_DOADOR          6052 non-null   object \n",
      " 35  SQ_CANDIDATO_DOADOR          6052 non-null   float64\n",
      " 36  NR_CANDIDATO_DOADOR          6052 non-null   float64\n",
      " 37  CD_CARGO_CANDIDATO_DOADOR    6052 non-null   float64\n",
      " 38  DS_CARGO_CANDIDATO_DOADOR    6052 non-null   object \n",
      " 39  NR_PARTIDO_DOADOR            6052 non-null   float64\n",
      " 40  SG_PARTIDO_DOADOR            6052 non-null   object \n",
      " 41  NM_PARTIDO_DOADOR            6052 non-null   object \n",
      " 42  NR_RECIBO_DOACAO             6052 non-null   object \n",
      " 43  NR_DOCUMENTO_DOACAO          6052 non-null   object \n",
      " 44  SQ_RECEITA                   6052 non-null   int64  \n",
      " 45  DT_RECEITA                   6052 non-null   object \n",
      " 46  DS_RECEITA                   6052 non-null   object \n",
      " 47  VR_RECEITA                   6052 non-null   object \n",
      "dtypes: float64(8), int64(10), object(30)\n",
      "memory usage: 2.2+ MB\n"
     ]
    }
   ],
   "source": [
    "df_limpo = pd.read_csv(r'..\\base_dados\\receitas_orgaos_partidarios_2020_NORTE.csv',\n",
    "                 sep=';',\n",
    "                 na_values=['#NULO#','#NULO',-1])\n",
    "\n",
    "df_limpo = df_limpo.loc[:, df_limpo.columns.tolist()].replace(np.nan, -1)\n",
    "\n",
    "# df_limpo = df.loc[:,df.columns.to_list()].replace({'#NULO': None,\n",
    "#                                          '#NULO#': None,\n",
    "#                                          -1: None})\n",
    "\n",
    "df_limpo.info()"
   ]
  },
  {
   "cell_type": "markdown",
   "id": "aec7cfce",
   "metadata": {},
   "source": [
    "# Filtre apenas os registros que sejam da prestação de contas final\n"
   ]
  },
  {
   "cell_type": "code",
   "execution_count": 5,
   "id": "110f8562",
   "metadata": {},
   "outputs": [
    {
     "data": {
      "text/plain": [
       "array(['Final', 'Parcial', 'Relatório Financeiro',\n",
       "       'Regularização da Omissão'], dtype=object)"
      ]
     },
     "execution_count": 5,
     "metadata": {},
     "output_type": "execute_result"
    }
   ],
   "source": [
    "# Primeiro vamos ver os valores únicos da coluna TP_PRESTACAO_CONTAS\n",
    "\n",
    "df['TP_PRESTACAO_CONTAS'].unique()"
   ]
  },
  {
   "cell_type": "code",
   "execution_count": 6,
   "id": "60f1ce27",
   "metadata": {},
   "outputs": [
    {
     "data": {
      "text/plain": [
       "(6052, 48)"
      ]
     },
     "execution_count": 6,
     "metadata": {},
     "output_type": "execute_result"
    }
   ],
   "source": [
    "# O resultado deste comando nos diz que quantas linhas e colunas temos antes do filtro\n",
    "df.shape"
   ]
  },
  {
   "cell_type": "code",
   "execution_count": 7,
   "id": "145c639e",
   "metadata": {},
   "outputs": [],
   "source": [
    "# Preencha o campo os espaços abaixo com o nome da coluna e o valor desejado para nosso filtro\n",
    "df_final = df_limpo[df_limpo['TP_PRESTACAO_CONTAS'] == 'Final'].copy()"
   ]
  },
  {
   "cell_type": "code",
   "execution_count": 8,
   "id": "947b303c",
   "metadata": {},
   "outputs": [
    {
     "data": {
      "text/plain": [
       "(5912, 48)"
      ]
     },
     "execution_count": 8,
     "metadata": {},
     "output_type": "execute_result"
    }
   ],
   "source": [
    "# Rode o comando shape no novo dataframe criado e confira se o número de linhas foi reduzido\n",
    "\n",
    "df_final.shape"
   ]
  },
  {
   "cell_type": "markdown",
   "id": "4fbec4e0",
   "metadata": {},
   "source": [
    "## Qual foi a maior doação de pessoa física e pessoa jurídica em cada estado?\n",
    "\n",
    "Vamos usar o método `value_counts` para não só listar cada valor único da coluna `CD_CNAE_DOADOR`, como também mostrar quantos registros temos em cada um."
   ]
  },
  {
   "cell_type": "code",
   "execution_count": 9,
   "id": "df59e78a",
   "metadata": {},
   "outputs": [
    {
     "data": {
      "text/plain": [
       "CD_CNAE_DOADOR\n",
       " 94928.0    2957\n",
       "-1.0        2951\n",
       " 47814.0       2\n",
       " 59120.0       1\n",
       " 85996.0       1\n",
       "Name: count, dtype: int64"
      ]
     },
     "execution_count": 9,
     "metadata": {},
     "output_type": "execute_result"
    }
   ],
   "source": [
    "# Preencha o nome da coluna abaixo\n",
    "df_final['CD_CNAE_DOADOR'].value_counts()\n",
    "\n",
    "# df_final[df_final['CD_CNAE_DOADOR'] == math.isnan()].count().CD_CNAE_DOADOR\n",
    "# df_final['CD_CNAE_DOADOR'].head(50)"
   ]
  },
  {
   "cell_type": "code",
   "execution_count": 10,
   "id": "093485ce",
   "metadata": {},
   "outputs": [
    {
     "data": {
      "text/plain": [
       "DS_CNAE_DOADOR\n",
       "Atividades de organizações políticas                                                 0.500169\n",
       "-1                                                                                   0.499154\n",
       "Comércio varejista de artigos do vestuário e acessórios                              0.000338\n",
       "Atividades de pós-produção cinematográfica, de vídeos e de programas de televisão    0.000169\n",
       "Atividades de ensino não especificadas anteriormente                                 0.000169\n",
       "Name: proportion, dtype: float64"
      ]
     },
     "execution_count": 10,
     "metadata": {},
     "output_type": "execute_result"
    }
   ],
   "source": [
    "# Para ver os resultados em percentuais é fácil! Basta falarmos para o value_counts que queremos os resultados normalizados\n",
    "df_final['DS_CNAE_DOADOR'].value_counts(normalize=True)"
   ]
  },
  {
   "cell_type": "markdown",
   "id": "623a777d",
   "metadata": {},
   "source": [
    "Se o doador for pessoa jurídica, temos seu respectivo código CNAE. Se for pessoa física, então temos o valor `-1`. \n",
    "\n",
    "Qual conclusão podemos tirar a respeito dos comandos acima?\n",
    "\n",
    "Escreva um **comentário** na célula abaixo com a resposta."
   ]
  },
  {
   "cell_type": "code",
   "execution_count": 11,
   "id": "ddf6f70e",
   "metadata": {},
   "outputs": [],
   "source": [
    "# Mais da metade dos registros são de pessoas físicas."
   ]
  },
  {
   "cell_type": "markdown",
   "id": "40404b7d",
   "metadata": {},
   "source": [
    "Agora, vamos duplicar a coluna `CD_CNAE_DOADOR` e deixar esta nova coluna apenas com 2 categorias: física (representada pelo valor -1) ou jurídica (que vamos representar inicialmente com 1)."
   ]
  },
  {
   "cell_type": "code",
   "execution_count": 12,
   "id": "e7007008",
   "metadata": {},
   "outputs": [
    {
     "data": {
      "text/plain": [
       "5281    94928.0\n",
       "4071    94928.0\n",
       "2467       -1.0\n",
       "5649       -1.0\n",
       "5874    94928.0\n",
       "64         -1.0\n",
       "3856       -1.0\n",
       "1828       -1.0\n",
       "4760       -1.0\n",
       "5738    94928.0\n",
       "2944       -1.0\n",
       "2545    94928.0\n",
       "2984       -1.0\n",
       "4765       -1.0\n",
       "2901       -1.0\n",
       "2229       -1.0\n",
       "5192    94928.0\n",
       "505     94928.0\n",
       "5945    94928.0\n",
       "4140    94928.0\n",
       "Name: TIPO_DOADOR, dtype: float64"
      ]
     },
     "execution_count": 12,
     "metadata": {},
     "output_type": "execute_result"
    }
   ],
   "source": [
    "# Vamos criar uma nova coluna que seja uma cópia exata da coluna CD_CNAE_DOADOR\n",
    "df_final['TIPO_DOADOR'] = df_final.loc[:, 'CD_CNAE_DOADOR']\n",
    "\n",
    "df_final['TIPO_DOADOR'].sample(20)\n"
   ]
  },
  {
   "cell_type": "markdown",
   "id": "f326c53a",
   "metadata": {},
   "source": [
    "## Substituição condicional (conditional replacing)\n",
    "\n",
    "Agora, vamos usar o método where do pacote NumPy (carinhosamente chamado de np abaixo).\n",
    "\n",
    "Esta função recebe três parâmetros:\n",
    "\n",
    "* Uma condição: no nosso caso, queremos que filtrar as coluna do CNAE onde os valores sejam -1\n",
    "* Um valor: caso a condição acima seja verdadeira, qual valor deverá ser retornado?\n",
    "* Outro valor: se a condição for falsa, então, qual outro valor deverá ser retornado?\n"
   ]
  },
  {
   "cell_type": "code",
   "execution_count": 13,
   "id": "78622d22",
   "metadata": {},
   "outputs": [
    {
     "data": {
      "text/plain": [
       "1738    juridica\n",
       "2927      fisica\n",
       "5050      fisica\n",
       "1001    juridica\n",
       "2963    juridica\n",
       "          ...   \n",
       "1123      fisica\n",
       "2795    juridica\n",
       "5831      fisica\n",
       "5395    juridica\n",
       "71      juridica\n",
       "Name: TIPO_DOADOR, Length: 100, dtype: object"
      ]
     },
     "execution_count": 13,
     "metadata": {},
     "output_type": "execute_result"
    }
   ],
   "source": [
    "df_final['TIPO_DOADOR'] = np.where(df_final['CD_CNAE_DOADOR'] == -1, 'fisica', 'juridica')\n",
    "\n",
    "df_final['TIPO_DOADOR'].sample(100)"
   ]
  },
  {
   "cell_type": "markdown",
   "id": "47a9b47f",
   "metadata": {},
   "source": [
    "## Agrupando (group by)"
   ]
  },
  {
   "cell_type": "code",
   "execution_count": 20,
   "id": "fdd9b8bb",
   "metadata": {},
   "outputs": [
    {
     "data": {
      "text/html": [
       "<div>\n",
       "<style scoped>\n",
       "    .dataframe tbody tr th:only-of-type {\n",
       "        vertical-align: middle;\n",
       "    }\n",
       "\n",
       "    .dataframe tbody tr th {\n",
       "        vertical-align: top;\n",
       "    }\n",
       "\n",
       "    .dataframe thead th {\n",
       "        text-align: right;\n",
       "    }\n",
       "</style>\n",
       "<table border=\"1\" class=\"dataframe\">\n",
       "  <thead>\n",
       "    <tr style=\"text-align: right;\">\n",
       "      <th></th>\n",
       "      <th></th>\n",
       "      <th>VR_RECEITA</th>\n",
       "    </tr>\n",
       "    <tr>\n",
       "      <th>TIPO_DOADOR</th>\n",
       "      <th>SG_UF</th>\n",
       "      <th></th>\n",
       "    </tr>\n",
       "  </thead>\n",
       "  <tbody>\n",
       "    <tr>\n",
       "      <th rowspan=\"7\" valign=\"top\">fisica</th>\n",
       "      <th>AC</th>\n",
       "      <td>516688.26</td>\n",
       "    </tr>\n",
       "    <tr>\n",
       "      <th>AM</th>\n",
       "      <td>491585.92</td>\n",
       "    </tr>\n",
       "    <tr>\n",
       "      <th>AP</th>\n",
       "      <td>82687.88</td>\n",
       "    </tr>\n",
       "    <tr>\n",
       "      <th>PA</th>\n",
       "      <td>4532569.87</td>\n",
       "    </tr>\n",
       "    <tr>\n",
       "      <th>RO</th>\n",
       "      <td>815877.84</td>\n",
       "    </tr>\n",
       "    <tr>\n",
       "      <th>RR</th>\n",
       "      <td>170414.95</td>\n",
       "    </tr>\n",
       "    <tr>\n",
       "      <th>TO</th>\n",
       "      <td>414676.35</td>\n",
       "    </tr>\n",
       "    <tr>\n",
       "      <th rowspan=\"7\" valign=\"top\">juridica</th>\n",
       "      <th>AC</th>\n",
       "      <td>22585542.95</td>\n",
       "    </tr>\n",
       "    <tr>\n",
       "      <th>AM</th>\n",
       "      <td>35625509.00</td>\n",
       "    </tr>\n",
       "    <tr>\n",
       "      <th>AP</th>\n",
       "      <td>33073470.04</td>\n",
       "    </tr>\n",
       "    <tr>\n",
       "      <th>PA</th>\n",
       "      <td>42454506.85</td>\n",
       "    </tr>\n",
       "    <tr>\n",
       "      <th>RO</th>\n",
       "      <td>22978320.93</td>\n",
       "    </tr>\n",
       "    <tr>\n",
       "      <th>RR</th>\n",
       "      <td>20868194.74</td>\n",
       "    </tr>\n",
       "    <tr>\n",
       "      <th>TO</th>\n",
       "      <td>24682986.39</td>\n",
       "    </tr>\n",
       "  </tbody>\n",
       "</table>\n",
       "</div>"
      ],
      "text/plain": [
       "                    VR_RECEITA\n",
       "TIPO_DOADOR SG_UF             \n",
       "fisica      AC       516688.26\n",
       "            AM       491585.92\n",
       "            AP        82687.88\n",
       "            PA      4532569.87\n",
       "            RO       815877.84\n",
       "            RR       170414.95\n",
       "            TO       414676.35\n",
       "juridica    AC     22585542.95\n",
       "            AM     35625509.00\n",
       "            AP     33073470.04\n",
       "            PA     42454506.85\n",
       "            RO     22978320.93\n",
       "            RR     20868194.74\n",
       "            TO     24682986.39"
      ]
     },
     "execution_count": 20,
     "metadata": {},
     "output_type": "execute_result"
    }
   ],
   "source": [
    "# Preencha abaixo primeiro uma lista com as 3 colunas que precisamos utilizar para responder à pergunta. E depois o nome das 2 colunas que precisamos agrupar.\n",
    "\n",
    "# df_final['VR_RECEITA'] = df_final['VR_RECEITA'].str.replace(',', '.') # substitui as vírgulas por pontos na string\n",
    "# df_final['VR_RECEITA'] = df_final['VR_RECEITA'].astype(float) # define tipo float para a coluna 'VR_RECEITA'\n",
    "\n",
    "df_final[['TIPO_DOADOR', 'SG_UF', 'VR_RECEITA']].groupby(by=['TIPO_DOADOR', 'SG_UF']).sum()"
   ]
  },
  {
   "cell_type": "code",
   "execution_count": 15,
   "id": "95e8e533",
   "metadata": {},
   "outputs": [],
   "source": [
    "# Para repetir o valor da coluna TIPO_DOADOR nas linhas, coloque o parâmetro as_index=False no método groupby do comando acima\n",
    "\n"
   ]
  },
  {
   "cell_type": "markdown",
   "id": "63d35bb6",
   "metadata": {},
   "source": [
    "## Qual o total de doações recebidas por partido?"
   ]
  },
  {
   "cell_type": "code",
   "execution_count": 24,
   "id": "b24a3736",
   "metadata": {},
   "outputs": [
    {
     "data": {
      "text/html": [
       "<div>\n",
       "<style scoped>\n",
       "    .dataframe tbody tr th:only-of-type {\n",
       "        vertical-align: middle;\n",
       "    }\n",
       "\n",
       "    .dataframe tbody tr th {\n",
       "        vertical-align: top;\n",
       "    }\n",
       "\n",
       "    .dataframe thead th {\n",
       "        text-align: right;\n",
       "    }\n",
       "</style>\n",
       "<table border=\"1\" class=\"dataframe\">\n",
       "  <thead>\n",
       "    <tr style=\"text-align: right;\">\n",
       "      <th></th>\n",
       "      <th></th>\n",
       "      <th>VR_RECEITA</th>\n",
       "    </tr>\n",
       "    <tr>\n",
       "      <th>SG_PARTIDO</th>\n",
       "      <th>NM_PARTIDO</th>\n",
       "      <th></th>\n",
       "    </tr>\n",
       "  </thead>\n",
       "  <tbody>\n",
       "    <tr>\n",
       "      <th>AVANTE</th>\n",
       "      <th>AVANTE</th>\n",
       "      <td>498726.86</td>\n",
       "    </tr>\n",
       "    <tr>\n",
       "      <th>CIDADANIA</th>\n",
       "      <th>Cidadania</th>\n",
       "      <td>2219623.58</td>\n",
       "    </tr>\n",
       "    <tr>\n",
       "      <th>DC</th>\n",
       "      <th>Democracia Cristã</th>\n",
       "      <td>579762.02</td>\n",
       "    </tr>\n",
       "    <tr>\n",
       "      <th>DEM</th>\n",
       "      <th>Democratas</th>\n",
       "      <td>2436863.08</td>\n",
       "    </tr>\n",
       "    <tr>\n",
       "      <th>MDB</th>\n",
       "      <th>Movimento Democrático Brasileiro</th>\n",
       "      <td>26787221.17</td>\n",
       "    </tr>\n",
       "    <tr>\n",
       "      <th>NOVO</th>\n",
       "      <th>Partido Novo</th>\n",
       "      <td>23857.14</td>\n",
       "    </tr>\n",
       "    <tr>\n",
       "      <th>PATRIOTA</th>\n",
       "      <th>Patriota</th>\n",
       "      <td>2251979.23</td>\n",
       "    </tr>\n",
       "    <tr>\n",
       "      <th>PC do B</th>\n",
       "      <th>Partido Comunista do Brasil</th>\n",
       "      <td>828417.19</td>\n",
       "    </tr>\n",
       "    <tr>\n",
       "      <th>PCB</th>\n",
       "      <th>Partido Comunista Brasileiro</th>\n",
       "      <td>5957.40</td>\n",
       "    </tr>\n",
       "    <tr>\n",
       "      <th>PDT</th>\n",
       "      <th>Partido Democrático Trabalhista</th>\n",
       "      <td>4233608.09</td>\n",
       "    </tr>\n",
       "    <tr>\n",
       "      <th>PL</th>\n",
       "      <th>Partido Liberal</th>\n",
       "      <td>1155281.57</td>\n",
       "    </tr>\n",
       "    <tr>\n",
       "      <th>PMB</th>\n",
       "      <th>Partido da Mulher Brasileira</th>\n",
       "      <td>255200.00</td>\n",
       "    </tr>\n",
       "    <tr>\n",
       "      <th>PMN</th>\n",
       "      <th>Partido da Mobilização Nacional</th>\n",
       "      <td>6161.18</td>\n",
       "    </tr>\n",
       "    <tr>\n",
       "      <th>PODE</th>\n",
       "      <th>Podemos</th>\n",
       "      <td>10923235.59</td>\n",
       "    </tr>\n",
       "    <tr>\n",
       "      <th>PP</th>\n",
       "      <th>PROGRESSISTAS</th>\n",
       "      <td>21131024.67</td>\n",
       "    </tr>\n",
       "    <tr>\n",
       "      <th>PROS</th>\n",
       "      <th>Partido Republicano da Ordem Social</th>\n",
       "      <td>3186342.45</td>\n",
       "    </tr>\n",
       "    <tr>\n",
       "      <th>PRTB</th>\n",
       "      <th>Partido Renovador Trabalhista Brasileiro</th>\n",
       "      <td>149812.03</td>\n",
       "    </tr>\n",
       "    <tr>\n",
       "      <th>PSB</th>\n",
       "      <th>Partido Socialista Brasileiro</th>\n",
       "      <td>7195707.60</td>\n",
       "    </tr>\n",
       "    <tr>\n",
       "      <th>PSC</th>\n",
       "      <th>Partido Social Cristão</th>\n",
       "      <td>762219.20</td>\n",
       "    </tr>\n",
       "    <tr>\n",
       "      <th>PSD</th>\n",
       "      <th>Partido Social Democrático</th>\n",
       "      <td>44622192.18</td>\n",
       "    </tr>\n",
       "    <tr>\n",
       "      <th>PSDB</th>\n",
       "      <th>Partido da Social Democracia Brasileira</th>\n",
       "      <td>4703298.45</td>\n",
       "    </tr>\n",
       "    <tr>\n",
       "      <th>PSL</th>\n",
       "      <th>Partido Social Liberal</th>\n",
       "      <td>14133814.44</td>\n",
       "    </tr>\n",
       "    <tr>\n",
       "      <th>PSOL</th>\n",
       "      <th>Partido Socialismo e Liberdade</th>\n",
       "      <td>7426889.30</td>\n",
       "    </tr>\n",
       "    <tr>\n",
       "      <th>PT</th>\n",
       "      <th>Partido dos Trabalhadores</th>\n",
       "      <td>11252216.64</td>\n",
       "    </tr>\n",
       "    <tr>\n",
       "      <th>PTB</th>\n",
       "      <th>Partido Trabalhista Brasileiro</th>\n",
       "      <td>6212684.87</td>\n",
       "    </tr>\n",
       "    <tr>\n",
       "      <th>PTC</th>\n",
       "      <th>Partido Trabalhista Cristão</th>\n",
       "      <td>621471.86</td>\n",
       "    </tr>\n",
       "    <tr>\n",
       "      <th>PV</th>\n",
       "      <th>Partido Verde</th>\n",
       "      <td>4670590.87</td>\n",
       "    </tr>\n",
       "    <tr>\n",
       "      <th>REDE</th>\n",
       "      <th>Rede Sustentabilidade</th>\n",
       "      <td>10416744.67</td>\n",
       "    </tr>\n",
       "    <tr>\n",
       "      <th>REPUBLICANOS</th>\n",
       "      <th>REPUBLICANOS</th>\n",
       "      <td>9731257.47</td>\n",
       "    </tr>\n",
       "    <tr>\n",
       "      <th>SOLIDARIEDADE</th>\n",
       "      <th>Solidariedade</th>\n",
       "      <td>10855671.17</td>\n",
       "    </tr>\n",
       "    <tr>\n",
       "      <th>UP</th>\n",
       "      <th>Unidade Popular</th>\n",
       "      <td>15200.00</td>\n",
       "    </tr>\n",
       "  </tbody>\n",
       "</table>\n",
       "</div>"
      ],
      "text/plain": [
       "                                                         VR_RECEITA\n",
       "SG_PARTIDO    NM_PARTIDO                                           \n",
       "AVANTE        AVANTE                                      498726.86\n",
       "CIDADANIA     Cidadania                                  2219623.58\n",
       "DC            Democracia Cristã                           579762.02\n",
       "DEM           Democratas                                 2436863.08\n",
       "MDB           Movimento Democrático Brasileiro          26787221.17\n",
       "NOVO          Partido Novo                                 23857.14\n",
       "PATRIOTA      Patriota                                   2251979.23\n",
       "PC do B       Partido Comunista do Brasil                 828417.19\n",
       "PCB           Partido Comunista Brasileiro                  5957.40\n",
       "PDT           Partido Democrático Trabalhista            4233608.09\n",
       "PL            Partido Liberal                            1155281.57\n",
       "PMB           Partido da Mulher Brasileira                255200.00\n",
       "PMN           Partido da Mobilização Nacional               6161.18\n",
       "PODE          Podemos                                   10923235.59\n",
       "PP            PROGRESSISTAS                             21131024.67\n",
       "PROS          Partido Republicano da Ordem Social        3186342.45\n",
       "PRTB          Partido Renovador Trabalhista Brasileiro    149812.03\n",
       "PSB           Partido Socialista Brasileiro              7195707.60\n",
       "PSC           Partido Social Cristão                      762219.20\n",
       "PSD           Partido Social Democrático                44622192.18\n",
       "PSDB          Partido da Social Democracia Brasileira    4703298.45\n",
       "PSL           Partido Social Liberal                    14133814.44\n",
       "PSOL          Partido Socialismo e Liberdade             7426889.30\n",
       "PT            Partido dos Trabalhadores                 11252216.64\n",
       "PTB           Partido Trabalhista Brasileiro             6212684.87\n",
       "PTC           Partido Trabalhista Cristão                 621471.86\n",
       "PV            Partido Verde                              4670590.87\n",
       "REDE          Rede Sustentabilidade                     10416744.67\n",
       "REPUBLICANOS  REPUBLICANOS                               9731257.47\n",
       "SOLIDARIEDADE Solidariedade                             10855671.17\n",
       "UP            Unidade Popular                              15200.00"
      ]
     },
     "execution_count": 24,
     "metadata": {},
     "output_type": "execute_result"
    }
   ],
   "source": [
    "# df_final[__________].groupby(by=_____).___()\n",
    "df_total_doacoes_partido = df_final[\n",
    "    ['SG_PARTIDO', 'NM_PARTIDO', 'VR_RECEITA']\n",
    "    ].groupby(by=['SG_PARTIDO', 'NM_PARTIDO']).sum()\n",
    "\n",
    "df_total_doacoes_partido"
   ]
  },
  {
   "cell_type": "markdown",
   "id": "c5d33b84",
   "metadata": {},
   "source": [
    "## Qual é o top 10?\n",
    "\n",
    "Crie um novo dataframe com os 10 partidos com mais doações. Você precisa primeiro ordenar os resultados e depois selecionar apenas os 10 primeiros.\n",
    "\n"
   ]
  },
  {
   "cell_type": "code",
   "execution_count": 25,
   "id": "8144f9e5",
   "metadata": {},
   "outputs": [
    {
     "data": {
      "text/html": [
       "<div>\n",
       "<style scoped>\n",
       "    .dataframe tbody tr th:only-of-type {\n",
       "        vertical-align: middle;\n",
       "    }\n",
       "\n",
       "    .dataframe tbody tr th {\n",
       "        vertical-align: top;\n",
       "    }\n",
       "\n",
       "    .dataframe thead th {\n",
       "        text-align: right;\n",
       "    }\n",
       "</style>\n",
       "<table border=\"1\" class=\"dataframe\">\n",
       "  <thead>\n",
       "    <tr style=\"text-align: right;\">\n",
       "      <th></th>\n",
       "      <th></th>\n",
       "      <th>VR_RECEITA</th>\n",
       "    </tr>\n",
       "    <tr>\n",
       "      <th>SG_PARTIDO</th>\n",
       "      <th>NM_PARTIDO</th>\n",
       "      <th></th>\n",
       "    </tr>\n",
       "  </thead>\n",
       "  <tbody>\n",
       "    <tr>\n",
       "      <th>PSD</th>\n",
       "      <th>Partido Social Democrático</th>\n",
       "      <td>44622192.18</td>\n",
       "    </tr>\n",
       "    <tr>\n",
       "      <th>MDB</th>\n",
       "      <th>Movimento Democrático Brasileiro</th>\n",
       "      <td>26787221.17</td>\n",
       "    </tr>\n",
       "    <tr>\n",
       "      <th>PP</th>\n",
       "      <th>PROGRESSISTAS</th>\n",
       "      <td>21131024.67</td>\n",
       "    </tr>\n",
       "    <tr>\n",
       "      <th>PSL</th>\n",
       "      <th>Partido Social Liberal</th>\n",
       "      <td>14133814.44</td>\n",
       "    </tr>\n",
       "    <tr>\n",
       "      <th>PT</th>\n",
       "      <th>Partido dos Trabalhadores</th>\n",
       "      <td>11252216.64</td>\n",
       "    </tr>\n",
       "    <tr>\n",
       "      <th>PODE</th>\n",
       "      <th>Podemos</th>\n",
       "      <td>10923235.59</td>\n",
       "    </tr>\n",
       "    <tr>\n",
       "      <th>SOLIDARIEDADE</th>\n",
       "      <th>Solidariedade</th>\n",
       "      <td>10855671.17</td>\n",
       "    </tr>\n",
       "    <tr>\n",
       "      <th>REDE</th>\n",
       "      <th>Rede Sustentabilidade</th>\n",
       "      <td>10416744.67</td>\n",
       "    </tr>\n",
       "    <tr>\n",
       "      <th>REPUBLICANOS</th>\n",
       "      <th>REPUBLICANOS</th>\n",
       "      <td>9731257.47</td>\n",
       "    </tr>\n",
       "    <tr>\n",
       "      <th>PSOL</th>\n",
       "      <th>Partido Socialismo e Liberdade</th>\n",
       "      <td>7426889.30</td>\n",
       "    </tr>\n",
       "  </tbody>\n",
       "</table>\n",
       "</div>"
      ],
      "text/plain": [
       "                                                 VR_RECEITA\n",
       "SG_PARTIDO    NM_PARTIDO                                   \n",
       "PSD           Partido Social Democrático        44622192.18\n",
       "MDB           Movimento Democrático Brasileiro  26787221.17\n",
       "PP            PROGRESSISTAS                     21131024.67\n",
       "PSL           Partido Social Liberal            14133814.44\n",
       "PT            Partido dos Trabalhadores         11252216.64\n",
       "PODE          Podemos                           10923235.59\n",
       "SOLIDARIEDADE Solidariedade                     10855671.17\n",
       "REDE          Rede Sustentabilidade             10416744.67\n",
       "REPUBLICANOS  REPUBLICANOS                       9731257.47\n",
       "PSOL          Partido Socialismo e Liberdade     7426889.30"
      ]
     },
     "execution_count": 25,
     "metadata": {},
     "output_type": "execute_result"
    }
   ],
   "source": [
    "df_total_doacoes_partido_top10 = df_total_doacoes_partido.sort_values(by='VR_RECEITA',ascending=False).head(10)\n",
    "df_total_doacoes_partido_top10"
   ]
  },
  {
   "cell_type": "markdown",
   "id": "0ca424ec",
   "metadata": {},
   "source": [
    "# Vamos visualizar os resultados?\n",
    "Na aula, nós vimos como usar o matplotlib para gerar gráficos. Agora, vamos descobrir uma nova forma de fazer o mesmo usando um método nativo Pandas. Experimente colocar `.plot(kind='barh')` após a consulta ou dataframe anterior.\n",
    "\n",
    "Com este comando, podemos produzir um gráfico (plot) do tipo (kind) de barras horizontais (barh)."
   ]
  },
  {
   "cell_type": "code",
   "execution_count": 26,
   "id": "db7c17b2",
   "metadata": {},
   "outputs": [
    {
     "data": {
      "text/plain": [
       "<Axes: ylabel='SG_PARTIDO,NM_PARTIDO'>"
      ]
     },
     "execution_count": 26,
     "metadata": {},
     "output_type": "execute_result"
    },
    {
     "data": {
      "image/png": "[encoded data removed]",
      "text/plain": [
       "<Figure size 640x480 with 1 Axes>"
      ]
     },
     "metadata": {},
     "output_type": "display_data"
    }
   ],
   "source": [
    "df_total_doacoes_partido_top10.plot(kind='barh')"
   ]
  },
  {
   "cell_type": "markdown",
   "id": "1eef3d90",
   "metadata": {},
   "source": [
    "## Qual o valor médio das doações por tipo de doador?\n",
    "\n",
    "Agora é sua vez! A partir dos comandos anteriores, faça uma nova consulta para descobrir a mediana de acordo com o tipo de doador."
   ]
  },
  {
   "cell_type": "code",
   "execution_count": 28,
   "id": "e0385ed3",
   "metadata": {},
   "outputs": [
    {
     "data": {
      "text/html": [
       "<div>\n",
       "<style scoped>\n",
       "    .dataframe tbody tr th:only-of-type {\n",
       "        vertical-align: middle;\n",
       "    }\n",
       "\n",
       "    .dataframe tbody tr th {\n",
       "        vertical-align: top;\n",
       "    }\n",
       "\n",
       "    .dataframe thead th {\n",
       "        text-align: right;\n",
       "    }\n",
       "</style>\n",
       "<table border=\"1\" class=\"dataframe\">\n",
       "  <thead>\n",
       "    <tr style=\"text-align: right;\">\n",
       "      <th></th>\n",
       "      <th>TIPO_DOADOR</th>\n",
       "      <th>VR_RECEITA</th>\n",
       "    </tr>\n",
       "  </thead>\n",
       "  <tbody>\n",
       "    <tr>\n",
       "      <th>0</th>\n",
       "      <td>fisica</td>\n",
       "      <td>800.0</td>\n",
       "    </tr>\n",
       "    <tr>\n",
       "      <th>1</th>\n",
       "      <td>juridica</td>\n",
       "      <td>2000.0</td>\n",
       "    </tr>\n",
       "  </tbody>\n",
       "</table>\n",
       "</div>"
      ],
      "text/plain": [
       "  TIPO_DOADOR  VR_RECEITA\n",
       "0      fisica       800.0\n",
       "1    juridica      2000.0"
      ]
     },
     "execution_count": 28,
     "metadata": {},
     "output_type": "execute_result"
    }
   ],
   "source": [
    "df_final[['TIPO_DOADOR', 'VR_RECEITA']].groupby(by=['TIPO_DOADOR'], as_index=False).median()"
   ]
  },
  {
   "cell_type": "markdown",
   "id": "6e4ae02a",
   "metadata": {},
   "source": [
    "## Qual o valor mais alto de doação por tipo de doador?"
   ]
  },
  {
   "cell_type": "code",
   "execution_count": null,
   "id": "a4530329",
   "metadata": {},
   "outputs": [
    {
     "data": {
      "text/html": [
       "<div>\n",
       "<style scoped>\n",
       "    .dataframe tbody tr th:only-of-type {\n",
       "        vertical-align: middle;\n",
       "    }\n",
       "\n",
       "    .dataframe tbody tr th {\n",
       "        vertical-align: top;\n",
       "    }\n",
       "\n",
       "    .dataframe thead th {\n",
       "        text-align: right;\n",
       "    }\n",
       "</style>\n",
       "<table border=\"1\" class=\"dataframe\">\n",
       "  <thead>\n",
       "    <tr style=\"text-align: right;\">\n",
       "      <th></th>\n",
       "      <th>TIPO_DOADOR</th>\n",
       "      <th>VR_RECEITA</th>\n",
       "    </tr>\n",
       "  </thead>\n",
       "  <tbody>\n",
       "    <tr>\n",
       "      <th>0</th>\n",
       "      <td>fisica</td>\n",
       "      <td>200000.0</td>\n",
       "    </tr>\n",
       "    <tr>\n",
       "      <th>1</th>\n",
       "      <td>juridica</td>\n",
       "      <td>6900000.0</td>\n",
       "    </tr>\n",
       "  </tbody>\n",
       "</table>\n",
       "</div>"
      ],
      "text/plain": [
       "  TIPO_DOADOR  VR_RECEITA\n",
       "0      fisica    200000.0\n",
       "1    juridica   6900000.0"
      ]
     },
     "execution_count": 107,
     "metadata": {},
     "output_type": "execute_result"
    }
   ],
   "source": [
    "df_final[['TIPO_DOADOR', 'VR_RECEITA']].groupby(by=['TIPO_DOADOR'], as_index=False).max()"
   ]
  },
  {
   "cell_type": "markdown",
   "id": "6c0e02b3",
   "metadata": {},
   "source": [
    "## Crie uma tabela com valor máximo, mínimo e a mediana, por estado e tipo de doador"
   ]
  },
  {
   "cell_type": "code",
   "execution_count": null,
   "id": "766c9df8",
   "metadata": {},
   "outputs": [
    {
     "data": {
      "text/html": [
       "<div>\n",
       "<style scoped>\n",
       "    .dataframe tbody tr th:only-of-type {\n",
       "        vertical-align: middle;\n",
       "    }\n",
       "\n",
       "    .dataframe tbody tr th {\n",
       "        vertical-align: top;\n",
       "    }\n",
       "\n",
       "    .dataframe thead th {\n",
       "        text-align: right;\n",
       "    }\n",
       "</style>\n",
       "<table border=\"1\" class=\"dataframe\">\n",
       "  <thead>\n",
       "    <tr style=\"text-align: right;\">\n",
       "      <th></th>\n",
       "      <th></th>\n",
       "      <th>VR_RECEITA</th>\n",
       "      <th>MAXIMO</th>\n",
       "      <th>MINIMO</th>\n",
       "      <th>MEDIANA</th>\n",
       "    </tr>\n",
       "    <tr>\n",
       "      <th>TIPO_DOADOR</th>\n",
       "      <th>SG_UF</th>\n",
       "      <th></th>\n",
       "      <th></th>\n",
       "      <th></th>\n",
       "      <th></th>\n",
       "    </tr>\n",
       "  </thead>\n",
       "  <tbody>\n",
       "    <tr>\n",
       "      <th rowspan=\"7\" valign=\"top\">fisica</th>\n",
       "      <th>AC</th>\n",
       "      <td>516688.26</td>\n",
       "      <td>40560.0</td>\n",
       "      <td>4.80</td>\n",
       "      <td>3000.00</td>\n",
       "    </tr>\n",
       "    <tr>\n",
       "      <th>AM</th>\n",
       "      <td>491585.92</td>\n",
       "      <td>35000.0</td>\n",
       "      <td>2.00</td>\n",
       "      <td>500.00</td>\n",
       "    </tr>\n",
       "    <tr>\n",
       "      <th>AP</th>\n",
       "      <td>82687.88</td>\n",
       "      <td>12000.0</td>\n",
       "      <td>49.88</td>\n",
       "      <td>500.00</td>\n",
       "    </tr>\n",
       "    <tr>\n",
       "      <th>PA</th>\n",
       "      <td>4532569.87</td>\n",
       "      <td>200000.0</td>\n",
       "      <td>0.10</td>\n",
       "      <td>1000.00</td>\n",
       "    </tr>\n",
       "    <tr>\n",
       "      <th>RO</th>\n",
       "      <td>815877.84</td>\n",
       "      <td>110000.0</td>\n",
       "      <td>1.20</td>\n",
       "      <td>600.00</td>\n",
       "    </tr>\n",
       "    <tr>\n",
       "      <th>RR</th>\n",
       "      <td>170414.95</td>\n",
       "      <td>30000.0</td>\n",
       "      <td>23.74</td>\n",
       "      <td>300.00</td>\n",
       "    </tr>\n",
       "    <tr>\n",
       "      <th>TO</th>\n",
       "      <td>414676.35</td>\n",
       "      <td>30000.0</td>\n",
       "      <td>0.01</td>\n",
       "      <td>561.65</td>\n",
       "    </tr>\n",
       "    <tr>\n",
       "      <th rowspan=\"7\" valign=\"top\">juridica</th>\n",
       "      <th>AC</th>\n",
       "      <td>22585542.95</td>\n",
       "      <td>4900000.0</td>\n",
       "      <td>10.00</td>\n",
       "      <td>2550.00</td>\n",
       "    </tr>\n",
       "    <tr>\n",
       "      <th>AM</th>\n",
       "      <td>35625509.00</td>\n",
       "      <td>6900000.0</td>\n",
       "      <td>0.04</td>\n",
       "      <td>1500.00</td>\n",
       "    </tr>\n",
       "    <tr>\n",
       "      <th>AP</th>\n",
       "      <td>33073470.04</td>\n",
       "      <td>4900000.0</td>\n",
       "      <td>0.55</td>\n",
       "      <td>20000.00</td>\n",
       "    </tr>\n",
       "    <tr>\n",
       "      <th>PA</th>\n",
       "      <td>42454506.85</td>\n",
       "      <td>4400000.0</td>\n",
       "      <td>0.10</td>\n",
       "      <td>463.00</td>\n",
       "    </tr>\n",
       "    <tr>\n",
       "      <th>RO</th>\n",
       "      <td>22978320.93</td>\n",
       "      <td>2900000.0</td>\n",
       "      <td>0.40</td>\n",
       "      <td>7000.00</td>\n",
       "    </tr>\n",
       "    <tr>\n",
       "      <th>RR</th>\n",
       "      <td>20868194.74</td>\n",
       "      <td>2900000.0</td>\n",
       "      <td>12.50</td>\n",
       "      <td>2045.00</td>\n",
       "    </tr>\n",
       "    <tr>\n",
       "      <th>TO</th>\n",
       "      <td>24682986.39</td>\n",
       "      <td>4900000.0</td>\n",
       "      <td>0.05</td>\n",
       "      <td>600.00</td>\n",
       "    </tr>\n",
       "  </tbody>\n",
       "</table>\n",
       "</div>"
      ],
      "text/plain": [
       "                    VR_RECEITA     MAXIMO  MINIMO   MEDIANA\n",
       "TIPO_DOADOR SG_UF                                          \n",
       "fisica      AC       516688.26    40560.0    4.80   3000.00\n",
       "            AM       491585.92    35000.0    2.00    500.00\n",
       "            AP        82687.88    12000.0   49.88    500.00\n",
       "            PA      4532569.87   200000.0    0.10   1000.00\n",
       "            RO       815877.84   110000.0    1.20    600.00\n",
       "            RR       170414.95    30000.0   23.74    300.00\n",
       "            TO       414676.35    30000.0    0.01    561.65\n",
       "juridica    AC     22585542.95  4900000.0   10.00   2550.00\n",
       "            AM     35625509.00  6900000.0    0.04   1500.00\n",
       "            AP     33073470.04  4900000.0    0.55  20000.00\n",
       "            PA     42454506.85  4400000.0    0.10    463.00\n",
       "            RO     22978320.93  2900000.0    0.40   7000.00\n",
       "            RR     20868194.74  2900000.0   12.50   2045.00\n",
       "            TO     24682986.39  4900000.0    0.05    600.00"
      ]
     },
     "execution_count": 111,
     "metadata": {},
     "output_type": "execute_result"
    }
   ],
   "source": [
    "df_tipo_doador_estado = df_final[['TIPO_DOADOR', 'SG_UF', 'VR_RECEITA']].groupby(by=['TIPO_DOADOR', 'SG_UF']).sum()\n",
    "\n",
    "df_tipo_doador_estado['MAXIMO'] = df_final[['TIPO_DOADOR', 'SG_UF', 'VR_RECEITA']].groupby(by=['TIPO_DOADOR', 'SG_UF']).max()\n",
    "df_tipo_doador_estado['MINIMO'] = df_final[['TIPO_DOADOR', 'SG_UF', 'VR_RECEITA']].groupby(by=['TIPO_DOADOR', 'SG_UF']).min()\n",
    "df_tipo_doador_estado['MEDIANA'] = df_final[['TIPO_DOADOR', 'SG_UF', 'VR_RECEITA']].groupby(by=['TIPO_DOADOR', 'SG_UF']).median()\n",
    "\n",
    "df_tipo_doador_estado\n"
   ]
  },
  {
   "cell_type": "markdown",
   "id": "34e11ca6",
   "metadata": {},
   "source": [
    "# Entreviste você mesmo"
   ]
  },
  {
   "cell_type": "markdown",
   "id": "4b17ac41",
   "metadata": {},
   "source": [
    "Escreva abaixo pelo menos outras três perguntas que podem ser feitas à base de dados. Escreva a pergunta como um comentário acima do código com a consulta em Python."
   ]
  },
  {
   "cell_type": "markdown",
   "id": "67e605e5",
   "metadata": {},
   "source": []
  }
 ],
 "metadata": {
  "interpreter": {
   "hash": "916dbcbb3f70747c44a77c7bcd40155683ae19c65e1c03b4aa3499c5328201f1"
  },
  "kernelspec": {
   "display_name": "Python 3 (ipykernel)",
   "language": "python",
   "name": "python3"
  },
  "language_info": {
   "codemirror_mode": {
    "name": "ipython",
    "version": 3
   },
   "file_extension": ".py",
   "mimetype": "text/x-python",
   "name": "python",
   "nbconvert_exporter": "python",
   "pygments_lexer": "ipython3",
   "version": "3.11.3"
  }
 },
 "nbformat": 4,
 "nbformat_minor": 5
}
