{
 "cells": [
  {
   "cell_type": "markdown",
   "metadata": {},
   "source": [
    "# 3.8 - Expressões Regulares"
   ]
  },
  {
   "cell_type": "markdown",
   "metadata": {},
   "source": [
    "Nesta aula são abordados os seguinte temas:\n",
    "1. Itrodução às Expressões Regulares;\n",
    "2. Expressões Regulares em Python."
   ]
  },
  {
   "cell_type": "markdown",
   "metadata": {},
   "source": [
    "## 1. Introdução"
   ]
  },
  {
   "cell_type": "markdown",
   "metadata": {},
   "source": [
    "Expressões regulares, ou *regex*, são padrões que representam texto. Assim é possível verificar se um padrão forma uma string ou faz parte dela."
   ]
  },
  {
   "cell_type": "markdown",
   "metadata": {},
   "source": [
    "Exemplos:\n",
    "- O padrão \"diário\" existe na string \"querido diário\"?\n",
    "- O padrão \"[qQ]uerido [dD]iário\" bate com a string \"Querido diário\"?"
   ]
  },
  {
   "cell_type": "markdown",
   "metadata": {},
   "source": [
    "Exemplos de sitaxe *regex* utilizando o alfabeto:\n",
    "\n",
    "| Padrão |                           Resultado                           |\n",
    "|:------:|:-------------------------------------------------------------:|\n",
    "|    a   |                     Apenas o caractere \"a\"                    |\n",
    "|  [aA]  |              Qualquer caractere do alfabeto \"aA\"              |\n",
    "|  [A-Z] |    Qualquer caractere do alfabeto de \"A\" a \"Z\" (maiúsculas)   |\n",
    "| [^0-9] | Qualquer caractere, exceto caracteres do alfabeto \"0\" até \"9\" |"
   ]
  },
  {
   "cell_type": "markdown",
   "metadata": {},
   "source": [
    "Exemplos de sitaxe *regex* utilizando atalhos:\n",
    "\n",
    "| Padrão |                                        Resultado                                       |\n",
    "|:------:|:--------------------------------------------------------------------------------------:|\n",
    "|   \\w   |                 O mesmo que [a-zA-Z_]. Usado quando queremos \"palavras\"                |\n",
    "|   \\d   |                    O mesmo que [0-9]. Usado quando queremos \"número\"                   |\n",
    "|   \\s   | Qualquer caractere em branco, como \"quebra de linha\", \"tabulação\" e \"espaço em branco\" |\n",
    "|    .   |                      Qualquer caractere, exceto \"quebra de linha\"                      |"
   ]
  },
  {
   "cell_type": "markdown",
   "metadata": {},
   "source": [
    "Exemplos de sitaxe *regex* utilizando uma sequência:\n",
    "\n",
    "|   Padrão  |                         Resultado                         |\n",
    "|:---------:|:---------------------------------------------------------:|\n",
    "|   diário  |              Sequência de caracteres \"diário\"             |\n",
    "| [dD]iário | Mesma sequência anterior, só que com \"d\" ou \"D\" no início |\n",
    "|  [0-9]{4} |     Sequência de 4 caracteres dos dígitos de \"0\" a \"9\"    |\n",
    "|    \\w+    |    Sequência de 1 ou mais caracteres que são \"palavras\"   |\n",
    "|    \\s*    |       Sequência de 0 ou mais caracteres \"em branco\"       |"
   ]
  },
  {
   "cell_type": "markdown",
   "metadata": {},
   "source": [
    "Exemplos de sitaxe *regex* utilizando âncora, escape e grupos:\n",
    "\n",
    "|      Padrão      |                                                  Resultado                                                    |\n",
    "|:----------------:|:-------------------------------------------------------------------------------------------------------------:|\n",
    "|     ^querido     |                             \"^\" indica que \"querido\" está no começo da _string_                               |\n",
    "|      diário$     |                               \"$\" indica que \"diário\" está no fim da _string_                                 |\n",
    "|       www\\\\.     | \"www\" seguido pelo caractere \".\" (ponto). Sem o escape \"\\\\\", o ponto seria a sintaxe de \"qualquer caractere\"  |\n",
    "| querido (diário) |                       Resultados com \"querido diário\", mas só captura o grupo \"diário\"                        |"
   ]
  },
  {
   "cell_type": "markdown",
   "metadata": {},
   "source": [
    "Exemplos de sitaxe *regex* utilizando condições:\n",
    "\n",
    "|      Padrão     |                       Resultado                       |\n",
    "|:---------------:|:-----------------------------------------------------:|\n",
    "| querido\\|diário |       Sequência \"querido\" ou sequência \"diário\"       |\n",
    "|      https?     | O \"s\" no final é opcional, ou seja, \"http\" ou \"https\" |\n",
    "|    [dD]?iário   |             \"diário\", \"Diário\" ou \"iário\"             |"
   ]
  },
  {
   "cell_type": "markdown",
   "metadata": {},
   "source": [
    "# 2. Python"
   ]
  },
  {
   "cell_type": "markdown",
   "metadata": {},
   "source": [
    "Utilização do módulo *re* para fazer as buscas:\n",
    "\n",
    "|           Função           |                       Resultado                       |\n",
    "|:--------------------------:|:-----------------------------------------------------:|\n",
    "|   re.macth(padrão, strin)  | Verifica se o \"padrão\" bate totalmente com a \"string\" |\n",
    "|  re.search(padrão, string) |       Verifica se o \"padrão\" existe na \"string\"       |\n",
    "| re.findall(padrão, string) |   Busca todas as ocorrências do \"padrão\" na \"string\"  |"
   ]
  },
  {
   "cell_type": "markdown",
   "metadata": {},
   "source": [
    "Abaixo, um exemplo prático de como utilizar *regex* e o método *re* para fazer uma busca:"
   ]
  },
  {
   "cell_type": "code",
   "execution_count": 1,
   "metadata": {},
   "outputs": [
    {
     "name": "stdout",
     "output_type": "stream",
     "text": [
      "Diário\n",
      "...\n",
      "<re.Match object; span=(23, 26), match='...'>\n",
      "['.', '.', '.']\n"
     ]
    }
   ],
   "source": [
    "import re\n",
    "\n",
    "texto = \"Querido Diário, hoje eu...\"\n",
    "\n",
    "# Obs: o \"r\" antes das strings signifca \"raw\", ou seja, faz com que a string se interpretada de maneira bruta e evita problemas com o escape (\"\\\") da regex\n",
    "\n",
    "diario = re.search(r\"[dD]iário\", texto) # busca por \"diário\" ou \"Diário\" na string da variável texto\n",
    "print(diario.group()) # imprime o grupo encontrado na busca = \"Diário\"\n",
    "\n",
    "reticencias = re.search(r\"\\.{3}\", texto) # busca por uma sequência de 3 caracteres preenchida com ponto (.) na string da variável texto\n",
    "print(reticencias.group()) # imprime o grupo encontrado na busca = \"...\"\n",
    "print(reticencias) # imrprime o objeto de busca = <re.Match object; span=(23, 26), match=\"...\">\n",
    "\n",
    "pontos = re.findall(r\"\\.\", texto) # busca por todo ponto (\".\") na string da variável texto\n",
    "print(pontos) # retorna uma lista com todos os resultados obtidos = [\".\", \".\", \".\"]"
   ]
  }
 ],
 "metadata": {
  "kernelspec": {
   "display_name": "env",
   "language": "python",
   "name": "python3"
  },
  "language_info": {
   "codemirror_mode": {
    "name": "ipython",
    "version": 3
   },
   "file_extension": ".py",
   "mimetype": "text/x-python",
   "name": "python",
   "nbconvert_exporter": "python",
   "pygments_lexer": "ipython3",
   "version": "3.11.3"
  },
  "orig_nbformat": 4
 },
 "nbformat": 4,
 "nbformat_minor": 2
}
