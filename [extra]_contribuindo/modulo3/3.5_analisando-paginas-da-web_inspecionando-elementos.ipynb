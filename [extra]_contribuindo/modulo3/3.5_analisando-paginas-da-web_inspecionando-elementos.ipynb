{
 "cells": [
  {
   "cell_type": "markdown",
   "metadata": {},
   "source": [
    "# 3.5 - Analisando páginas da web: inspecionando elementos"
   ]
  },
  {
   "cell_type": "markdown",
   "metadata": {},
   "source": [
    "Nesta aula foram abordados os seguintes temas:\n",
    "1. Ferramentas de desenvolvimento;\n",
    "2. Inspetor de elementos;\n",
    "3. Código fonte."
   ]
  },
  {
   "cell_type": "markdown",
   "metadata": {},
   "source": [
    "## 1. Ferramentas de desenvolvimento"
   ]
  },
  {
   "cell_type": "markdown",
   "metadata": {},
   "source": [
    "Essas ferramentas são essenciais para interagir com qualquer site. Com essas ferramentas de desenvolvimento, é possível, por exemplo, ver todos os elementos HTML do site e, se desejado, selecionar o elemento (Ctrl + Shift + C) na página para ver no inspetor. Também é possível utilizar o console de JavaScript e visualizar alguns objetos, como o objeto *document*. Além disso, na aba *Network* é possível ver as requisições, seus status e suas respostas."
   ]
  },
  {
   "cell_type": "markdown",
   "metadata": {},
   "source": [
    "## 2. Inspetor de elementos"
   ]
  },
  {
   "cell_type": "markdown",
   "metadata": {},
   "source": [
    "Para dar um exemplo mais prático de como utilizar a ferramenta de inspetor de elementos, podemos selecionar o elemento diário \"Diário Oficial\" da [página de Natal (RN)](https://www.natal.rn.gov.br/dom) no inspetor de elementos, o resultado é o seguinte código HTML:"
   ]
  },
  {
   "cell_type": "code",
   "execution_count": null,
   "metadata": {
    "vscode": {
     "languageId": "html"
    }
   },
   "outputs": [],
   "source": [
    "<h3 class=\"texto-secretaria\">Diário oficial</h3>"
   ]
  },
  {
   "cell_type": "markdown",
   "metadata": {},
   "source": [
    "Também é possível fazer buscas por elementos (Ctrl + F) utilizando sítaxe xpath para encontrá-los de maneira mais fácil."
   ]
  },
  {
   "cell_type": "markdown",
   "metadata": {},
   "source": [
    "## 3. Código fonte"
   ]
  },
  {
   "cell_type": "markdown",
   "metadata": {},
   "source": [
    "Às vezes, ao buscar por algo, como o path de um arquivo pdf que está no href de um link, o mesmo não é encontrado no código fonte (Ctrl + U) da página. Quando isso acontece, é porque talvez ele não exista de uma forma fácil na página. Isso acontece porque alguns elementos são gerados de maneira dinâmica, por exemplo com JavaScript, e por isso não estão disponíveis no código de requisição http."
   ]
  }
 ],
 "metadata": {
  "language_info": {
   "name": "python"
  },
  "orig_nbformat": 4
 },
 "nbformat": 4,
 "nbformat_minor": 2
}
