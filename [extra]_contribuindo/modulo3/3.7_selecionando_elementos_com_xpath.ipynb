{
 "cells": [
  {
   "cell_type": "markdown",
   "metadata": {},
   "source": [
    "# 3.7 - Selecionando elementos com XPath"
   ]
  },
  {
   "cell_type": "markdown",
   "metadata": {},
   "source": [
    "Nesta aula foram abordados os seguintes temas:\n",
    "1. Seletores;\n",
    "2. Introdução a XPath."
   ]
  },
  {
   "cell_type": "markdown",
   "metadata": {},
   "source": [
    "## 1. Seletores"
   ]
  },
  {
   "cell_type": "markdown",
   "metadata": {},
   "source": [
    "Os seletores utilizam-se da busca em arquivos hierárquicos utilizado em formatos como o HTML, que possuem uma árvore de conteúdo. Por isso, eles se tornam consultáveis com estes mecanismos de busca que, a partir da raíz do arquivo, percorrem a árvore do arquivo, de seu tronco até seus galhos, para encontrar algum elemento específico. Estes mecanismos são os ***seletores***."
   ]
  },
  {
   "cell_type": "markdown",
   "metadata": {},
   "source": [
    "As sitaxes mais conhecidas no uso de seletores são:\n",
    "- XPath\n",
    "- CSS"
   ]
  },
  {
   "cell_type": "markdown",
   "metadata": {},
   "source": [
    "Exemplos de sitaxe para navegar pela árvore de elementos:\n",
    "\n",
    "|   Sitaxe   |                        Significado                        |\n",
    "|:----------:|:---------------------------------------------------------:|\n",
    "|    //div   |       Todos os elementos \"div\" descendentes da raíz       |\n",
    "|   //div/p  |  Elementos \"p\" descendentes imediatos de elementos \"div\"  |\n",
    "|  //div//p  |   Todos os elementos \"p\" descendentes de elementos \"div\"  |\n",
    "|  //div//p. | Mesmo significado da linha acima (\".\" é o elemento atual) |\n",
    "|   //p/..   |            Ascendente imediato de elemento \"p\"            |"
   ]
  },
  {
   "cell_type": "markdown",
   "metadata": {},
   "source": [
    "Exemplos de sintaxe para navegar pela árvore de elementos utilizando seus atributos:\n",
    "\n",
    "|    Sitaxe   |                            Significado                           |\n",
    "|:-----------:|:----------------------------------------------------------------:|\n",
    "|  //a/@href  |             Atributo \"href\" de todos os elementos \"a\"            |\n",
    "| //p//text() | Texto dentro de todos os elementos descendentes de elementos \"p\" |\n",
    "|  //p/text() |              Textos dentro de todos os elementos \"p\"             |"
   ]
  },
  {
   "cell_type": "markdown",
   "metadata": {},
   "source": [
    "Exemplos de sintaxe para navegar pela árvore de elementos utilizando condições:\n",
    "\n",
    "|               Sitaxe              |                                  Significado                                  |\n",
    "|:---------------------------------:|:-----------------------------------------------------------------------------:|\n",
    "|         //p[text()=\"Olá\"]         |                     Elementos \"p\" com texto igual a \"Olá\"                     |\n",
    "|    //p[contains(text(),\"xis\")]    |                Elementos \"p\" com texto contendo a string \"xis\"                |\n",
    "|        //item[@price>2.50]        |             Elementos \"item\" com atributo \"price\" maior que \"2.50\"            |\n",
    "| //item[@price>2.50 and @price<=3] | Elementos \"item\" com atributo \"price\" maior que \"2.50\" e menor ou igual a \"3\" |"
   ]
  },
  {
   "cell_type": "markdown",
   "metadata": {},
   "source": [
    "Exemplos de sintaxe para navegar pela árvore de elementos utilizando a ordenação:\n",
    "\n",
    "|        Sitaxe       |                                                  Significado                                                  |\n",
    "|:-------------------:|:-------------------------------------------------------------------------------------------------------------:|\n",
    "|      //h1/p[2]      |                               Segundo \"p\" descendente imediato de elementos \"h1\"                              |\n",
    "|    //h1/p[last()]   |                           Último elemento \"p\" descendente imediato de elementos \"h1\"                          |\n",
    "| //h1/p[1][@id=\"id\"] | Elementos \"p\" que possuem o atributo \"id\" igual a \"id\" e são primeiro descendentes imediato de elementos \"h1\" |"
   ]
  },
  {
   "cell_type": "markdown",
   "metadata": {},
   "source": [
    "# 2.  Introdução a XPath"
   ]
  },
  {
   "cell_type": "markdown",
   "metadata": {},
   "source": [
    "Trazendo os exemplos acima para uma realidade mais prática, vamos utilizar o site do Diário Ofical de Porto Nacional (TO) para fazer uma busca. O objetivo é extrair a última linha da tabela de edições do diário."
   ]
  },
  {
   "cell_type": "markdown",
   "metadata": {},
   "source": [
    "Para isso, vamos buscar no inspetor de código pelo seguinte XPath:"
   ]
  },
  {
   "cell_type": "code",
   "execution_count": null,
   "metadata": {},
   "outputs": [],
   "source": [
    "//table[@class=\"table\"]/tbody/tr[last()]"
   ]
  }
 ],
 "metadata": {
  "language_info": {
   "name": "python"
  },
  "orig_nbformat": 4
 },
 "nbformat": 4,
 "nbformat_minor": 2
}
