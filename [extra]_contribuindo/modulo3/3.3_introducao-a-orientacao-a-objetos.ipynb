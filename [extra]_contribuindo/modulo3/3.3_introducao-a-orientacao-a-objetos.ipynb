{
 "cells": [
  {
   "cell_type": "markdown",
   "metadata": {},
   "source": [
    "# 3.2 - Introdução a Orientação a Objetos"
   ]
  },
  {
   "cell_type": "markdown",
   "metadata": {},
   "source": [
    "Nesta aula serão tratados os seguintes temas:\n",
    "1. Classes;\n",
    "2. Herança;\n",
    "3. Sobreposição.\n",
    "   "
   ]
  },
  {
   "cell_type": "markdown",
   "metadata": {},
   "source": [
    "## 1. - Classes"
   ]
  },
  {
   "cell_type": "markdown",
   "metadata": {},
   "source": [
    "Classes são abstrações de ***atributos*** (variáveis) e ***métodos*** (funções) pertencentes a um mesmo contexto."
   ]
  },
  {
   "cell_type": "markdown",
   "metadata": {},
   "source": [
    "### 1.1 - Atributos e Métodos"
   ]
  },
  {
   "cell_type": "markdown",
   "metadata": {},
   "source": [
    "Aqui vamos declarar a classe com o atributo *dominio* e dois metédos, o inicializador (*init*) e o *url_completo*."
   ]
  },
  {
   "cell_type": "code",
   "execution_count": 8,
   "metadata": {},
   "outputs": [],
   "source": [
    "class PaginaWebExemplo: # classe pertencente ao mesmo contexto do url de um site\n",
    "    dominio = \"exemplo.com.br\"\n",
    "    \n",
    "    def __init__(self, href): # método inicicializador é representador por __init__ (dander init). E o self é uma autorreferência à instância, ou seja, o próprio objeto\n",
    "        self.href = href\n",
    "        \n",
    "    def url_completo(self): # método comum que recebe o href do método inicializador e retorna o url completo\n",
    "        return f\"www.{self.dominio}/{self.href}\""
   ]
  },
  {
   "cell_type": "markdown",
   "metadata": {},
   "source": [
    "### 1.2 - Instâncias"
   ]
  },
  {
   "cell_type": "markdown",
   "metadata": {},
   "source": [
    "Nesta parte vamos utilizar a classe que criamos anteriormente, ou **instanciar** a nossa classe. E são as variáveis *pagina_inicial* e *pagina_sobre* vão receber as instâncias da nossa classe."
   ]
  },
  {
   "cell_type": "code",
   "execution_count": 11,
   "metadata": {},
   "outputs": [
    {
     "name": "stdout",
     "output_type": "stream",
     "text": [
      "www.exemplo.com.br/home\n",
      "www.exemplo.com.br/about\n"
     ]
    }
   ],
   "source": [
    "pagina_inicial = PaginaWebExemplo(\"home\") # instanciando a classe PaginaWebExemplo com o argumento \"home\" que será passado como arumento do método inicializador\n",
    "print(pagina_inicial.url_completo()) # aqui pedimos pra printar a variável página inicial seguida do método url_completo\n",
    "\n",
    "pagina_sobre = PaginaWebExemplo(\"about\")\n",
    "print(pagina_sobre.url_completo())"
   ]
  },
  {
   "cell_type": "markdown",
   "metadata": {},
   "source": [
    "## 2 - Herança"
   ]
  },
  {
   "cell_type": "markdown",
   "metadata": {},
   "source": [
    "Herança é um mecanismo que permite que uma classe herde métodos e atributos de outra classe."
   ]
  },
  {
   "cell_type": "code",
   "execution_count": 13,
   "metadata": {},
   "outputs": [
    {
     "name": "stdout",
     "output_type": "stream",
     "text": [
      "https://www.exemplo.com.br/home\n"
     ]
    }
   ],
   "source": [
    "class PaginaWebExemploSeguro(PaginaWebExemplo): # aqui a classe PaginaWebExemploSeguro herda os métodos e atributos da classe PaginaWebExemplo\n",
    "    def url_completo_seguro(self):\n",
    "        return f\"https://www.{self.dominio}/{self.href}\"\n",
    "\n",
    "pagina_inicial = PaginaWebExemploSeguro(\"home\")\n",
    "print(pagina_inicial.url_completo_seguro())"
   ]
  },
  {
   "cell_type": "markdown",
   "metadata": {},
   "source": [
    "## 3 - Sobreposição"
   ]
  },
  {
   "cell_type": "markdown",
   "metadata": {},
   "source": [
    "No contexto de classes, sobreposição é o mecanismo que permite que métodos e atributos herdados possam ser substituídos por outros mais adequados."
   ]
  },
  {
   "cell_type": "code",
   "execution_count": 16,
   "metadata": {},
   "outputs": [
    {
     "name": "stdout",
     "output_type": "stream",
     "text": [
      "https://exemplo.com.br/home\n"
     ]
    }
   ],
   "source": [
    "class PaginaWeb:\n",
    "    dominio = ''\n",
    "    \n",
    "    def __init__(self, href):\n",
    "        self.href = href\n",
    "    \n",
    "    def url_completo(self):\n",
    "        return f\"www.{self.dominio}/{self.href}\"\n",
    "    \n",
    "class PaginaWebSeguro(PaginaWeb):\n",
    "    def url_completo(self): # aqui o método url_completo da classe PaginaWebSeguro sobrepõe o mesmo método herdado pela classe PaginaWeb\n",
    "        return f\"https://www.{self.dominio}/{self.href}\"\n",
    "    \n",
    "class PaginaWebExemploSeguro(PaginaWebSeguro):\n",
    "    dominio = \"exemplo.com.br\" # aqui o atributo domínio da classe PaginaWebExemploSeguro está substituindo o atributo herdado por PaginaWebSeguro que, por sua vez, herdou da classe PaginaWeb\n",
    "    \n",
    "pagina_inicial = PaginaWebExemploSeguro(\"home\")\n",
    "print(pagina_inicial.url_completo())"
   ]
  }
 ],
 "metadata": {
  "kernelspec": {
   "display_name": "env",
   "language": "python",
   "name": "python3"
  },
  "language_info": {
   "codemirror_mode": {
    "name": "ipython",
    "version": 3
   },
   "file_extension": ".py",
   "mimetype": "text/x-python",
   "name": "python",
   "nbconvert_exporter": "python",
   "pygments_lexer": "ipython3",
   "version": "3.11.3"
  },
  "orig_nbformat": 4
 },
 "nbformat": 4,
 "nbformat_minor": 2
}
