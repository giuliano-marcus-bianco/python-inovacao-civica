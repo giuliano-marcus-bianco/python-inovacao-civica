{
 "cells": [
  {
   "cell_type": "markdown",
   "metadata": {},
   "source": [
    "# 3.6 - Anlisando páginas da web: inspecionando a rede"
   ]
  },
  {
   "cell_type": "markdown",
   "metadata": {},
   "source": [
    "Nesta aula foram vistos os seguintes tópicos:\n",
    "1. Analisador de Rede;\n",
    "2. Scrapy Shell."
   ]
  },
  {
   "cell_type": "markdown",
   "metadata": {},
   "source": [
    "Como exemplo, vamos acessar os dados do [Diário Oficial da cidade de Natal (RN)](https://www.natal.rn.gov.br/dom)."
   ]
  },
  {
   "cell_type": "markdown",
   "metadata": {},
   "source": [
    "## 1. Analisado de Rede"
   ]
  },
  {
   "cell_type": "markdown",
   "metadata": {},
   "source": [
    "Aberta a aba *Network* do Inspetor de Código, ativar as opções *Preserve log* e *Disable cache* para não perder as requisições e fazer elas desde o início, respectivamente. No menu *Settings*, ir na aba *Preferences* e habilitar a opção *Auto-open DevTools for popups* para podermos analisar a requisição quando clicarmos em algum link."
   ]
  },
  {
   "cell_type": "markdown",
   "metadata": {},
   "source": [
    "Feita a requisição, filtre-as na aba *Doc*, onde aparecem os arquivos HTML e XML, por exemplo. Também é interessante selecionar o campo *FetchXHR*. Segure o Ctrl para selecionar as duas abas simultaneamente."
   ]
  },
  {
   "cell_type": "markdown",
   "metadata": {},
   "source": [
    "No caso do Diário Oficial de Natal, acessando a primeira requisição, *dom*, é possível ver na aba *Headers* o cabeçalho de informações da requisição que foi feita. Por exemplo, a URL da soliciatação (https://natal.rn.gov.br/dom), o método da solicitação (GET) e o status da solicitação (200 OK). Na aba *Response* é possível ver o mesmo código fonte que foi visto na aula passada."
   ]
  },
  {
   "cell_type": "markdown",
   "metadata": {},
   "source": [
    "Já na aba *Response* da segunda requisição do site, é possível ver um código json com links para documentos. Neste código é possível encontrar links de pdf e, copiando esses link e procurando nos elementos da página, percebe-se que são os mesmo que estão levam às diferentes edições do Diário Oficial de Natal. Logo, dá para concluir que nesta segunda requisição são gerados os elementos dinâmicos da página onde se encontram os arquivos que queremos extrair."
   ]
  },
  {
   "cell_type": "markdown",
   "metadata": {},
   "source": [
    "Ao usar um filtro para buscar as edições do mês de Janeiro de 2023, a seguinte requisição é exibida no Inspetor de Rede:"
   ]
  },
  {
   "cell_type": "markdown",
   "metadata": {},
   "source": [
    "https://natal.rn.gov.br/api/dom/data/01/2023?_=1689139076413"
   ]
  },
  {
   "cell_type": "markdown",
   "metadata": {},
   "source": [
    "Fazendo uma análise mais profinda, é possível perceber que os números após o caminho \"data,  \"01\" e \"2023\", são referentes ao mês e ano da busca, respectivamente. Ou seja, através dessa URL é possível criar um código que faça a iteração por todos os meses e anos em que as edições do Diário Oficial de Natal tenham sido publicadas."
   ]
  },
  {
   "cell_type": "markdown",
   "metadata": {},
   "source": [
    "Já o número bem grande no final da URL, \"1689139076413\", ainda não é possível se é necessário para a nossa raspagem ou não."
   ]
  },
  {
   "cell_type": "markdown",
   "metadata": {},
   "source": [
    "A resposta dessa requisição é o seguinte json:"
   ]
  },
  {
   "cell_type": "code",
   "execution_count": null,
   "metadata": {},
   "outputs": [],
   "source": [
    "{\n",
    "    \"data\": [\n",
    "        [\n",
    "            \"<a href='https:\\/\\/natal.rn.gov.br\\/storage\\/app\\/media\\/DOM\\/anexos\\/dom_20221230_dd848b1774ebcec295a9c94a68451dd0.pdf' target='_blank'> Ano XXII - Num. 5069 - 02\\/01\\/2023<\\/a>\"\n",
    "        ],\n",
    "        [\n",
    "            \"<a href='https:\\/\\/natal.rn.gov.br\\/storage\\/app\\/media\\/DOM\\/anexos\\/dom_20230103_3f52dc0736faf9985117a6a8bb0bb1de.pdf' target='_blank'> Ano XXIII - Num. 5070 - 03\\/01\\/2023<\\/a>\"\n",
    "        ],\n",
    "        [\n",
    "            \"<a href='https:\\/\\/natal.rn.gov.br\\/storage\\/app\\/media\\/DOM\\/anexos\\/dom_20230103_eb4fb0dfaf1fb9dc4aac2900b9b65a01.pdf' target='_blank'> Ano XXIII - Num. 5071 - 04\\/01\\/2023<\\/a>\"\n",
    "        ],\n",
    "        [\n",
    "            \"<a href='https:\\/\\/natal.rn.gov.br\\/storage\\/app\\/media\\/DOM\\/anexos\\/dom_20230105_db630c7bcd8743a1295ec3f50315e97e.pdf' target='_blank'> Ano XXIII - Num. 5072 - 05\\/01\\/2023<\\/a>\"\n",
    "        ],\n",
    "        [\n",
    "            \"<a href='https:\\/\\/natal.rn.gov.br\\/storage\\/app\\/media\\/DOM\\/anexos\\/dom_20230105_7698083adf79736608eaafc60c64cf82.pdf' target='_blank'> Ano XXIII - Num. 5073 - 06\\/01\\/2023<\\/a>\"\n",
    "        ],\n",
    "        [\n",
    "            \"<a href='https:\\/\\/natal.rn.gov.br\\/storage\\/app\\/media\\/DOM\\/anexos\\/dom_20230109_78673ef9936417919cb3676d9421858d.pdf' target='_blank'> Ano XXIII - Num. 5074 - 10\\/01\\/2023<\\/a>\"\n",
    "        ],\n",
    "        [\n",
    "            \"<a href='https:\\/\\/natal.rn.gov.br\\/storage\\/app\\/media\\/DOM\\/anexos\\/dom_20230111_faa6c96c6d3ca6223b17e59177f4b38b.pdf' target='_blank'> Ano XXIII - Num. 5075 - 11\\/01\\/2023<\\/a>\"\n",
    "        ],\n",
    "        [\n",
    "            \"<a href='https:\\/\\/natal.rn.gov.br\\/storage\\/app\\/media\\/DOM\\/anexos\\/dom_20230111_742bfe54899eda90cf7a2864607f43b8.pdf' target='_blank'> Ano XXIII - Num. 5076 - 12\\/01\\/2023<\\/a>\"\n",
    "        ],\n",
    "        [\n",
    "            \"<a href='https:\\/\\/natal.rn.gov.br\\/storage\\/app\\/media\\/DOM\\/anexos\\/dom_20230113_f177b02e35e4b8a72ba9031891d9ee0f.pdf' target='_blank'> Ano XXIII - Num. 5077 - 13\\/01\\/2023<\\/a>\"\n",
    "        ],\n",
    "        [\n",
    "            \"<a href='https:\\/\\/natal.rn.gov.br\\/storage\\/app\\/media\\/DOM\\/anexos\\/dom_20230115_0e1652543475288cc0e987eccdc65f2d.pdf' target='_blank'> Ano XXIII - Num. 5078 - 16\\/01\\/2023<\\/a>\"\n",
    "        ],\n",
    "        [\n",
    "            \"<a href='https:\\/\\/natal.rn.gov.br\\/storage\\/app\\/media\\/DOM\\/anexos\\/dom_20230117_c9bac7b99c06a4f32a90ee1a719c98de.pdf' target='_blank'> Ano XXIII - Num. 5079 - 17\\/01\\/2023<\\/a>\"\n",
    "        ],\n",
    "        [\n",
    "            \"<a href='https:\\/\\/natal.rn.gov.br\\/storage\\/app\\/media\\/DOM\\/anexos\\/dom_20230117_eb972110242613d930422a05d5432505.pdf' target='_blank'> Ano XXIII - Num. 5080 - 18\\/01\\/2023<\\/a>\"\n",
    "        ],\n",
    "        [\n",
    "            \"<a href='https:\\/\\/natal.rn.gov.br\\/storage\\/app\\/media\\/DOM\\/anexos\\/dom_20230119_5697245a2a08081dfec0a52200d993a0.pdf' target='_blank'> Ano XXIII - Num. 5081 - 19\\/01\\/2023<\\/a>\"\n",
    "        ],\n",
    "        [\n",
    "            \"<a href='https:\\/\\/natal.rn.gov.br\\/storage\\/app\\/media\\/DOM\\/anexos\\/dom_20230119_extra_7229d6bde94452cfcd0505025b232d10.pdf' target='_blank'> Ano XXIII - Num. 5082 - Extra - 19\\/01\\/2023<\\/a>\"\n",
    "        ],\n",
    "        [\n",
    "            \"<a href='https:\\/\\/natal.rn.gov.br\\/storage\\/app\\/media\\/DOM\\/anexos\\/dom_20230119_3f131817f5e6ea83b609f1c89211eb78.pdf' target='_blank'> Ano XXIII - Num. 5083 - 20\\/01\\/2023<\\/a>\"\n",
    "        ],\n",
    "        [\n",
    "            \"<a href='https:\\/\\/natal.rn.gov.br\\/storage\\/app\\/media\\/DOM\\/anexos\\/dom_20230123_2b3123ac7de2140a795d65dc5a11c3bf.pdf' target='_blank'> Ano XXIII - Num. 5084 - 23\\/01\\/2023<\\/a>\"\n",
    "        ],\n",
    "        [\n",
    "            \"<a href='https:\\/\\/natal.rn.gov.br\\/storage\\/app\\/media\\/DOM\\/anexos\\/dom_20230123_7e760bf4b0ee8b3624a2ea56f2d29d13.pdf' target='_blank'> Ano XXIII - Num. 5085 - 24\\/01\\/2023<\\/a>\"\n",
    "        ],\n",
    "        [\n",
    "            \"<a href='https:\\/\\/natal.rn.gov.br\\/storage\\/app\\/media\\/DOM\\/anexos\\/dom_20230124_extra_fd1916a3d988d604e0e8f005047b3546.pdf' target='_blank'> Ano XXIII - Num. 5086 - Extra - 24\\/01\\/2023<\\/a>\"\n",
    "        ],\n",
    "        [\n",
    "            \"<a href='https:\\/\\/natal.rn.gov.br\\/storage\\/app\\/media\\/DOM\\/anexos\\/dom_20230125_878f3b9b2765b6132847d1b098fa186c.pdf' target='_blank'> Ano XXIII - Num. 5087 - 25\\/01\\/2023<\\/a>\"\n",
    "        ],\n",
    "        [\n",
    "            \"<a href='https:\\/\\/natal.rn.gov.br\\/storage\\/app\\/media\\/DOM\\/anexos\\/dom_20230126_9c39bdb7c4e51805aa3c1fb753b049ca.pdf' target='_blank'> Ano XXIII - Num. 5088 - 26\\/01\\/2023<\\/a>\"\n",
    "        ],\n",
    "        [\n",
    "            \"<a href='https:\\/\\/natal.rn.gov.br\\/storage\\/app\\/media\\/DOM\\/anexos\\/dom_20230127_f997528236a9ed6746531f6fbd7abe96.pdf' target='_blank'> Ano XXIII - Num. 5089 - 27\\/01\\/2023<\\/a>\"\n",
    "        ],\n",
    "        [\n",
    "            \"<a href='https:\\/\\/natal.rn.gov.br\\/storage\\/app\\/media\\/DOM\\/anexos\\/dom_20230130_ef76d916bd76fc7f10c6fb0b45e59235.pdf' target='_blank'> Ano XXIII - Num. 5090 - 30\\/01\\/2023<\\/a>\"\n",
    "        ],\n",
    "        [\n",
    "            \"<a href='https:\\/\\/natal.rn.gov.br\\/storage\\/app\\/media\\/DOM\\/anexos\\/dom_20230130_extra_4f7a9c5823be1506dcdc3fcc70ac0876.pdf' target='_blank'> Ano XXIII - Num. 5091 - Extra - 30\\/01\\/2023<\\/a>\"\n",
    "        ],\n",
    "        [\n",
    "            \"<a href='https:\\/\\/natal.rn.gov.br\\/storage\\/app\\/media\\/DOM\\/anexos\\/dom_20230131_195d0b8293adeee2670915504bdae97f.pdf' target='_blank'> Ano XXIII - Num. 5092 - 31\\/01\\/2023<\\/a>\"\n",
    "        ]\n",
    "    ]\n",
    "}"
   ]
  },
  {
   "cell_type": "markdown",
   "metadata": {},
   "source": [
    "As URLs que estão nos hrefs de cada um desses links são o acesso para os documentos pdf de cada uma das edições de janeiro do Diário Oficial de Natal. Ou seja, a resposta dessa requisição é um lugar chave para conseguirmos o que precisamos para o nosso raspador."
   ]
  },
  {
   "cell_type": "markdown",
   "metadata": {},
   "source": [
    "## 2. Scrapy Shell"
   ]
  },
  {
   "cell_type": "markdown",
   "metadata": {},
   "source": [
    "Para testar essa hipótese de que encontramos a requisição e os elementos necessários para o nosso raspador, vamos validar essa ideia utilizando o Scrapy. Rode o comando abaixo **no terminal** para ver alguns objetos e atalhos disponíveis para isso."
   ]
  },
  {
   "cell_type": "code",
   "execution_count": null,
   "metadata": {},
   "outputs": [],
   "source": [
    "# scrapy shell"
   ]
  },
  {
   "cell_type": "markdown",
   "metadata": {},
   "source": [
    "Os atalhos são as funções, principalmente a *fetch* e a *view*, em que passamos uma requisição pela primeira e a segunda nos possibilita ver a resposta direto no navegador."
   ]
  },
  {
   "cell_type": "markdown",
   "metadata": {},
   "source": [
    "No terminal mesmo, damos as seguintes instruções:"
   ]
  },
  {
   "cell_type": "code",
   "execution_count": null,
   "metadata": {},
   "outputs": [],
   "source": [
    "url = \"https://natal.rn.gov.br/api/dom/data/01/2023\"\n",
    "req = scrapy.Request(url)\n",
    "fetch(req)\n",
    "view(response)"
   ]
  },
  {
   "cell_type": "markdown",
   "metadata": {},
   "source": [
    "Fazendo isso, é possível ver que o retorno dessa requisição é o mesmo daquele visto no Inspetor de Códigos. Agora, para testar a teoria da busca por mês e ano, vamos sobrescrever os valores \"01\" e o \"2023\" na url para o seguinte:"
   ]
  },
  {
   "cell_type": "code",
   "execution_count": null,
   "metadata": {},
   "outputs": [],
   "source": [
    "url = \"https://natal.rn.gov.br/api/dom/data/02/2020\""
   ]
  },
  {
   "cell_type": "markdown",
   "metadata": {},
   "source": [
    "Feito isso, a teoria se confirma. Os números após o trecho \"data\" são os filtros de mês e ano das edições do Diário Oficial de Natal."
   ]
  }
 ],
 "metadata": {
  "kernelspec": {
   "display_name": "env",
   "language": "python",
   "name": "python3"
  },
  "language_info": {
   "codemirror_mode": {
    "name": "ipython",
    "version": 3
   },
   "file_extension": ".py",
   "mimetype": "text/x-python",
   "name": "python",
   "nbconvert_exporter": "python",
   "pygments_lexer": "ipython3",
   "version": "3.11.3"
  },
  "orig_nbformat": 4
 },
 "nbformat": 4,
 "nbformat_minor": 2
}
