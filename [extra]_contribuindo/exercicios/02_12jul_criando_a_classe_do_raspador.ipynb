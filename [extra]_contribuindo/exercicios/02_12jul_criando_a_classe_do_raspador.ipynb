{
 "cells": [
  {
   "cell_type": "markdown",
   "metadata": {},
   "source": [
    "# Tarefa para 12 / jul: criar classe para o raspador"
   ]
  },
  {
   "cell_type": "markdown",
   "metadata": {},
   "source": [
    "Para ajustar a configuração inicial do rapspador, serão importadas as biblitecas usadas, bem como definindo a classe do mesmo utilizando os comandos abaixo:"
   ]
  },
  {
   "cell_type": "code",
   "execution_count": null,
   "metadata": {},
   "outputs": [],
   "source": [
    "import datetime # biblioteca para manipular datas\n",
    "import re # biblioteca para manipular regex\n",
    "import scrapy\n",
    "from gazette.items import Gazette # importando a classe Gazette para utilizar no retorno do método parse\n",
    "from gazette.spiders.base import BaseGazetteSpider # importando classe básica para trabalhar o raspador\n",
    "\n",
    "class ToPortoNacionalSpider(BaseGazetteSpider): # definindo a classe para o raspador do diário oficial de Porto Nacional\n",
    "    name = \"to_porto_nacional\" # nome do raspador\n",
    "    TERRITORY_ID = \"1718204\" # id da cidade segundo o IBGE\n",
    "    allowed_domains = [\"diariooficial.portonacional.to.gov.br\"]\n",
    "    start_date = datetime.date(2017, 4, 3) # data inicial da raspagem\n",
    "    start_url = [\"https://www.diariooficial.portonacional.to.gov.br/edicoes\"] # url de partida do raspador"
   ]
  },
  {
   "cell_type": "markdown",
   "metadata": {},
   "source": [
    "A partir dessa configuração inicial, iremos construir uma função que leia linha por linha da tabela de edições do Diário Oficial."
   ]
  },
  {
   "cell_type": "code",
   "execution_count": null,
   "metadata": {},
   "outputs": [],
   "source": [
    "def parse(self, response):  # definição da função parse que vai receber o url\n",
    "            \n",
    "    editions = \"recebe a tabela onde estão as edições do diário oficial\"\n",
    "\n",
    "    for edition in editions: # for para cada linha da tabela definida em editions\n",
    "        link = \"recebe o link edição em pdf vinda do href\"\n",
    "        title = \"recebe o título da edição vinda do texto em strong\"\n",
    "        edition_number = \"recebe o número da edição vindo da busca no título da edição\"\n",
    "        date_text = \"recebe a data vinda do texto após o br\"\n",
    "        day, month, year = \"recebe dia, mês e ano da busca feita na data\"\n",
    "        date = \"transforma a data em datetime\""
   ]
  }
 ],
 "metadata": {
  "language_info": {
   "name": "python"
  },
  "orig_nbformat": 4
 },
 "nbformat": 4,
 "nbformat_minor": 2
}
